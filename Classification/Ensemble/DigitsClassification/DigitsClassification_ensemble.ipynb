{
 "cells": [
  {
   "cell_type": "markdown",
   "metadata": {
    "id": "bMWlrrLFrEqg"
   },
   "source": [
    "# Classifying Digits using ensemble techniques"
   ]
  },
  {
   "cell_type": "code",
   "execution_count": 22,
   "metadata": {
    "id": "Upys4TkxrEqi"
   },
   "outputs": [],
   "source": [
    "%matplotlib inline\n",
    "import matplotlib.pyplot as plt\n",
    "import seaborn as sns; sns.set()\n",
    "from sklearn.metrics import classification_report\n",
    "from sklearn.datasets import load_digits\n",
    "from sklearn.model_selection import train_test_split\n",
    "\n",
    "from sklearn.ensemble import RandomForestClassifier , AdaBoostClassifier , GradientBoostingClassifier\n",
    "from sklearn.tree import DecisionTreeClassifier\n",
    "\n",
    "from sklearn.metrics import confusion_matrix\n",
    "from sklearn import metrics\n"
   ]
  },
  {
   "cell_type": "code",
   "execution_count": 13,
   "metadata": {
    "colab": {
     "base_uri": "https://localhost:8080/"
    },
    "id": "21HC6y85rErD",
    "outputId": "2f7664ef-cdeb-4ba4-c565-76b9bd161e22"
   },
   "outputs": [
    {
     "data": {
      "text/plain": [
       "dict_keys(['data', 'target', 'frame', 'feature_names', 'target_names', 'images', 'DESCR'])"
      ]
     },
     "execution_count": 13,
     "metadata": {},
     "output_type": "execute_result"
    }
   ],
   "source": [
    "digits = load_digits()\n",
    "digits.keys()"
   ]
  },
  {
   "cell_type": "markdown",
   "metadata": {
    "id": "M0blZUeMrErF"
   },
   "source": [
    "To remind us what we're looking at, we'll visualize the first few data points:"
   ]
  },
  {
   "cell_type": "code",
   "execution_count": 14,
   "metadata": {
    "colab": {
     "base_uri": "https://localhost:8080/",
     "height": 463
    },
    "id": "g9ZbiO1BrErG",
    "outputId": "c074c68d-b037-4d71-ec91-88ff3cd6dc33"
   },
   "outputs": [
    {
     "data": {
      "image/png": "[encoded data removed]",
      "text/plain": [
       "<Figure size 432x432 with 64 Axes>"
      ]
     },
     "metadata": {},
     "output_type": "display_data"
    }
   ],
   "source": [
    "# set up the figure\n",
    "fig = plt.figure(figsize=(6, 6))  # figure size in inches\n",
    "fig.subplots_adjust(left=0, right=1, bottom=0, top=1, hspace=0.05, wspace=0.05)\n",
    "\n",
    "# plot the digits: each image is 8x8 pixels\n",
    "for i in range(64):\n",
    "    ax = fig.add_subplot(8, 8, i + 1, xticks=[], yticks=[])\n",
    "    ax.imshow(digits.images[i], cmap=plt.cm.binary, interpolation='nearest')\n",
    "    \n",
    "    # label the image with the target value\n",
    "    ax.text(0, 7, str(digits.target[i]))"
   ]
  },
  {
   "cell_type": "markdown",
   "metadata": {
    "id": "m3K1nF0brErH"
   },
   "source": [
    "We can quickly classify the digits using a random forest as follows:"
   ]
  },
  {
   "cell_type": "code",
   "execution_count": 15,
   "metadata": {
    "colab": {
     "base_uri": "https://localhost:8080/"
    },
    "id": "ZNwb2B9D5x6E",
    "outputId": "56aa717a-a189-4b7b-991d-241a496efb75"
   },
   "outputs": [
    {
     "data": {
      "text/plain": [
       "(1797, 8, 8)"
      ]
     },
     "execution_count": 15,
     "metadata": {},
     "output_type": "execute_result"
    }
   ],
   "source": [
    "digits.images.shape"
   ]
  },
  {
   "cell_type": "code",
   "execution_count": 16,
   "metadata": {
    "colab": {
     "base_uri": "https://localhost:8080/"
    },
    "id": "Fqr5qyzB6Uxe",
    "outputId": "edf08e2a-9755-489a-f653-aab43e206344"
   },
   "outputs": [
    {
     "data": {
      "text/plain": [
       "(1797, 64)"
      ]
     },
     "execution_count": 16,
     "metadata": {},
     "output_type": "execute_result"
    }
   ],
   "source": [
    "digits.data.shape"
   ]
  },
  {
   "cell_type": "code",
   "execution_count": 17,
   "metadata": {
    "id": "jfF66i9d58h2"
   },
   "outputs": [],
   "source": [
    "Xtrain, Xtest, ytrain, ytest = train_test_split(digits.data, digits.target,\n",
    "                                                random_state=0)"
   ]
  },
  {
   "cell_type": "code",
   "execution_count": 18,
   "metadata": {
    "colab": {
     "base_uri": "https://localhost:8080/"
    },
    "id": "C68IytnC59uo",
    "outputId": "19cfdbbb-e213-4e48-dae0-561a40e3563d"
   },
   "outputs": [
    {
     "data": {
      "text/plain": [
       "((1347, 64), (450, 64), (1347,), (450,))"
      ]
     },
     "execution_count": 18,
     "metadata": {},
     "output_type": "execute_result"
    }
   ],
   "source": [
    "Xtrain.shape, Xtest.shape, ytrain.shape, ytest.shape"
   ]
  },
  {
   "cell_type": "markdown",
   "metadata": {},
   "source": [
    "## DecisionTreeClassifier"
   ]
  },
  {
   "cell_type": "code",
   "execution_count": 29,
   "metadata": {},
   "outputs": [
    {
     "name": "stdout",
     "output_type": "stream",
     "text": [
      "              precision    recall  f1-score   support\n",
      "\n",
      "           0       0.92      0.89      0.91        38\n",
      "           1       0.81      0.90      0.85        39\n",
      "           2       0.84      0.82      0.83        45\n",
      "           3       0.80      0.69      0.74        52\n",
      "           4       0.84      0.82      0.83        39\n",
      "           5       0.90      0.88      0.89        49\n",
      "           6       0.94      1.00      0.97        49\n",
      "           7       0.81      0.95      0.88        41\n",
      "           8       0.81      0.83      0.82        47\n",
      "           9       0.83      0.76      0.80        51\n",
      "\n",
      "    accuracy                           0.85       450\n",
      "   macro avg       0.85      0.86      0.85       450\n",
      "weighted avg       0.85      0.85      0.85       450\n",
      "\n"
     ]
    }
   ],
   "source": [
    "model = DecisionTreeClassifier()\n",
    "model.fit(Xtrain, ytrain)\n",
    "ypred = model.predict(Xtest)\n",
    "print(metrics.classification_report(ypred, ytest))"
   ]
  },
  {
   "cell_type": "code",
   "execution_count": 33,
   "metadata": {},
   "outputs": [
    {
     "name": "stdout",
     "output_type": "stream",
     "text": [
      "              precision    recall  f1-score   support\n",
      "\n",
      "           0       1.00      1.00      1.00       141\n",
      "           1       1.00      1.00      1.00       139\n",
      "           2       1.00      1.00      1.00       133\n",
      "           3       1.00      1.00      1.00       138\n",
      "           4       1.00      1.00      1.00       143\n",
      "           5       1.00      1.00      1.00       134\n",
      "           6       1.00      1.00      1.00       129\n",
      "           7       1.00      1.00      1.00       131\n",
      "           8       1.00      1.00      1.00       126\n",
      "           9       1.00      1.00      1.00       133\n",
      "\n",
      "    accuracy                           1.00      1347\n",
      "   macro avg       1.00      1.00      1.00      1347\n",
      "weighted avg       1.00      1.00      1.00      1347\n",
      "\n"
     ]
    }
   ],
   "source": [
    "# Training accuracy\n",
    "ypred = model.predict(Xtrain)\n",
    "print(metrics.classification_report(ypred, ytrain))"
   ]
  },
  {
   "cell_type": "markdown",
   "metadata": {},
   "source": [
    "## RandomForestClassifier"
   ]
  },
  {
   "cell_type": "code",
   "execution_count": 19,
   "metadata": {
    "id": "jM4fvXvGrErH"
   },
   "outputs": [],
   "source": [
    "model = RandomForestClassifier(n_estimators=100)\n",
    "model.fit(Xtrain, ytrain)\n",
    "ypred = model.predict(Xtest)"
   ]
  },
  {
   "cell_type": "markdown",
   "metadata": {
    "id": "psTjXpQWrErH"
   },
   "source": [
    "We can take a look at the classification report for this classifier:"
   ]
  },
  {
   "cell_type": "code",
   "execution_count": 23,
   "metadata": {
    "colab": {
     "base_uri": "https://localhost:8080/"
    },
    "id": "m6blxvH_rErH",
    "outputId": "6a178abb-aed7-4b80-a055-8dcb6019ac86"
   },
   "outputs": [
    {
     "name": "stdout",
     "output_type": "stream",
     "text": [
      "              precision    recall  f1-score   support\n",
      "\n",
      "           0       1.00      0.97      0.99        38\n",
      "           1       1.00      0.98      0.99        44\n",
      "           2       0.95      1.00      0.98        42\n",
      "           3       0.96      0.93      0.95        46\n",
      "           4       0.97      1.00      0.99        37\n",
      "           5       0.98      0.98      0.98        48\n",
      "           6       1.00      1.00      1.00        52\n",
      "           7       1.00      0.98      0.99        49\n",
      "           8       0.94      0.98      0.96        46\n",
      "           9       0.98      0.96      0.97        48\n",
      "\n",
      "    accuracy                           0.98       450\n",
      "   macro avg       0.98      0.98      0.98       450\n",
      "weighted avg       0.98      0.98      0.98       450\n",
      "\n"
     ]
    }
   ],
   "source": [
    "print(metrics.classification_report(ypred, ytest))"
   ]
  },
  {
   "cell_type": "markdown",
   "metadata": {
    "id": "dZ--8o-HrErI"
   },
   "source": [
    "And for good measure, plot the confusion matrix:"
   ]
  },
  {
   "cell_type": "code",
   "execution_count": 24,
   "metadata": {
    "colab": {
     "base_uri": "https://localhost:8080/",
     "height": 285
    },
    "id": "bkvqYSSorErI",
    "outputId": "9ffec1ca-199b-45f1-bcb9-183ae638fda9"
   },
   "outputs": [
    {
     "data": {
      "image/png": "[encoded data removed]",
      "text/plain": [
       "<Figure size 432x288 with 1 Axes>"
      ]
     },
     "metadata": {},
     "output_type": "display_data"
    }
   ],
   "source": [
    "mat = confusion_matrix(ytest, ypred)\n",
    "sns.heatmap(mat.T, square=True, annot=True, fmt='d', cbar=False)\n",
    "plt.xlabel('true label')\n",
    "plt.ylabel('predicted label');"
   ]
  },
  {
   "cell_type": "markdown",
   "metadata": {
    "id": "LT_adRy-rErJ"
   },
   "source": [
    "We find that a simple, untuned random forest results in a very accurate classification of the digits data."
   ]
  },
  {
   "cell_type": "markdown",
   "metadata": {},
   "source": [
    "## AdaBoostClassifier"
   ]
  },
  {
   "cell_type": "code",
   "execution_count": 34,
   "metadata": {
    "colab": {
     "base_uri": "https://localhost:8080/"
    },
    "id": "YNJh2Th27Vpc",
    "outputId": "1f766a00-b4e5-4a5d-cac7-aec458f5c423"
   },
   "outputs": [
    {
     "name": "stdout",
     "output_type": "stream",
     "text": [
      "              precision    recall  f1-score   support\n",
      "\n",
      "           0       0.89      0.89      0.89        37\n",
      "           1       0.00      0.00      0.00         0\n",
      "           2       0.00      0.00      0.00         0\n",
      "           3       0.00      0.00      0.00         0\n",
      "           4       0.08      0.08      0.08        36\n",
      "           5       0.02      1.00      0.04         1\n",
      "           6       0.46      0.26      0.34        91\n",
      "           7       0.90      0.16      0.28       262\n",
      "           8       0.00      0.00      0.00         0\n",
      "           9       0.30      0.61      0.40        23\n",
      "\n",
      "    accuracy                           0.26       450\n",
      "   macro avg       0.26      0.30      0.20       450\n",
      "weighted avg       0.71      0.26      0.33       450\n",
      "\n"
     ]
    },
    {
     "name": "stderr",
     "output_type": "stream",
     "text": [
      "c:\\users\\user1\\appdata\\local\\programs\\python\\python38-32\\lib\\site-packages\\sklearn\\metrics\\_classification.py:1308: UndefinedMetricWarning: Recall and F-score are ill-defined and being set to 0.0 in labels with no true samples. Use `zero_division` parameter to control this behavior.\n",
      "  _warn_prf(average, modifier, msg_start, len(result))\n",
      "c:\\users\\user1\\appdata\\local\\programs\\python\\python38-32\\lib\\site-packages\\sklearn\\metrics\\_classification.py:1308: UndefinedMetricWarning: Recall and F-score are ill-defined and being set to 0.0 in labels with no true samples. Use `zero_division` parameter to control this behavior.\n",
      "  _warn_prf(average, modifier, msg_start, len(result))\n",
      "c:\\users\\user1\\appdata\\local\\programs\\python\\python38-32\\lib\\site-packages\\sklearn\\metrics\\_classification.py:1308: UndefinedMetricWarning: Recall and F-score are ill-defined and being set to 0.0 in labels with no true samples. Use `zero_division` parameter to control this behavior.\n",
      "  _warn_prf(average, modifier, msg_start, len(result))\n"
     ]
    }
   ],
   "source": [
    "model = AdaBoostClassifier(n_estimators=100)\n",
    "model.fit(Xtrain, ytrain)\n",
    "ypred = model.predict(Xtest)\n",
    "print(metrics.classification_report(ypred, ytest))"
   ]
  },
  {
   "cell_type": "code",
   "execution_count": 35,
   "metadata": {},
   "outputs": [
    {
     "name": "stdout",
     "output_type": "stream",
     "text": [
      "              precision    recall  f1-score   support\n",
      "\n",
      "           0       0.91      0.93      0.92       138\n",
      "           1       0.00      0.00      0.00         0\n",
      "           2       0.00      0.00      0.00         0\n",
      "           3       0.00      0.00      0.00         0\n",
      "           4       0.16      0.23      0.19       102\n",
      "           5       0.03      0.40      0.06        10\n",
      "           6       0.54      0.27      0.36       260\n",
      "           7       0.96      0.16      0.28       771\n",
      "           8       0.00      0.00      0.00         0\n",
      "           9       0.32      0.65      0.43        66\n",
      "\n",
      "    accuracy                           0.29      1347\n",
      "   macro avg       0.29      0.26      0.22      1347\n",
      "weighted avg       0.78      0.29      0.36      1347\n",
      "\n"
     ]
    },
    {
     "name": "stderr",
     "output_type": "stream",
     "text": [
      "c:\\users\\user1\\appdata\\local\\programs\\python\\python38-32\\lib\\site-packages\\sklearn\\metrics\\_classification.py:1308: UndefinedMetricWarning: Recall and F-score are ill-defined and being set to 0.0 in labels with no true samples. Use `zero_division` parameter to control this behavior.\n",
      "  _warn_prf(average, modifier, msg_start, len(result))\n",
      "c:\\users\\user1\\appdata\\local\\programs\\python\\python38-32\\lib\\site-packages\\sklearn\\metrics\\_classification.py:1308: UndefinedMetricWarning: Recall and F-score are ill-defined and being set to 0.0 in labels with no true samples. Use `zero_division` parameter to control this behavior.\n",
      "  _warn_prf(average, modifier, msg_start, len(result))\n",
      "c:\\users\\user1\\appdata\\local\\programs\\python\\python38-32\\lib\\site-packages\\sklearn\\metrics\\_classification.py:1308: UndefinedMetricWarning: Recall and F-score are ill-defined and being set to 0.0 in labels with no true samples. Use `zero_division` parameter to control this behavior.\n",
      "  _warn_prf(average, modifier, msg_start, len(result))\n"
     ]
    }
   ],
   "source": [
    "model = AdaBoostClassifier(n_estimators=100)\n",
    "model.fit(Xtrain, ytrain)\n",
    "ypred = model.predict(Xtrain)\n",
    "print(metrics.classification_report(ypred, ytrain))"
   ]
  },
  {
   "cell_type": "markdown",
   "metadata": {},
   "source": [
    "## GradientBoostingClassifier"
   ]
  },
  {
   "cell_type": "code",
   "execution_count": 26,
   "metadata": {
    "colab": {
     "base_uri": "https://localhost:8080/",
     "height": 605
    },
    "id": "E7rrK1QP7lC5",
    "outputId": "8e73b732-404d-407c-87a0-2cde99c49d2a"
   },
   "outputs": [
    {
     "name": "stdout",
     "output_type": "stream",
     "text": [
      "              precision    recall  f1-score   support\n",
      "\n",
      "           0       0.97      0.92      0.95        39\n",
      "           1       0.98      0.95      0.97        44\n",
      "           2       0.91      1.00      0.95        40\n",
      "           3       0.93      0.95      0.94        44\n",
      "           4       0.95      0.97      0.96        37\n",
      "           5       0.96      0.96      0.96        48\n",
      "           6       0.94      1.00      0.97        49\n",
      "           7       0.98      0.96      0.97        49\n",
      "           8       0.98      0.90      0.94        52\n",
      "           9       0.94      0.92      0.93        48\n",
      "\n",
      "    accuracy                           0.95       450\n",
      "   macro avg       0.95      0.95      0.95       450\n",
      "weighted avg       0.95      0.95      0.95       450\n",
      "\n"
     ]
    },
    {
     "data": {
      "image/png": "[encoded data removed]",
      "text/plain": [
       "<Figure size 432x288 with 1 Axes>"
      ]
     },
     "metadata": {},
     "output_type": "display_data"
    }
   ],
   "source": [
    "model = GradientBoostingClassifier(n_estimators=100)\n",
    "model.fit(Xtrain, ytrain)\n",
    "ypred = model.predict(Xtest)\n",
    "\n",
    "print(metrics.classification_report(ypred, ytest))\n",
    "\n",
    "mat = confusion_matrix(ytest, ypred)\n",
    "sns.heatmap(mat.T, square=True, annot=True, fmt='d', cbar=False)\n",
    "plt.xlabel('true label')\n",
    "plt.ylabel('predicted label');"
   ]
  },
  {
   "cell_type": "code",
   "execution_count": null,
   "metadata": {},
   "outputs": [],
   "source": []
  }
 ],
 "metadata": {
  "anaconda-cloud": {},
  "colab": {
   "collapsed_sections": [],
   "name": "RandomForest_AdaBoost_GradientBoost.ipynb",
   "provenance": []
  },
  "kernelspec": {
   "display_name": "Python 3",
   "language": "python",
   "name": "python3"
  },
  "language_info": {
   "codemirror_mode": {
    "name": "ipython",
    "version": 3
   },
   "file_extension": ".py",
   "mimetype": "text/x-python",
   "name": "python",
   "nbconvert_exporter": "python",
   "pygments_lexer": "ipython3",
   "version": "3.8.2"
  },
  "widgets": {
   "application/vnd.jupyter.widget-state+json": {
    "20fb920618a7477b9e6a17bbe263509f": {
     "model_module": "@jupyter-widgets/base",
     "model_module_version": "1.2.0",
     "model_name": "LayoutModel",
     "state": {
      "_model_module": "@jupyter-widgets/base",
      "_model_module_version": "1.2.0",
      "_model_name": "LayoutModel",
      "_view_count": null,
      "_view_module": "@jupyter-widgets/base",
      "_view_module_version": "1.2.0",
      "_view_name": "LayoutView",
      "align_content": null,
      "align_items": null,
      "align_self": null,
      "border": null,
      "bottom": null,
      "display": null,
      "flex": null,
      "flex_flow": null,
      "grid_area": null,
      "grid_auto_columns": null,
      "grid_auto_flow": null,
      "grid_auto_rows": null,
      "grid_column": null,
      "grid_gap": null,
      "grid_row": null,
      "grid_template_areas": null,
      "grid_template_columns": null,
      "grid_template_rows": null,
      "height": null,
      "justify_content": null,
      "justify_items": null,
      "left": null,
      "margin": null,
      "max_height": null,
      "max_width": null,
      "min_height": null,
      "min_width": null,
      "object_fit": null,
      "object_position": null,
      "order": null,
      "overflow": null,
      "overflow_x": null,
      "overflow_y": null,
      "padding": null,
      "right": null,
      "top": null,
      "visibility": null,
      "width": null
     }
    },
    "4a7f28f2b11a4036be32466a8d480008": {
     "model_module": "@jupyter-widgets/controls",
     "model_module_version": "1.5.0",
     "model_name": "DropdownModel",
     "state": {
      "_dom_classes": [],
      "_model_module": "@jupyter-widgets/controls",
      "_model_module_version": "1.5.0",
      "_model_name": "DropdownModel",
      "_options_labels": [
       "0",
       "50",
       "75",
       "100"
      ],
      "_view_count": null,
      "_view_module": "@jupyter-widgets/controls",
      "_view_module_version": "1.5.0",
      "_view_name": "DropdownView",
      "description": "random_state",
      "description_tooltip": null,
      "disabled": false,
      "index": 3,
      "layout": "IPY_MODEL_20fb920618a7477b9e6a17bbe263509f",
      "style": "IPY_MODEL_cde67e69ad004faf9f5b1a1f0031f591"
     }
    },
    "542b221b9f9a4eb5b2e438a86b93641e": {
     "model_module": "@jupyter-widgets/base",
     "model_module_version": "1.2.0",
     "model_name": "LayoutModel",
     "state": {
      "_model_module": "@jupyter-widgets/base",
      "_model_module_version": "1.2.0",
      "_model_name": "LayoutModel",
      "_view_count": null,
      "_view_module": "@jupyter-widgets/base",
      "_view_module_version": "1.2.0",
      "_view_name": "LayoutView",
      "align_content": null,
      "align_items": null,
      "align_self": null,
      "border": null,
      "bottom": null,
      "display": null,
      "flex": null,
      "flex_flow": null,
      "grid_area": null,
      "grid_auto_columns": null,
      "grid_auto_flow": null,
      "grid_auto_rows": null,
      "grid_column": null,
      "grid_gap": null,
      "grid_row": null,
      "grid_template_areas": null,
      "grid_template_columns": null,
      "grid_template_rows": null,
      "height": null,
      "justify_content": null,
      "justify_items": null,
      "left": null,
      "margin": null,
      "max_height": null,
      "max_width": null,
      "min_height": null,
      "min_width": null,
      "object_fit": null,
      "object_position": null,
      "order": null,
      "overflow": null,
      "overflow_x": null,
      "overflow_y": null,
      "padding": null,
      "right": null,
      "top": null,
      "visibility": null,
      "width": null
     }
    },
    "5b7d319abe914eaebc055c0926cbfde3": {
     "model_module": "@jupyter-widgets/base",
     "model_module_version": "1.2.0",
     "model_name": "LayoutModel",
     "state": {
      "_model_module": "@jupyter-widgets/base",
      "_model_module_version": "1.2.0",
      "_model_name": "LayoutModel",
      "_view_count": null,
      "_view_module": "@jupyter-widgets/base",
      "_view_module_version": "1.2.0",
      "_view_name": "LayoutView",
      "align_content": null,
      "align_items": null,
      "align_self": null,
      "border": null,
      "bottom": null,
      "display": null,
      "flex": null,
      "flex_flow": null,
      "grid_area": null,
      "grid_auto_columns": null,
      "grid_auto_flow": null,
      "grid_auto_rows": null,
      "grid_column": null,
      "grid_gap": null,
      "grid_row": null,
      "grid_template_areas": null,
      "grid_template_columns": null,
      "grid_template_rows": null,
      "height": null,
      "justify_content": null,
      "justify_items": null,
      "left": null,
      "margin": null,
      "max_height": null,
      "max_width": null,
      "min_height": null,
      "min_width": null,
      "object_fit": null,
      "object_position": null,
      "order": null,
      "overflow": null,
      "overflow_x": null,
      "overflow_y": null,
      "padding": null,
      "right": null,
      "top": null,
      "visibility": null,
      "width": null
     }
    },
    "660e03d99e0c4ee2b41483bb21487239": {
     "model_module": "@jupyter-widgets/controls",
     "model_module_version": "1.5.0",
     "model_name": "VBoxModel",
     "state": {
      "_dom_classes": [
       "widget-interact"
      ],
      "_model_module": "@jupyter-widgets/controls",
      "_model_module_version": "1.5.0",
      "_model_name": "VBoxModel",
      "_view_count": null,
      "_view_module": "@jupyter-widgets/controls",
      "_view_module_version": "1.5.0",
      "_view_name": "VBoxView",
      "box_style": "",
      "children": [
       "IPY_MODEL_ff41471fbdc1402696227fe314df09f5",
       "IPY_MODEL_a45e371841a04233a731e3f724b7f747"
      ],
      "layout": "IPY_MODEL_542b221b9f9a4eb5b2e438a86b93641e"
     }
    },
    "7b8f2b2ccb8d48f5af4e0c41f3b0552b": {
     "model_module": "@jupyter-widgets/base",
     "model_module_version": "1.2.0",
     "model_name": "LayoutModel",
     "state": {
      "_model_module": "@jupyter-widgets/base",
      "_model_module_version": "1.2.0",
      "_model_name": "LayoutModel",
      "_view_count": null,
      "_view_module": "@jupyter-widgets/base",
      "_view_module_version": "1.2.0",
      "_view_name": "LayoutView",
      "align_content": null,
      "align_items": null,
      "align_self": null,
      "border": null,
      "bottom": null,
      "display": null,
      "flex": null,
      "flex_flow": null,
      "grid_area": null,
      "grid_auto_columns": null,
      "grid_auto_flow": null,
      "grid_auto_rows": null,
      "grid_column": null,
      "grid_gap": null,
      "grid_row": null,
      "grid_template_areas": null,
      "grid_template_columns": null,
      "grid_template_rows": null,
      "height": null,
      "justify_content": null,
      "justify_items": null,
      "left": null,
      "margin": null,
      "max_height": null,
      "max_width": null,
      "min_height": null,
      "min_width": null,
      "object_fit": null,
      "object_position": null,
      "order": null,
      "overflow": null,
      "overflow_x": null,
      "overflow_y": null,
      "padding": null,
      "right": null,
      "top": null,
      "visibility": null,
      "width": null
     }
    },
    "a45e371841a04233a731e3f724b7f747": {
     "model_module": "@jupyter-widgets/output",
     "model_module_version": "1.0.0",
     "model_name": "OutputModel",
     "state": {
      "_dom_classes": [],
      "_model_module": "@jupyter-widgets/output",
      "_model_module_version": "1.0.0",
      "_model_name": "OutputModel",
      "_view_count": null,
      "_view_module": "@jupyter-widgets/output",
      "_view_module_version": "1.0.0",
      "_view_name": "OutputView",
      "layout": "IPY_MODEL_f2b3fe7745ac4987ba4e1c7cca0162cd",
      "msg_id": "",
      "outputs": [
       {
        "name": "stderr",
        "output_type": "stream",
        "text": [
         "/usr/local/lib/python3.7/dist-packages/ipykernel_launcher.py:23: UserWarning: The following kwargs were not used by contour: 'clim'\n"
        ]
       },
       {
        "data": {
         "image/png": "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\n",
         "text/plain": "<Figure size 432x288 with 1 Axes>"
        },
        "metadata": {},
        "output_type": "display_data"
       }
      ]
     }
    },
    "a82afd43ba744d07a8a270d86a4fdfbb": {
     "model_module": "@jupyter-widgets/controls",
     "model_module_version": "1.5.0",
     "model_name": "DescriptionStyleModel",
     "state": {
      "_model_module": "@jupyter-widgets/controls",
      "_model_module_version": "1.5.0",
      "_model_name": "DescriptionStyleModel",
      "_view_count": null,
      "_view_module": "@jupyter-widgets/base",
      "_view_module_version": "1.2.0",
      "_view_name": "StyleView",
      "description_width": ""
     }
    },
    "b193304ccd7d43248904e3fc9a4548da": {
     "model_module": "@jupyter-widgets/base",
     "model_module_version": "1.2.0",
     "model_name": "LayoutModel",
     "state": {
      "_model_module": "@jupyter-widgets/base",
      "_model_module_version": "1.2.0",
      "_model_name": "LayoutModel",
      "_view_count": null,
      "_view_module": "@jupyter-widgets/base",
      "_view_module_version": "1.2.0",
      "_view_name": "LayoutView",
      "align_content": null,
      "align_items": null,
      "align_self": null,
      "border": null,
      "bottom": null,
      "display": null,
      "flex": null,
      "flex_flow": null,
      "grid_area": null,
      "grid_auto_columns": null,
      "grid_auto_flow": null,
      "grid_auto_rows": null,
      "grid_column": null,
      "grid_gap": null,
      "grid_row": null,
      "grid_template_areas": null,
      "grid_template_columns": null,
      "grid_template_rows": null,
      "height": null,
      "justify_content": null,
      "justify_items": null,
      "left": null,
      "margin": null,
      "max_height": null,
      "max_width": null,
      "min_height": null,
      "min_width": null,
      "object_fit": null,
      "object_position": null,
      "order": null,
      "overflow": null,
      "overflow_x": null,
      "overflow_y": null,
      "padding": null,
      "right": null,
      "top": null,
      "visibility": null,
      "width": null
     }
    },
    "cde67e69ad004faf9f5b1a1f0031f591": {
     "model_module": "@jupyter-widgets/controls",
     "model_module_version": "1.5.0",
     "model_name": "DescriptionStyleModel",
     "state": {
      "_model_module": "@jupyter-widgets/controls",
      "_model_module_version": "1.5.0",
      "_model_name": "DescriptionStyleModel",
      "_view_count": null,
      "_view_module": "@jupyter-widgets/base",
      "_view_module_version": "1.2.0",
      "_view_name": "StyleView",
      "description_width": ""
     }
    },
    "eb293e370c5642e9a18e480d0275f6cf": {
     "model_module": "@jupyter-widgets/output",
     "model_module_version": "1.0.0",
     "model_name": "OutputModel",
     "state": {
      "_dom_classes": [],
      "_model_module": "@jupyter-widgets/output",
      "_model_module_version": "1.0.0",
      "_model_name": "OutputModel",
      "_view_count": null,
      "_view_module": "@jupyter-widgets/output",
      "_view_module_version": "1.0.0",
      "_view_name": "OutputView",
      "layout": "IPY_MODEL_b193304ccd7d43248904e3fc9a4548da",
      "msg_id": "",
      "outputs": [
       {
        "name": "stderr",
        "output_type": "stream",
        "text": [
         "/usr/local/lib/python3.7/dist-packages/ipykernel_launcher.py:23: UserWarning: The following kwargs were not used by contour: 'clim'\n"
        ]
       },
       {
        "data": {
         "image/png": "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\n",
         "text/plain": "<Figure size 432x288 with 1 Axes>"
        },
        "metadata": {},
        "output_type": "display_data"
       }
      ]
     }
    },
    "f2b3fe7745ac4987ba4e1c7cca0162cd": {
     "model_module": "@jupyter-widgets/base",
     "model_module_version": "1.2.0",
     "model_name": "LayoutModel",
     "state": {
      "_model_module": "@jupyter-widgets/base",
      "_model_module_version": "1.2.0",
      "_model_name": "LayoutModel",
      "_view_count": null,
      "_view_module": "@jupyter-widgets/base",
      "_view_module_version": "1.2.0",
      "_view_name": "LayoutView",
      "align_content": null,
      "align_items": null,
      "align_self": null,
      "border": null,
      "bottom": null,
      "display": null,
      "flex": null,
      "flex_flow": null,
      "grid_area": null,
      "grid_auto_columns": null,
      "grid_auto_flow": null,
      "grid_auto_rows": null,
      "grid_column": null,
      "grid_gap": null,
      "grid_row": null,
      "grid_template_areas": null,
      "grid_template_columns": null,
      "grid_template_rows": null,
      "height": null,
      "justify_content": null,
      "justify_items": null,
      "left": null,
      "margin": null,
      "max_height": null,
      "max_width": null,
      "min_height": null,
      "min_width": null,
      "object_fit": null,
      "object_position": null,
      "order": null,
      "overflow": null,
      "overflow_x": null,
      "overflow_y": null,
      "padding": null,
      "right": null,
      "top": null,
      "visibility": null,
      "width": null
     }
    },
    "f85e1eb27f5e47ba8442e69afb6498d3": {
     "model_module": "@jupyter-widgets/controls",
     "model_module_version": "1.5.0",
     "model_name": "VBoxModel",
     "state": {
      "_dom_classes": [
       "widget-interact"
      ],
      "_model_module": "@jupyter-widgets/controls",
      "_model_module_version": "1.5.0",
      "_model_name": "VBoxModel",
      "_view_count": null,
      "_view_module": "@jupyter-widgets/controls",
      "_view_module_version": "1.5.0",
      "_view_name": "VBoxView",
      "box_style": "",
      "children": [
       "IPY_MODEL_4a7f28f2b11a4036be32466a8d480008",
       "IPY_MODEL_eb293e370c5642e9a18e480d0275f6cf"
      ],
      "layout": "IPY_MODEL_7b8f2b2ccb8d48f5af4e0c41f3b0552b"
     }
    },
    "ff41471fbdc1402696227fe314df09f5": {
     "model_module": "@jupyter-widgets/controls",
     "model_module_version": "1.5.0",
     "model_name": "DropdownModel",
     "state": {
      "_dom_classes": [],
      "_model_module": "@jupyter-widgets/controls",
      "_model_module_version": "1.5.0",
      "_model_name": "DropdownModel",
      "_options_labels": [
       "1",
       "2",
       "3",
       "4",
       "5",
       "10",
       "15",
       "20"
      ],
      "_view_count": null,
      "_view_module": "@jupyter-widgets/controls",
      "_view_module_version": "1.5.0",
      "_view_name": "DropdownView",
      "description": "depth",
      "description_tooltip": null,
      "disabled": false,
      "index": 7,
      "layout": "IPY_MODEL_5b7d319abe914eaebc055c0926cbfde3",
      "style": "IPY_MODEL_a82afd43ba744d07a8a270d86a4fdfbb"
     }
    }
   }
  }
 },
 "nbformat": 4,
 "nbformat_minor": 1
}
