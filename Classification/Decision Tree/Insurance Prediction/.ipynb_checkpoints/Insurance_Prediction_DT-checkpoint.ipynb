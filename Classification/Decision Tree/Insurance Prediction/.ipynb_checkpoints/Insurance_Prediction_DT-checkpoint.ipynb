{
 "cells": [
  {
   "cell_type": "markdown",
   "metadata": {
    "id": "5hBDJrqDAOTW"
   },
   "source": [
    "# Insurance prediction\n",
    "\n",
    "This is a problem statement for customers of an insurance company. Each data point is one customer. The group represents the number of accidents the customer has been involved with in the past .\n",
    "\n",
    "* 0 - red: many accidents\n",
    "* 1 - green: few or no accidents\n",
    "* 2 - yellow: in the middle  \n",
    "\n",
    "Since the output feature has discreate value so Its a classification problem"
   ]
  },
  {
   "cell_type": "markdown",
   "metadata": {
    "id": "qpSqh9Nz5HLc"
   },
   "source": [
    "## Importing Libs"
   ]
  },
  {
   "cell_type": "code",
   "execution_count": 26,
   "metadata": {
    "colab": {
     "base_uri": "https://localhost:8080/",
     "height": 52
    },
    "id": "o7aEBZR2AOTX",
    "outputId": "32c9992b-97a6-4bde-c991-05fbdd19ec00"
   },
   "outputs": [
    {
     "name": "stdout",
     "output_type": "stream",
     "text": [
      "Populating the interactive namespace from numpy and matplotlib\n"
     ]
    }
   ],
   "source": [
    "import warnings\n",
    "warnings.filterwarnings('ignore')\n",
    "\n",
    "%matplotlib inline\n",
    "%pylab inline\n",
    "\n",
    "import pandas as pd\n",
    "import matplotlib.pyplot as plt\n",
    "plt.xkcd()\n",
    "\n",
    "from sklearn.tree import DecisionTreeClassifier\n",
    "from sklearn.model_selection import train_test_split\n",
    "\n",
    "from sklearn.model_selection import cross_val_score\n",
    "from sklearn.model_selection import GridSearchCV\n",
    "\n",
    "from sklearn import metrics\n",
    "from sklearn import tree"
   ]
  },
  {
   "cell_type": "markdown",
   "metadata": {
    "id": "xsEtwmvhBZqN"
   },
   "source": [
    "# Loading and exploring our data set      "
   ]
  },
  {
   "cell_type": "code",
   "execution_count": 2,
   "metadata": {
    "id": "zZrvQwmLAOTg"
   },
   "outputs": [
    {
     "data": {
      "text/html": [
       "<div>\n",
       "<style scoped>\n",
       "    .dataframe tbody tr th:only-of-type {\n",
       "        vertical-align: middle;\n",
       "    }\n",
       "\n",
       "    .dataframe tbody tr th {\n",
       "        vertical-align: top;\n",
       "    }\n",
       "\n",
       "    .dataframe thead th {\n",
       "        text-align: right;\n",
       "    }\n",
       "</style>\n",
       "<table border=\"1\" class=\"dataframe\">\n",
       "  <thead>\n",
       "    <tr style=\"text-align: right;\">\n",
       "      <th></th>\n",
       "      <th>speed</th>\n",
       "      <th>age</th>\n",
       "      <th>miles</th>\n",
       "      <th>group</th>\n",
       "    </tr>\n",
       "  </thead>\n",
       "  <tbody>\n",
       "    <tr>\n",
       "      <th>0</th>\n",
       "      <td>98.0</td>\n",
       "      <td>44.0</td>\n",
       "      <td>25.0</td>\n",
       "      <td>1</td>\n",
       "    </tr>\n",
       "    <tr>\n",
       "      <th>1</th>\n",
       "      <td>118.0</td>\n",
       "      <td>54.0</td>\n",
       "      <td>24.0</td>\n",
       "      <td>1</td>\n",
       "    </tr>\n",
       "    <tr>\n",
       "      <th>2</th>\n",
       "      <td>111.0</td>\n",
       "      <td>26.0</td>\n",
       "      <td>34.0</td>\n",
       "      <td>0</td>\n",
       "    </tr>\n",
       "    <tr>\n",
       "      <th>3</th>\n",
       "      <td>97.0</td>\n",
       "      <td>25.0</td>\n",
       "      <td>10.0</td>\n",
       "      <td>2</td>\n",
       "    </tr>\n",
       "    <tr>\n",
       "      <th>4</th>\n",
       "      <td>114.0</td>\n",
       "      <td>38.0</td>\n",
       "      <td>22.0</td>\n",
       "      <td>1</td>\n",
       "    </tr>\n",
       "  </tbody>\n",
       "</table>\n",
       "</div>"
      ],
      "text/plain": [
       "   speed   age  miles  group\n",
       "0   98.0  44.0   25.0      1\n",
       "1  118.0  54.0   24.0      1\n",
       "2  111.0  26.0   34.0      0\n",
       "3   97.0  25.0   10.0      2\n",
       "4  114.0  38.0   22.0      1"
      ]
     },
     "execution_count": 2,
     "metadata": {},
     "output_type": "execute_result"
    }
   ],
   "source": [
    "df = pd.read_csv('./insurance-customers-1500.csv', sep=';')\n",
    "df.head()"
   ]
  },
  {
   "cell_type": "code",
   "execution_count": 3,
   "metadata": {},
   "outputs": [
    {
     "data": {
      "text/plain": [
       "(1500, 4)"
      ]
     },
     "execution_count": 3,
     "metadata": {},
     "output_type": "execute_result"
    }
   ],
   "source": [
    "df.shape"
   ]
  },
  {
   "cell_type": "code",
   "execution_count": 4,
   "metadata": {
    "colab": {
     "base_uri": "https://localhost:8080/",
     "height": 295
    },
    "id": "lCCADc-ZHB1_",
    "outputId": "521cc9de-94fa-4d84-ba12-bc34db5e047c"
   },
   "outputs": [
    {
     "data": {
      "text/html": [
       "<div>\n",
       "<style scoped>\n",
       "    .dataframe tbody tr th:only-of-type {\n",
       "        vertical-align: middle;\n",
       "    }\n",
       "\n",
       "    .dataframe tbody tr th {\n",
       "        vertical-align: top;\n",
       "    }\n",
       "\n",
       "    .dataframe thead th {\n",
       "        text-align: right;\n",
       "    }\n",
       "</style>\n",
       "<table border=\"1\" class=\"dataframe\">\n",
       "  <thead>\n",
       "    <tr style=\"text-align: right;\">\n",
       "      <th></th>\n",
       "      <th>speed</th>\n",
       "      <th>age</th>\n",
       "      <th>miles</th>\n",
       "      <th>group</th>\n",
       "    </tr>\n",
       "  </thead>\n",
       "  <tbody>\n",
       "    <tr>\n",
       "      <th>count</th>\n",
       "      <td>1500.000000</td>\n",
       "      <td>1500.000000</td>\n",
       "      <td>1500.000000</td>\n",
       "      <td>1500.000000</td>\n",
       "    </tr>\n",
       "    <tr>\n",
       "      <th>mean</th>\n",
       "      <td>122.492667</td>\n",
       "      <td>44.980667</td>\n",
       "      <td>30.434000</td>\n",
       "      <td>0.998667</td>\n",
       "    </tr>\n",
       "    <tr>\n",
       "      <th>std</th>\n",
       "      <td>17.604333</td>\n",
       "      <td>17.130400</td>\n",
       "      <td>15.250815</td>\n",
       "      <td>0.816768</td>\n",
       "    </tr>\n",
       "    <tr>\n",
       "      <th>min</th>\n",
       "      <td>68.000000</td>\n",
       "      <td>16.000000</td>\n",
       "      <td>1.000000</td>\n",
       "      <td>0.000000</td>\n",
       "    </tr>\n",
       "    <tr>\n",
       "      <th>25%</th>\n",
       "      <td>108.000000</td>\n",
       "      <td>32.000000</td>\n",
       "      <td>18.000000</td>\n",
       "      <td>0.000000</td>\n",
       "    </tr>\n",
       "    <tr>\n",
       "      <th>50%</th>\n",
       "      <td>120.000000</td>\n",
       "      <td>42.000000</td>\n",
       "      <td>29.000000</td>\n",
       "      <td>1.000000</td>\n",
       "    </tr>\n",
       "    <tr>\n",
       "      <th>75%</th>\n",
       "      <td>137.000000</td>\n",
       "      <td>55.000000</td>\n",
       "      <td>42.000000</td>\n",
       "      <td>2.000000</td>\n",
       "    </tr>\n",
       "    <tr>\n",
       "      <th>max</th>\n",
       "      <td>166.000000</td>\n",
       "      <td>100.000000</td>\n",
       "      <td>84.000000</td>\n",
       "      <td>2.000000</td>\n",
       "    </tr>\n",
       "  </tbody>\n",
       "</table>\n",
       "</div>"
      ],
      "text/plain": [
       "             speed          age        miles        group\n",
       "count  1500.000000  1500.000000  1500.000000  1500.000000\n",
       "mean    122.492667    44.980667    30.434000     0.998667\n",
       "std      17.604333    17.130400    15.250815     0.816768\n",
       "min      68.000000    16.000000     1.000000     0.000000\n",
       "25%     108.000000    32.000000    18.000000     0.000000\n",
       "50%     120.000000    42.000000    29.000000     1.000000\n",
       "75%     137.000000    55.000000    42.000000     2.000000\n",
       "max     166.000000   100.000000    84.000000     2.000000"
      ]
     },
     "execution_count": 4,
     "metadata": {},
     "output_type": "execute_result"
    }
   ],
   "source": [
    "df.describe()"
   ]
  },
  {
   "cell_type": "markdown",
   "metadata": {
    "id": "zR_Lz5vQ5m2H"
   },
   "source": [
    "###  creating independant and dependant feature from dataset"
   ]
  },
  {
   "cell_type": "code",
   "execution_count": 5,
   "metadata": {
    "id": "IrencvYMAOTi"
   },
   "outputs": [
    {
     "data": {
      "text/plain": [
       "0    1\n",
       "1    1\n",
       "2    0\n",
       "3    2\n",
       "4    1\n",
       "Name: group, dtype: int64"
      ]
     },
     "execution_count": 5,
     "metadata": {},
     "output_type": "execute_result"
    }
   ],
   "source": [
    "# Output feature\n",
    "y=df['group']\n",
    "y.head()"
   ]
  },
  {
   "cell_type": "code",
   "execution_count": 6,
   "metadata": {
    "id": "0XV3G8RtAOTk"
   },
   "outputs": [
    {
     "data": {
      "text/html": [
       "<div>\n",
       "<style scoped>\n",
       "    .dataframe tbody tr th:only-of-type {\n",
       "        vertical-align: middle;\n",
       "    }\n",
       "\n",
       "    .dataframe tbody tr th {\n",
       "        vertical-align: top;\n",
       "    }\n",
       "\n",
       "    .dataframe thead th {\n",
       "        text-align: right;\n",
       "    }\n",
       "</style>\n",
       "<table border=\"1\" class=\"dataframe\">\n",
       "  <thead>\n",
       "    <tr style=\"text-align: right;\">\n",
       "      <th></th>\n",
       "      <th>speed</th>\n",
       "      <th>age</th>\n",
       "      <th>miles</th>\n",
       "    </tr>\n",
       "  </thead>\n",
       "  <tbody>\n",
       "    <tr>\n",
       "      <th>0</th>\n",
       "      <td>98.0</td>\n",
       "      <td>44.0</td>\n",
       "      <td>25.0</td>\n",
       "    </tr>\n",
       "    <tr>\n",
       "      <th>1</th>\n",
       "      <td>118.0</td>\n",
       "      <td>54.0</td>\n",
       "      <td>24.0</td>\n",
       "    </tr>\n",
       "    <tr>\n",
       "      <th>2</th>\n",
       "      <td>111.0</td>\n",
       "      <td>26.0</td>\n",
       "      <td>34.0</td>\n",
       "    </tr>\n",
       "    <tr>\n",
       "      <th>3</th>\n",
       "      <td>97.0</td>\n",
       "      <td>25.0</td>\n",
       "      <td>10.0</td>\n",
       "    </tr>\n",
       "    <tr>\n",
       "      <th>4</th>\n",
       "      <td>114.0</td>\n",
       "      <td>38.0</td>\n",
       "      <td>22.0</td>\n",
       "    </tr>\n",
       "  </tbody>\n",
       "</table>\n",
       "</div>"
      ],
      "text/plain": [
       "   speed   age  miles\n",
       "0   98.0  44.0   25.0\n",
       "1  118.0  54.0   24.0\n",
       "2  111.0  26.0   34.0\n",
       "3   97.0  25.0   10.0\n",
       "4  114.0  38.0   22.0"
      ]
     },
     "execution_count": 6,
     "metadata": {},
     "output_type": "execute_result"
    }
   ],
   "source": [
    "# since 'group' is now the label we want to predict, we need to remove it from the training data \n",
    "df.drop('group', axis='columns', inplace=True)\n",
    "X = df\n",
    "X.head()"
   ]
  },
  {
   "cell_type": "markdown",
   "metadata": {},
   "source": [
    "### Splitting independant and dependant data in to train and test data"
   ]
  },
  {
   "cell_type": "code",
   "execution_count": 7,
   "metadata": {
    "colab": {
     "base_uri": "https://localhost:8080/",
     "height": 34
    },
    "id": "A7CUrbew7p4l",
    "outputId": "130c610c-a755-4b00-91db-b3c276fb346e"
   },
   "outputs": [
    {
     "name": "stdout",
     "output_type": "stream",
     "text": [
      "(1200, 3) (1200,) (300, 3) (300,)\n"
     ]
    }
   ],
   "source": [
    "X_train, X_test, y_train, y_test = train_test_split(X, y, test_size=0.2, random_state=42, stratify=y)\n",
    "print(X_train.shape, y_train.shape, X_test.shape, y_test.shape)"
   ]
  },
  {
   "cell_type": "code",
   "execution_count": 8,
   "metadata": {
    "colab": {
     "base_uri": "https://localhost:8080/",
     "height": 156
    },
    "id": "Nv6FueUFAbz0",
    "outputId": "82df20fb-cee7-43e9-8df0-763b3e1b75d4"
   },
   "outputs": [
    {
     "name": "stdout",
     "output_type": "stream",
     "text": [
      "Wall time: 44.7 ms\n",
      "max depth is  18\n"
     ]
    }
   ],
   "source": [
    "# Creating object for Decision Tree algorithm\n",
    "clf = DecisionTreeClassifier()\n",
    "%time clf.fit(X_train, y_train)\n",
    "# finding max depth\n",
    "print(\"max depth is \" , clf.tree_.max_depth )"
   ]
  },
  {
   "cell_type": "code",
   "execution_count": 9,
   "metadata": {},
   "outputs": [
    {
     "name": "stdout",
     "output_type": "stream",
     "text": [
      " Training score  99.92\n",
      " Testing score  70.67\n"
     ]
    }
   ],
   "source": [
    "print( \" Training score \" , round(clf.score(X_train, y_train)*100 , 2))\n",
    "print( \" Testing score \" , round(clf.score(X_test, y_test)*100 , 2))"
   ]
  },
  {
   "cell_type": "code",
   "execution_count": 10,
   "metadata": {
    "colab": {
     "base_uri": "https://localhost:8080/",
     "height": 156
    },
    "id": "2OEQ7gmQBZtR",
    "outputId": "47f34e59-043a-46e7-bfee-28bbf8ad7cc6"
   },
   "outputs": [
    {
     "name": "stdout",
     "output_type": "stream",
     "text": [
      "Wall time: 27.6 ms\n",
      "max depth is  10\n"
     ]
    }
   ],
   "source": [
    "# Sending Decision tree parameters to imrove testing score ( Avoiding over fitting)\n",
    "clf = DecisionTreeClassifier(max_depth=10,\n",
    "                              min_samples_leaf=3,\n",
    "                              min_samples_split=2)\n",
    "%time clf.fit(X_train, y_train)\n",
    "\n",
    "print(\"max depth is \" , clf.tree_.max_depth )"
   ]
  },
  {
   "cell_type": "code",
   "execution_count": 11,
   "metadata": {},
   "outputs": [
    {
     "name": "stdout",
     "output_type": "stream",
     "text": [
      " Training score  86.33\n",
      " Testing score  73.67\n"
     ]
    }
   ],
   "source": [
    "print( \" Training score \" , round(clf.score(X_train, y_train)*100 , 2))\n",
    "print( \" Testing score \" , round(clf.score(X_test, y_test)*100 , 2))"
   ]
  },
  {
   "cell_type": "markdown",
   "metadata": {},
   "source": [
    "## Evaludate a score by cross-validation"
   ]
  },
  {
   "cell_type": "code",
   "execution_count": 12,
   "metadata": {
    "colab": {
     "base_uri": "https://localhost:8080/",
     "height": 34
    },
    "id": "EzcKKrfKBO4q",
    "outputId": "c17ddd80-0acd-45db-e4d3-247c397562b5"
   },
   "outputs": [
    {
     "data": {
      "text/plain": [
       "array([0.75333333, 0.75666667, 0.76666667, 0.70666667, 0.76666667])"
      ]
     },
     "execution_count": 12,
     "metadata": {},
     "output_type": "execute_result"
    }
   ],
   "source": [
    "scores = cross_val_score(clf, X, y, n_jobs=-1)\n",
    "scores"
   ]
  },
  {
   "cell_type": "markdown",
   "metadata": {},
   "source": [
    "## Tuning parameters and finding best model"
   ]
  },
  {
   "cell_type": "code",
   "execution_count": 13,
   "metadata": {
    "colab": {
     "base_uri": "https://localhost:8080/",
     "height": 69
    },
    "id": "LB6D_h38BaRz",
    "outputId": "89fce5b5-985a-4f31-9bd5-127c34475a92"
   },
   "outputs": [],
   "source": [
    "param_grid = {\n",
    "    'max_depth': list(range(2, 25)),\n",
    "    'min_samples_split': list(range(2, 11)),\n",
    "    'min_samples_leaf': list(range(1, 11))\n",
    "}"
   ]
  },
  {
   "cell_type": "code",
   "execution_count": 14,
   "metadata": {},
   "outputs": [
    {
     "name": "stdout",
     "output_type": "stream",
     "text": [
      "Wall time: 46.2 s\n",
      "Best params  {'max_depth': 9, 'min_samples_leaf': 6, 'min_samples_split': 3}\n"
     ]
    }
   ],
   "source": [
    "clf = GridSearchCV(DecisionTreeClassifier(), param_grid, n_jobs=-1)\n",
    "%time clf.fit(X, y)\n",
    "best_params = clf.best_params_\n",
    "print(\"Best params \",best_params)"
   ]
  },
  {
   "cell_type": "code",
   "execution_count": 31,
   "metadata": {
    "colab": {
     "base_uri": "https://localhost:8080/",
     "height": 156
    },
    "id": "QhaSljYVBr8h",
    "outputId": "7a389d24-92b2-4f9a-e14a-8ad42618ea8d"
   },
   "outputs": [
    {
     "name": "stdout",
     "output_type": "stream",
     "text": [
      "Wall time: 7.15 ms\n",
      "max depth is  9\n"
     ]
    }
   ],
   "source": [
    "clf = DecisionTreeClassifier(max_depth=9,\n",
    "                              min_samples_leaf=6,\n",
    "                              min_samples_split=4)\n",
    "%time clf.fit(X_train, y_train)\n",
    "print(\"max depth is \" , clf.tree_.max_depth )"
   ]
  },
  {
   "cell_type": "code",
   "execution_count": 16,
   "metadata": {},
   "outputs": [
    {
     "name": "stdout",
     "output_type": "stream",
     "text": [
      " Training score  82.25\n",
      " Testing score  76.0\n"
     ]
    }
   ],
   "source": [
    "print( \" Training score \" , round(clf.score(X_train, y_train)*100 , 2))\n",
    "print( \" Testing score \" , round(clf.score(X_test, y_test)*100 , 2))"
   ]
  },
  {
   "cell_type": "code",
   "execution_count": 17,
   "metadata": {
    "colab": {
     "base_uri": "https://localhost:8080/",
     "height": 34
    },
    "id": "4HWxX3lBCscW",
    "outputId": "2732a5fd-132b-4d69-fbf1-0a3886676bc2"
   },
   "outputs": [
    {
     "data": {
      "text/plain": [
       "array([0.75333333, 0.78333333, 0.78666667, 0.73      , 0.76      ])"
      ]
     },
     "execution_count": 17,
     "metadata": {},
     "output_type": "execute_result"
    }
   ],
   "source": [
    "# Evaludate a score by cross-validation\n",
    "scores = cross_val_score(clf, X, y, n_jobs=-1)\n",
    "scores"
   ]
  },
  {
   "cell_type": "markdown",
   "metadata": {
    "id": "Y6rA7TyRJRQw"
   },
   "source": [
    "### Predicting the testdata with trained model"
   ]
  },
  {
   "cell_type": "code",
   "execution_count": 18,
   "metadata": {},
   "outputs": [],
   "source": [
    "test_pred = clf.predict(X_test)"
   ]
  },
  {
   "cell_type": "markdown",
   "metadata": {},
   "source": [
    "# Classification scores & Model Evaluation"
   ]
  },
  {
   "cell_type": "code",
   "execution_count": 19,
   "metadata": {},
   "outputs": [
    {
     "data": {
      "text/plain": [
       "0.76"
      ]
     },
     "execution_count": 19,
     "metadata": {},
     "output_type": "execute_result"
    }
   ],
   "source": [
    "# Finding accuracy\n",
    "metrics.accuracy_score(y_test ,test_pred)"
   ]
  },
  {
   "cell_type": "code",
   "execution_count": 20,
   "metadata": {},
   "outputs": [
    {
     "data": {
      "text/plain": [
       "array([[81, 10,  9],\n",
       "       [10, 76, 14],\n",
       "       [10, 19, 71]], dtype=int64)"
      ]
     },
     "execution_count": 20,
     "metadata": {},
     "output_type": "execute_result"
    }
   ],
   "source": [
    "# Finding confusion matrix\n",
    "metrics.confusion_matrix(y_test, test_pred)"
   ]
  },
  {
   "cell_type": "code",
   "execution_count": 21,
   "metadata": {},
   "outputs": [
    {
     "data": {
      "text/plain": [
       "0.7603696235884986"
      ]
     },
     "execution_count": 21,
     "metadata": {},
     "output_type": "execute_result"
    }
   ],
   "source": [
    "# Finding precision score\n",
    "metrics.precision_score(y_test, test_pred, average='macro')"
   ]
  },
  {
   "cell_type": "code",
   "execution_count": 22,
   "metadata": {},
   "outputs": [
    {
     "data": {
      "text/plain": [
       "0.7600000000000001"
      ]
     },
     "execution_count": 22,
     "metadata": {},
     "output_type": "execute_result"
    }
   ],
   "source": [
    "# Finding recall score\n",
    "metrics.recall_score(y_test, test_pred,average='macro')"
   ]
  },
  {
   "cell_type": "code",
   "execution_count": 23,
   "metadata": {},
   "outputs": [
    {
     "name": "stdout",
     "output_type": "stream",
     "text": [
      "              precision    recall  f1-score   support\n",
      "\n",
      "           0       0.80      0.81      0.81       100\n",
      "           1       0.72      0.76      0.74       100\n",
      "           2       0.76      0.71      0.73       100\n",
      "\n",
      "    accuracy                           0.76       300\n",
      "   macro avg       0.76      0.76      0.76       300\n",
      "weighted avg       0.76      0.76      0.76       300\n",
      "\n"
     ]
    }
   ],
   "source": [
    "# Finding classification report\n",
    "print(metrics.classification_report(y_test, test_pred))"
   ]
  },
  {
   "cell_type": "code",
   "execution_count": 24,
   "metadata": {},
   "outputs": [
    {
     "data": {
      "text/plain": [
       "(array([0.8019802 , 0.72380952, 0.75531915]),\n",
       " array([0.81, 0.76, 0.71]),\n",
       " array([0.80597015, 0.74146341, 0.73195876]),\n",
       " array([100, 100, 100], dtype=int32))"
      ]
     },
     "execution_count": 24,
     "metadata": {},
     "output_type": "execute_result"
    }
   ],
   "source": [
    "# Finding precision recall fscore support\n",
    "metrics.precision_recall_fscore_support(y_test, test_pred)"
   ]
  },
  {
   "cell_type": "markdown",
   "metadata": {},
   "source": [
    "## Predicting with new sample data point"
   ]
  },
  {
   "cell_type": "code",
   "execution_count": 25,
   "metadata": {},
   "outputs": [
    {
     "data": {
      "text/plain": [
       "array([2], dtype=int64)"
      ]
     },
     "execution_count": 25,
     "metadata": {},
     "output_type": "execute_result"
    }
   ],
   "source": [
    "input = [[135.0, 48.0,25.5]]\n",
    "clf.predict(input)"
   ]
  },
  {
   "cell_type": "markdown",
   "metadata": {},
   "source": [
    "## Printing the tree "
   ]
  },
  {
   "cell_type": "code",
   "execution_count": 41,
   "metadata": {},
   "outputs": [
    {
     "name": "stdout",
     "output_type": "stream",
     "text": [
      "Wall time: 14.7 ms\n",
      "max depth is  9\n"
     ]
    }
   ],
   "source": [
    "clf = DecisionTreeClassifier(max_depth=9,\n",
    "                              min_samples_leaf=6,\n",
    "                              min_samples_split=4)\n",
    "%time clf.fit(X_train, y_train)\n",
    "print(\"max depth is \" , clf.tree_.max_depth )"
   ]
  },
  {
   "cell_type": "code",
   "execution_count": 42,
   "metadata": {},
   "outputs": [
    {
     "data": {
      "text/plain": [
       "[Text(650.1591467696629, 516.4200000000001, 'X[0] <= 146.5\\ngini = 0.667\\nsamples = 1200\\nvalue = [401, 400, 399]'),\n",
       " Text(510.3407654494382, 462.06000000000006, 'X[1] <= 66.5\\ngini = 0.66\\nsamples = 1052\\nvalue = [283, 389, 380]'),\n",
       " Text(315.344452247191, 407.70000000000005, 'X[1] <= 35.5\\ngini = 0.636\\nsamples = 892\\nvalue = [173, 385, 334]'),\n",
       " Text(130.4873595505618, 353.34000000000003, 'X[0] <= 105.5\\ngini = 0.601\\nsamples = 320\\nvalue = [104, 50, 166]'),\n",
       " Text(61.12921348314607, 298.98, 'X[2] <= 21.5\\ngini = 0.191\\nsamples = 143\\nvalue = [3, 12, 128]'),\n",
       " Text(28.213483146067418, 244.62, 'X[1] <= 26.5\\ngini = 0.079\\nsamples = 122\\nvalue = [0, 5, 117]'),\n",
       " Text(18.808988764044944, 190.26000000000005, 'gini = 0.0\\nsamples = 75\\nvalue = [0, 0, 75]'),\n",
       " Text(37.61797752808989, 190.26000000000005, 'X[2] <= 10.5\\ngini = 0.19\\nsamples = 47\\nvalue = [0, 5, 42]'),\n",
       " Text(18.808988764044944, 135.90000000000003, 'X[0] <= 99.5\\ngini = 0.375\\nsamples = 12\\nvalue = [0, 3, 9]'),\n",
       " Text(9.404494382022472, 81.54000000000002, 'gini = 0.0\\nsamples = 6\\nvalue = [0, 0, 6]'),\n",
       " Text(28.213483146067418, 81.54000000000002, 'gini = 0.5\\nsamples = 6\\nvalue = [0, 3, 3]'),\n",
       " Text(56.426966292134836, 135.90000000000003, 'X[0] <= 96.5\\ngini = 0.108\\nsamples = 35\\nvalue = [0, 2, 33]'),\n",
       " Text(47.02247191011236, 81.54000000000002, 'gini = 0.0\\nsamples = 11\\nvalue = [0, 0, 11]'),\n",
       " Text(65.8314606741573, 81.54000000000002, 'X[2] <= 17.5\\ngini = 0.153\\nsamples = 24\\nvalue = [0, 2, 22]'),\n",
       " Text(56.426966292134836, 27.180000000000064, 'gini = 0.219\\nsamples = 16\\nvalue = [0, 2, 14]'),\n",
       " Text(75.23595505617978, 27.180000000000064, 'gini = 0.0\\nsamples = 8\\nvalue = [0, 0, 8]'),\n",
       " Text(94.04494382022472, 244.62, 'X[1] <= 29.5\\ngini = 0.594\\nsamples = 21\\nvalue = [3, 7, 11]'),\n",
       " Text(84.64044943820225, 190.26000000000005, 'X[2] <= 25.5\\ngini = 0.375\\nsamples = 12\\nvalue = [3, 0, 9]'),\n",
       " Text(75.23595505617978, 135.90000000000003, 'gini = 0.0\\nsamples = 6\\nvalue = [0, 0, 6]'),\n",
       " Text(94.04494382022472, 135.90000000000003, 'gini = 0.5\\nsamples = 6\\nvalue = [3, 0, 3]'),\n",
       " Text(103.4494382022472, 190.26000000000005, 'gini = 0.346\\nsamples = 9\\nvalue = [0, 7, 2]'),\n",
       " Text(199.84550561797752, 298.98, 'X[2] <= 20.5\\ngini = 0.582\\nsamples = 177\\nvalue = [101, 38, 38]'),\n",
       " Text(150.47191011235955, 244.62, 'X[0] <= 114.5\\ngini = 0.63\\nsamples = 43\\nvalue = [10, 21, 12]'),\n",
       " Text(122.25842696629213, 190.26000000000005, 'X[1] <= 27.5\\ngini = 0.48\\nsamples = 23\\nvalue = [1, 15, 7]'),\n",
       " Text(112.85393258426967, 135.90000000000003, 'gini = 0.568\\nsamples = 9\\nvalue = [1, 3, 5]'),\n",
       " Text(131.6629213483146, 135.90000000000003, 'X[2] <= 13.5\\ngini = 0.245\\nsamples = 14\\nvalue = [0, 12, 2]'),\n",
       " Text(122.25842696629213, 81.54000000000002, 'gini = 0.444\\nsamples = 6\\nvalue = [0, 4, 2]'),\n",
       " Text(141.06741573033707, 81.54000000000002, 'gini = 0.0\\nsamples = 8\\nvalue = [0, 8, 0]'),\n",
       " Text(178.68539325842696, 190.26000000000005, 'X[1] <= 30.5\\ngini = 0.645\\nsamples = 20\\nvalue = [9, 6, 5]'),\n",
       " Text(169.2808988764045, 135.90000000000003, 'X[0] <= 121.0\\ngini = 0.5\\nsamples = 12\\nvalue = [8, 2, 2]'),\n",
       " Text(159.87640449438203, 81.54000000000002, 'gini = 0.444\\nsamples = 6\\nvalue = [4, 2, 0]'),\n",
       " Text(178.68539325842696, 81.54000000000002, 'gini = 0.444\\nsamples = 6\\nvalue = [4, 0, 2]'),\n",
       " Text(188.08988764044943, 135.90000000000003, 'gini = 0.594\\nsamples = 8\\nvalue = [1, 4, 3]'),\n",
       " Text(249.21910112359552, 244.62, 'X[2] <= 42.5\\ngini = 0.485\\nsamples = 134\\nvalue = [91, 17, 26]'),\n",
       " Text(225.70786516853934, 190.26000000000005, 'X[0] <= 138.5\\ngini = 0.422\\nsamples = 110\\nvalue = [81, 17, 12]'),\n",
       " Text(216.30337078651687, 135.90000000000003, 'X[0] <= 117.5\\ngini = 0.371\\nsamples = 103\\nvalue = [80, 14, 9]'),\n",
       " Text(197.4943820224719, 81.54000000000002, 'X[2] <= 31.5\\ngini = 0.519\\nsamples = 49\\nvalue = [31, 13, 5]'),\n",
       " Text(188.08988764044943, 27.180000000000064, 'gini = 0.615\\nsamples = 33\\nvalue = [15, 13, 5]'),\n",
       " Text(206.8988764044944, 27.180000000000064, 'gini = 0.0\\nsamples = 16\\nvalue = [16, 0, 0]'),\n",
       " Text(235.1123595505618, 81.54000000000002, 'X[2] <= 35.5\\ngini = 0.171\\nsamples = 54\\nvalue = [49, 1, 4]'),\n",
       " Text(225.70786516853934, 27.180000000000064, 'gini = 0.054\\nsamples = 36\\nvalue = [35, 0, 1]'),\n",
       " Text(244.51685393258427, 27.180000000000064, 'gini = 0.364\\nsamples = 18\\nvalue = [14, 1, 3]'),\n",
       " Text(235.1123595505618, 135.90000000000003, 'gini = 0.612\\nsamples = 7\\nvalue = [1, 3, 3]'),\n",
       " Text(272.7303370786517, 190.26000000000005, 'X[0] <= 140.0\\ngini = 0.486\\nsamples = 24\\nvalue = [10, 0, 14]'),\n",
       " Text(263.3258426966292, 135.90000000000003, 'X[2] <= 47.5\\ngini = 0.231\\nsamples = 15\\nvalue = [2, 0, 13]'),\n",
       " Text(253.92134831460675, 81.54000000000002, 'gini = 0.444\\nsamples = 6\\nvalue = [2, 0, 4]'),\n",
       " Text(272.7303370786517, 81.54000000000002, 'gini = 0.0\\nsamples = 9\\nvalue = [0, 0, 9]'),\n",
       " Text(282.13483146067415, 135.90000000000003, 'gini = 0.198\\nsamples = 9\\nvalue = [8, 0, 1]'),\n",
       " Text(500.20154494382024, 353.34000000000003, 'X[2] <= 50.5\\ngini = 0.556\\nsamples = 572\\nvalue = [69, 335, 168]'),\n",
       " Text(407.9199438202247, 298.98, 'X[0] <= 115.5\\ngini = 0.515\\nsamples = 520\\nvalue = [62, 335, 123]'),\n",
       " Text(324.4550561797753, 244.62, 'X[1] <= 36.5\\ngini = 0.325\\nsamples = 200\\nvalue = [14, 162, 24]'),\n",
       " Text(315.05056179775283, 190.26000000000005, 'gini = 0.5\\nsamples = 8\\nvalue = [4, 4, 0]'),\n",
       " Text(333.85955056179773, 190.26000000000005, 'X[2] <= 33.5\\ngini = 0.304\\nsamples = 192\\nvalue = [10, 158, 24]'),\n",
       " Text(310.34831460674155, 135.90000000000003, 'X[1] <= 59.5\\ngini = 0.268\\nsamples = 171\\nvalue = [8, 145, 18]'),\n",
       " Text(291.53932584269666, 81.54000000000002, 'X[1] <= 38.5\\ngini = 0.229\\nsamples = 148\\nvalue = [4, 129, 15]'),\n",
       " Text(282.13483146067415, 27.180000000000064, 'gini = 0.405\\nsamples = 20\\nvalue = [3, 15, 2]'),\n",
       " Text(300.9438202247191, 27.180000000000064, 'gini = 0.196\\nsamples = 128\\nvalue = [1, 114, 13]'),\n",
       " Text(329.1573033707865, 81.54000000000002, 'X[2] <= 21.5\\ngini = 0.469\\nsamples = 23\\nvalue = [4, 16, 3]'),\n",
       " Text(319.75280898876406, 27.180000000000064, 'gini = 0.653\\nsamples = 12\\nvalue = [4, 5, 3]'),\n",
       " Text(338.561797752809, 27.180000000000064, 'gini = 0.0\\nsamples = 11\\nvalue = [0, 11, 0]'),\n",
       " Text(357.3707865168539, 135.90000000000003, 'X[2] <= 39.5\\ngini = 0.526\\nsamples = 21\\nvalue = [2, 13, 6]'),\n",
       " Text(347.96629213483146, 81.54000000000002, 'gini = 0.579\\nsamples = 11\\nvalue = [1, 5, 5]'),\n",
       " Text(366.7752808988764, 81.54000000000002, 'gini = 0.34\\nsamples = 10\\nvalue = [1, 8, 1]'),\n",
       " Text(491.38483146067415, 244.62, 'X[1] <= 53.5\\ngini = 0.59\\nsamples = 320\\nvalue = [48, 173, 99]'),\n",
       " Text(427.90449438202245, 190.26000000000005, 'X[0] <= 130.5\\ngini = 0.518\\nsamples = 247\\nvalue = [33, 159, 55]'),\n",
       " Text(404.39325842696627, 135.90000000000003, 'X[2] <= 25.5\\ngini = 0.638\\nsamples = 104\\nvalue = [26, 49, 29]'),\n",
       " Text(385.5842696629214, 81.54000000000002, 'X[0] <= 124.5\\ngini = 0.426\\nsamples = 41\\nvalue = [7, 30, 4]'),\n",
       " Text(376.17977528089887, 27.180000000000064, 'gini = 0.275\\nsamples = 32\\nvalue = [3, 27, 2]'),\n",
       " Text(394.9887640449438, 27.180000000000064, 'gini = 0.642\\nsamples = 9\\nvalue = [4, 3, 2]'),\n",
       " Text(423.2022471910112, 81.54000000000002, 'X[1] <= 40.5\\ngini = 0.661\\nsamples = 63\\nvalue = [19, 19, 25]'),\n",
       " Text(413.7977528089888, 27.180000000000064, 'gini = 0.539\\nsamples = 16\\nvalue = [10, 3, 3]'),\n",
       " Text(432.60674157303373, 27.180000000000064, 'gini = 0.628\\nsamples = 47\\nvalue = [9, 16, 22]'),\n",
       " Text(451.4157303370787, 135.90000000000003, 'X[2] <= 28.5\\ngini = 0.373\\nsamples = 143\\nvalue = [7, 110, 26]'),\n",
       " Text(442.0112359550562, 81.54000000000002, 'gini = 0.314\\nsamples = 11\\nvalue = [1, 1, 9]'),\n",
       " Text(460.82022471910113, 81.54000000000002, 'X[2] <= 44.5\\ngini = 0.299\\nsamples = 132\\nvalue = [6, 109, 17]'),\n",
       " Text(451.4157303370787, 27.180000000000064, 'gini = 0.194\\nsamples = 102\\nvalue = [1, 91, 10]'),\n",
       " Text(470.2247191011236, 27.180000000000064, 'gini = 0.558\\nsamples = 30\\nvalue = [5, 18, 7]'),\n",
       " Text(554.8651685393259, 190.26000000000005, 'X[2] <= 27.5\\ngini = 0.558\\nsamples = 73\\nvalue = [15, 14, 44]'),\n",
       " Text(517.2471910112359, 135.90000000000003, 'X[1] <= 61.5\\ngini = 0.642\\nsamples = 27\\nvalue = [12, 9, 6]'),\n",
       " Text(498.43820224719104, 81.54000000000002, 'X[2] <= 19.5\\ngini = 0.541\\nsamples = 14\\nvalue = [1, 8, 5]'),\n",
       " Text(489.03370786516854, 27.180000000000064, 'gini = 0.611\\nsamples = 6\\nvalue = [1, 2, 3]'),\n",
       " Text(507.8426966292135, 27.180000000000064, 'gini = 0.375\\nsamples = 8\\nvalue = [0, 6, 2]'),\n",
       " Text(536.056179775281, 81.54000000000002, 'X[0] <= 125.0\\ngini = 0.272\\nsamples = 13\\nvalue = [11, 1, 1]'),\n",
       " Text(526.6516853932584, 27.180000000000064, 'gini = 0.5\\nsamples = 6\\nvalue = [4, 1, 1]'),\n",
       " Text(545.4606741573034, 27.180000000000064, 'gini = 0.0\\nsamples = 7\\nvalue = [7, 0, 0]'),\n",
       " Text(592.4831460674158, 135.90000000000003, 'X[1] <= 55.5\\ngini = 0.302\\nsamples = 46\\nvalue = [3, 5, 38]'),\n",
       " Text(573.6741573033707, 81.54000000000002, 'X[2] <= 43.0\\ngini = 0.391\\nsamples = 15\\nvalue = [0, 4, 11]'),\n",
       " Text(564.2696629213483, 27.180000000000064, 'gini = 0.469\\nsamples = 8\\nvalue = [0, 3, 5]'),\n",
       " Text(583.0786516853933, 27.180000000000064, 'gini = 0.245\\nsamples = 7\\nvalue = [0, 1, 6]'),\n",
       " Text(611.2921348314607, 81.54000000000002, 'X[2] <= 35.5\\ngini = 0.231\\nsamples = 31\\nvalue = [3, 1, 27]'),\n",
       " Text(601.8876404494382, 27.180000000000064, 'gini = 0.375\\nsamples = 12\\nvalue = [3, 0, 9]'),\n",
       " Text(620.6966292134831, 27.180000000000064, 'gini = 0.1\\nsamples = 19\\nvalue = [0, 1, 18]'),\n",
       " Text(592.4831460674158, 298.98, 'X[0] <= 143.5\\ngini = 0.233\\nsamples = 52\\nvalue = [7, 0, 45]'),\n",
       " Text(583.0786516853933, 244.62, 'X[1] <= 40.5\\ngini = 0.045\\nsamples = 43\\nvalue = [1, 0, 42]'),\n",
       " Text(573.6741573033707, 190.26000000000005, 'gini = 0.278\\nsamples = 6\\nvalue = [1, 0, 5]'),\n",
       " Text(592.4831460674158, 190.26000000000005, 'gini = 0.0\\nsamples = 37\\nvalue = [0, 0, 37]'),\n",
       " Text(601.8876404494382, 244.62, 'gini = 0.444\\nsamples = 9\\nvalue = [6, 0, 3]'),\n",
       " Text(705.3370786516854, 407.70000000000005, 'X[2] <= 35.5\\ngini = 0.444\\nsamples = 160\\nvalue = [110, 4, 46]'),\n",
       " Text(677.123595505618, 353.34000000000003, 'X[0] <= 133.5\\ngini = 0.309\\nsamples = 131\\nvalue = [107, 4, 20]'),\n",
       " Text(667.7191011235955, 298.98, 'X[0] <= 116.5\\ngini = 0.249\\nsamples = 121\\nvalue = [104, 4, 13]'),\n",
       " Text(639.5056179775281, 244.62, 'X[2] <= 12.5\\ngini = 0.486\\nsamples = 36\\nvalue = [24, 3, 9]'),\n",
       " Text(630.1011235955057, 190.26000000000005, 'gini = 0.611\\nsamples = 6\\nvalue = [2, 1, 3]'),\n",
       " Text(648.9101123595506, 190.26000000000005, 'X[2] <= 18.0\\ngini = 0.418\\nsamples = 30\\nvalue = [22, 2, 6]'),\n",
       " Text(639.5056179775281, 135.90000000000003, 'gini = 0.0\\nsamples = 7\\nvalue = [7, 0, 0]'),\n",
       " Text(658.314606741573, 135.90000000000003, 'X[0] <= 111.5\\ngini = 0.499\\nsamples = 23\\nvalue = [15, 2, 6]'),\n",
       " Text(648.9101123595506, 81.54000000000002, 'X[1] <= 76.5\\ngini = 0.278\\nsamples = 12\\nvalue = [10, 0, 2]'),\n",
       " Text(639.5056179775281, 27.180000000000064, 'gini = 0.278\\nsamples = 6\\nvalue = [5, 0, 1]'),\n",
       " Text(658.314606741573, 27.180000000000064, 'gini = 0.278\\nsamples = 6\\nvalue = [5, 0, 1]'),\n",
       " Text(667.7191011235955, 81.54000000000002, 'gini = 0.628\\nsamples = 11\\nvalue = [5, 2, 4]'),\n",
       " Text(695.9325842696629, 244.62, 'X[1] <= 68.5\\ngini = 0.112\\nsamples = 85\\nvalue = [80, 1, 4]'),\n",
       " Text(686.5280898876405, 190.26000000000005, 'gini = 0.408\\nsamples = 7\\nvalue = [5, 0, 2]'),\n",
       " Text(705.3370786516854, 190.26000000000005, 'X[1] <= 87.5\\ngini = 0.075\\nsamples = 78\\nvalue = [75, 1, 2]'),\n",
       " Text(695.9325842696629, 135.90000000000003, 'X[2] <= 29.5\\ngini = 0.054\\nsamples = 72\\nvalue = [70, 1, 1]'),\n",
       " Text(686.5280898876405, 81.54000000000002, 'X[1] <= 73.5\\ngini = 0.03\\nsamples = 66\\nvalue = [65, 1, 0]'),\n",
       " Text(677.123595505618, 27.180000000000064, 'gini = 0.095\\nsamples = 20\\nvalue = [19, 1, 0]'),\n",
       " Text(695.9325842696629, 27.180000000000064, 'gini = 0.0\\nsamples = 46\\nvalue = [46, 0, 0]'),\n",
       " Text(705.3370786516854, 81.54000000000002, 'gini = 0.278\\nsamples = 6\\nvalue = [5, 0, 1]'),\n",
       " Text(714.7415730337078, 135.90000000000003, 'gini = 0.278\\nsamples = 6\\nvalue = [5, 0, 1]'),\n",
       " Text(686.5280898876405, 298.98, 'gini = 0.42\\nsamples = 10\\nvalue = [3, 0, 7]'),\n",
       " Text(733.5505617977528, 353.34000000000003, 'X[2] <= 41.5\\ngini = 0.185\\nsamples = 29\\nvalue = [3, 0, 26]'),\n",
       " Text(724.1460674157304, 298.98, 'X[0] <= 123.5\\ngini = 0.355\\nsamples = 13\\nvalue = [3, 0, 10]'),\n",
       " Text(714.7415730337078, 244.62, 'gini = 0.408\\nsamples = 7\\nvalue = [2, 0, 5]'),\n",
       " Text(733.5505617977528, 244.62, 'gini = 0.278\\nsamples = 6\\nvalue = [1, 0, 5]'),\n",
       " Text(742.9550561797753, 298.98, 'gini = 0.0\\nsamples = 16\\nvalue = [0, 0, 16]'),\n",
       " Text(789.9775280898876, 462.06000000000006, 'X[1] <= 42.5\\ngini = 0.342\\nsamples = 148\\nvalue = [118, 11, 19]'),\n",
       " Text(761.7640449438202, 407.70000000000005, 'X[2] <= 43.5\\ngini = 0.124\\nsamples = 123\\nvalue = [115, 3, 5]'),\n",
       " Text(752.3595505617977, 353.34000000000003, 'gini = 0.5\\nsamples = 6\\nvalue = [3, 0, 3]'),\n",
       " Text(771.1685393258427, 353.34000000000003, 'X[1] <= 40.5\\ngini = 0.083\\nsamples = 117\\nvalue = [112, 3, 2]'),\n",
       " Text(761.7640449438202, 298.98, 'X[0] <= 152.5\\ngini = 0.053\\nsamples = 110\\nvalue = [107, 2, 1]'),\n",
       " Text(752.3595505617977, 244.62, 'gini = 0.0\\nsamples = 80\\nvalue = [80, 0, 0]'),\n",
       " Text(771.1685393258427, 244.62, 'X[1] <= 34.5\\ngini = 0.184\\nsamples = 30\\nvalue = [27, 2, 1]'),\n",
       " Text(761.7640449438202, 190.26000000000005, 'gini = 0.0\\nsamples = 16\\nvalue = [16, 0, 0]'),\n",
       " Text(780.5730337078652, 190.26000000000005, 'X[2] <= 47.5\\ngini = 0.357\\nsamples = 14\\nvalue = [11, 2, 1]'),\n",
       " Text(771.1685393258427, 135.90000000000003, 'gini = 0.5\\nsamples = 6\\nvalue = [4, 1, 1]'),\n",
       " Text(789.9775280898876, 135.90000000000003, 'gini = 0.219\\nsamples = 8\\nvalue = [7, 1, 0]'),\n",
       " Text(780.5730337078652, 298.98, 'gini = 0.449\\nsamples = 7\\nvalue = [5, 1, 1]'),\n",
       " Text(818.1910112359551, 407.70000000000005, 'X[1] <= 51.0\\ngini = 0.57\\nsamples = 25\\nvalue = [3, 8, 14]'),\n",
       " Text(808.7865168539325, 353.34000000000003, 'X[0] <= 149.5\\ngini = 0.623\\nsamples = 17\\nvalue = [3, 8, 6]'),\n",
       " Text(799.3820224719101, 298.98, 'gini = 0.245\\nsamples = 7\\nvalue = [0, 6, 1]'),\n",
       " Text(818.1910112359551, 298.98, 'gini = 0.62\\nsamples = 10\\nvalue = [3, 2, 5]'),\n",
       " Text(827.5955056179776, 353.34000000000003, 'gini = 0.0\\nsamples = 8\\nvalue = [0, 0, 8]')]"
      ]
     },
     "execution_count": 42,
     "metadata": {},
     "output_type": "execute_result"
    },
    {
     "data": {
      "image/png": "[encoded data removed]",
      "text/plain": [
       "<Figure size 1080x720 with 1 Axes>"
      ]
     },
     "metadata": {},
     "output_type": "display_data"
    }
   ],
   "source": [
    "plt.figure(figsize=(15,10))\n",
    "tree.plot_tree(clf,filled=True)"
   ]
  },
  {
   "cell_type": "code",
   "execution_count": 32,
   "metadata": {},
   "outputs": [
    {
     "data": {
      "text/plain": [
       "DecisionTreeClassifier(max_depth=9, min_samples_leaf=6, min_samples_split=4)"
      ]
     },
     "execution_count": 32,
     "metadata": {},
     "output_type": "execute_result"
    }
   ],
   "source": [
    "clf"
   ]
  },
  {
   "cell_type": "markdown",
   "metadata": {},
   "source": [
    "## post prunning"
   ]
  },
  {
   "cell_type": "code",
   "execution_count": 45,
   "metadata": {},
   "outputs": [],
   "source": [
    "path = clf.cost_complexity_pruning_path(X_train,y_train)\n",
    "ccp_alphas , impurities = path.ccp_alphas  , path.impurities"
   ]
  },
  {
   "cell_type": "code",
   "execution_count": 46,
   "metadata": {},
   "outputs": [
    {
     "data": {
      "text/plain": [
       "{'ccp_alphas': array([0.00000000e+00, 5.80808081e-05, 7.63125763e-05, 1.30023641e-04,\n",
       "        1.61172161e-04, 2.15617716e-04, 2.39018088e-04, 3.35317460e-04,\n",
       "        3.72501612e-04, 4.48717949e-04, 5.49691050e-04, 5.55555556e-04,\n",
       "        5.76506194e-04, 6.01851852e-04, 6.34920635e-04, 6.36604775e-04,\n",
       "        6.38794567e-04, 6.66666667e-04, 6.90188896e-04, 7.01340190e-04,\n",
       "        7.53968254e-04, 7.82982045e-04, 9.55026455e-04, 1.06998557e-03,\n",
       "        1.08333333e-03, 1.25000000e-03, 1.56804126e-03, 1.79166667e-03,\n",
       "        2.05138889e-03, 2.08649643e-03, 2.10669863e-03, 2.22829132e-03,\n",
       "        2.39428071e-03, 2.47786690e-03, 2.56396856e-03, 2.60524098e-03,\n",
       "        2.88511060e-03, 3.04313725e-03, 3.50200417e-03, 4.05423280e-03,\n",
       "        4.40857412e-03, 5.12069691e-03, 5.13491354e-03, 5.18620269e-03,\n",
       "        5.35185185e-03, 5.76262626e-03, 6.03705069e-03, 7.78338803e-03,\n",
       "        7.92452518e-03, 9.15090001e-03, 1.41966343e-02, 1.76824251e-02,\n",
       "        2.10360073e-02, 3.19373543e-02, 4.78629827e-02]),\n",
       " 'impurities': array([0.24248215, 0.24254023, 0.24261654, 0.24287659, 0.24319893,\n",
       "        0.24363017, 0.24386919, 0.2442045 , 0.24494951, 0.24539823,\n",
       "        0.24594792, 0.24650347, 0.24707998, 0.24768183, 0.24831675,\n",
       "        0.24895336, 0.24959215, 0.25025882, 0.25094901, 0.25165035,\n",
       "        0.25240431, 0.25475326, 0.25761834, 0.25868833, 0.25977166,\n",
       "        0.26102166, 0.26572578, 0.26751745, 0.26956884, 0.27165533,\n",
       "        0.27376203, 0.27599032, 0.27838461, 0.28086247, 0.28342644,\n",
       "        0.28603168, 0.28891679, 0.29195993, 0.30246594, 0.30652017,\n",
       "        0.31092875, 0.31604945, 0.32118436, 0.32637056, 0.33172241,\n",
       "        0.33748504, 0.34352209, 0.35908887, 0.36701339, 0.37616429,\n",
       "        0.40455756, 0.42223999, 0.44327599, 0.47521335, 0.66666528])}"
      ]
     },
     "execution_count": 46,
     "metadata": {},
     "output_type": "execute_result"
    }
   ],
   "source": [
    "path"
   ]
  }
 ],
 "metadata": {
  "accelerator": "GPU",
  "colab": {
   "collapsed_sections": [
    "FASceuwQAOTp",
    "_px_mArrS4Um",
    "ls7X_oTmUC5q"
   ],
   "name": "decision trees.ipynb",
   "provenance": []
  },
  "kernelspec": {
   "display_name": "Python 3",
   "language": "python",
   "name": "python3"
  },
  "language_info": {
   "codemirror_mode": {
    "name": "ipython",
    "version": 3
   },
   "file_extension": ".py",
   "mimetype": "text/x-python",
   "name": "python",
   "nbconvert_exporter": "python",
   "pygments_lexer": "ipython3",
   "version": "3.8.2"
  },
  "metadata": {
   "interpreter": {
    "hash": "8e61c9422603e3d3820d3aeca1b8eefe471d1a1023a28a3903412dc32402bf43"
   }
  }
 },
 "nbformat": 4,
 "nbformat_minor": 1
}
