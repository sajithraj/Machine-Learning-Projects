{
 "cells": [
  {
   "cell_type": "code",
   "execution_count": 1,
   "metadata": {},
   "outputs": [],
   "source": [
    "import pandas as pd\n",
    "import numpy as np\n",
    "import matplotlib.pyplot as plt\n",
    "import seaborn as sns\n",
    "\n",
    "from sklearn.linear_model import LinearRegression\n",
    "from sklearn.metrics import mean_squared_error, r2_score\n",
    "from sklearn import metrics\n",
    "\n",
    "%matplotlib inline"
   ]
  },
  {
   "cell_type": "markdown",
   "metadata": {},
   "source": [
    "# importing data and understanding statistics of data"
   ]
  },
  {
   "cell_type": "code",
   "execution_count": 2,
   "metadata": {},
   "outputs": [
    {
     "data": {
      "text/html": [
       "<div>\n",
       "<style scoped>\n",
       "    .dataframe tbody tr th:only-of-type {\n",
       "        vertical-align: middle;\n",
       "    }\n",
       "\n",
       "    .dataframe tbody tr th {\n",
       "        vertical-align: top;\n",
       "    }\n",
       "\n",
       "    .dataframe thead th {\n",
       "        text-align: right;\n",
       "    }\n",
       "</style>\n",
       "<table border=\"1\" class=\"dataframe\">\n",
       "  <thead>\n",
       "    <tr style=\"text-align: right;\">\n",
       "      <th></th>\n",
       "      <th>stn_code</th>\n",
       "      <th>sampling_date</th>\n",
       "      <th>state</th>\n",
       "      <th>location</th>\n",
       "      <th>agency</th>\n",
       "      <th>type</th>\n",
       "      <th>so2</th>\n",
       "      <th>no2</th>\n",
       "      <th>rspm</th>\n",
       "      <th>spm</th>\n",
       "      <th>location_monitoring_station</th>\n",
       "      <th>pm2_5</th>\n",
       "      <th>date</th>\n",
       "    </tr>\n",
       "  </thead>\n",
       "  <tbody>\n",
       "    <tr>\n",
       "      <th>0</th>\n",
       "      <td>150.0</td>\n",
       "      <td>February - M021990</td>\n",
       "      <td>Andhra Pradesh</td>\n",
       "      <td>Hyderabad</td>\n",
       "      <td>NaN</td>\n",
       "      <td>Residential, Rural and other Areas</td>\n",
       "      <td>4.8</td>\n",
       "      <td>17.4</td>\n",
       "      <td>NaN</td>\n",
       "      <td>NaN</td>\n",
       "      <td>NaN</td>\n",
       "      <td>NaN</td>\n",
       "      <td>1990-02-01</td>\n",
       "    </tr>\n",
       "    <tr>\n",
       "      <th>1</th>\n",
       "      <td>151.0</td>\n",
       "      <td>February - M021990</td>\n",
       "      <td>Andhra Pradesh</td>\n",
       "      <td>Hyderabad</td>\n",
       "      <td>NaN</td>\n",
       "      <td>Industrial Area</td>\n",
       "      <td>3.1</td>\n",
       "      <td>7.0</td>\n",
       "      <td>NaN</td>\n",
       "      <td>NaN</td>\n",
       "      <td>NaN</td>\n",
       "      <td>NaN</td>\n",
       "      <td>1990-02-01</td>\n",
       "    </tr>\n",
       "    <tr>\n",
       "      <th>2</th>\n",
       "      <td>152.0</td>\n",
       "      <td>February - M021990</td>\n",
       "      <td>Andhra Pradesh</td>\n",
       "      <td>Hyderabad</td>\n",
       "      <td>NaN</td>\n",
       "      <td>Residential, Rural and other Areas</td>\n",
       "      <td>6.2</td>\n",
       "      <td>28.5</td>\n",
       "      <td>NaN</td>\n",
       "      <td>NaN</td>\n",
       "      <td>NaN</td>\n",
       "      <td>NaN</td>\n",
       "      <td>1990-02-01</td>\n",
       "    </tr>\n",
       "    <tr>\n",
       "      <th>3</th>\n",
       "      <td>150.0</td>\n",
       "      <td>March - M031990</td>\n",
       "      <td>Andhra Pradesh</td>\n",
       "      <td>Hyderabad</td>\n",
       "      <td>NaN</td>\n",
       "      <td>Residential, Rural and other Areas</td>\n",
       "      <td>6.3</td>\n",
       "      <td>14.7</td>\n",
       "      <td>NaN</td>\n",
       "      <td>NaN</td>\n",
       "      <td>NaN</td>\n",
       "      <td>NaN</td>\n",
       "      <td>1990-03-01</td>\n",
       "    </tr>\n",
       "    <tr>\n",
       "      <th>4</th>\n",
       "      <td>151.0</td>\n",
       "      <td>March - M031990</td>\n",
       "      <td>Andhra Pradesh</td>\n",
       "      <td>Hyderabad</td>\n",
       "      <td>NaN</td>\n",
       "      <td>Industrial Area</td>\n",
       "      <td>4.7</td>\n",
       "      <td>7.5</td>\n",
       "      <td>NaN</td>\n",
       "      <td>NaN</td>\n",
       "      <td>NaN</td>\n",
       "      <td>NaN</td>\n",
       "      <td>1990-03-01</td>\n",
       "    </tr>\n",
       "  </tbody>\n",
       "</table>\n",
       "</div>"
      ],
      "text/plain": [
       "   stn_code       sampling_date           state   location agency  \\\n",
       "0     150.0  February - M021990  Andhra Pradesh  Hyderabad    NaN   \n",
       "1     151.0  February - M021990  Andhra Pradesh  Hyderabad    NaN   \n",
       "2     152.0  February - M021990  Andhra Pradesh  Hyderabad    NaN   \n",
       "3     150.0     March - M031990  Andhra Pradesh  Hyderabad    NaN   \n",
       "4     151.0     March - M031990  Andhra Pradesh  Hyderabad    NaN   \n",
       "\n",
       "                                 type  so2   no2  rspm  spm  \\\n",
       "0  Residential, Rural and other Areas  4.8  17.4   NaN  NaN   \n",
       "1                     Industrial Area  3.1   7.0   NaN  NaN   \n",
       "2  Residential, Rural and other Areas  6.2  28.5   NaN  NaN   \n",
       "3  Residential, Rural and other Areas  6.3  14.7   NaN  NaN   \n",
       "4                     Industrial Area  4.7   7.5   NaN  NaN   \n",
       "\n",
       "  location_monitoring_station  pm2_5        date  \n",
       "0                         NaN    NaN  1990-02-01  \n",
       "1                         NaN    NaN  1990-02-01  \n",
       "2                         NaN    NaN  1990-02-01  \n",
       "3                         NaN    NaN  1990-03-01  \n",
       "4                         NaN    NaN  1990-03-01  "
      ]
     },
     "execution_count": 2,
     "metadata": {},
     "output_type": "execute_result"
    }
   ],
   "source": [
    "df = pd.read_csv('data.csv')\n",
    "df.head()"
   ]
  },
  {
   "cell_type": "code",
   "execution_count": 3,
   "metadata": {},
   "outputs": [
    {
     "data": {
      "text/plain": [
       "Index(['stn_code', 'sampling_date', 'state', 'location', 'agency', 'type',\n",
       "       'so2', 'no2', 'rspm', 'spm', 'location_monitoring_station', 'pm2_5',\n",
       "       'date'],\n",
       "      dtype='object')"
      ]
     },
     "execution_count": 3,
     "metadata": {},
     "output_type": "execute_result"
    }
   ],
   "source": [
    "df.columns"
   ]
  },
  {
   "cell_type": "code",
   "execution_count": 4,
   "metadata": {},
   "outputs": [
    {
     "name": "stdout",
     "output_type": "stream",
     "text": [
      "<class 'pandas.core.frame.DataFrame'>\n",
      "RangeIndex: 57033 entries, 0 to 57032\n",
      "Data columns (total 13 columns):\n",
      " #   Column                       Non-Null Count  Dtype  \n",
      "---  ------                       --------------  -----  \n",
      " 0   stn_code                     37726 non-null  float64\n",
      " 1   sampling_date                57033 non-null  object \n",
      " 2   state                        57033 non-null  object \n",
      " 3   location                     57033 non-null  object \n",
      " 4   agency                       37135 non-null  object \n",
      " 5   type                         56039 non-null  object \n",
      " 6   so2                          51843 non-null  float64\n",
      " 7   no2                          55333 non-null  float64\n",
      " 8   rspm                         54196 non-null  float64\n",
      " 9   spm                          24807 non-null  float64\n",
      " 10  location_monitoring_station  54431 non-null  object \n",
      " 11  pm2_5                        0 non-null      float64\n",
      " 12  date                         57032 non-null  object \n",
      "dtypes: float64(6), object(7)\n",
      "memory usage: 4.1+ MB\n"
     ]
    }
   ],
   "source": [
    "df.info()"
   ]
  },
  {
   "cell_type": "code",
   "execution_count": 5,
   "metadata": {},
   "outputs": [
    {
     "data": {
      "text/html": [
       "<div>\n",
       "<style scoped>\n",
       "    .dataframe tbody tr th:only-of-type {\n",
       "        vertical-align: middle;\n",
       "    }\n",
       "\n",
       "    .dataframe tbody tr th {\n",
       "        vertical-align: top;\n",
       "    }\n",
       "\n",
       "    .dataframe thead th {\n",
       "        text-align: right;\n",
       "    }\n",
       "</style>\n",
       "<table border=\"1\" class=\"dataframe\">\n",
       "  <thead>\n",
       "    <tr style=\"text-align: right;\">\n",
       "      <th></th>\n",
       "      <th>stn_code</th>\n",
       "      <th>so2</th>\n",
       "      <th>no2</th>\n",
       "      <th>rspm</th>\n",
       "      <th>spm</th>\n",
       "      <th>pm2_5</th>\n",
       "    </tr>\n",
       "  </thead>\n",
       "  <tbody>\n",
       "    <tr>\n",
       "      <th>count</th>\n",
       "      <td>37726.000000</td>\n",
       "      <td>51843.000000</td>\n",
       "      <td>55333.000000</td>\n",
       "      <td>54196.000000</td>\n",
       "      <td>24807.000000</td>\n",
       "      <td>0.0</td>\n",
       "    </tr>\n",
       "    <tr>\n",
       "      <th>mean</th>\n",
       "      <td>452.586254</td>\n",
       "      <td>7.231622</td>\n",
       "      <td>19.443599</td>\n",
       "      <td>87.934604</td>\n",
       "      <td>195.513266</td>\n",
       "      <td>NaN</td>\n",
       "    </tr>\n",
       "    <tr>\n",
       "      <th>std</th>\n",
       "      <td>184.963445</td>\n",
       "      <td>6.855290</td>\n",
       "      <td>11.451365</td>\n",
       "      <td>50.398833</td>\n",
       "      <td>107.049121</td>\n",
       "      <td>NaN</td>\n",
       "    </tr>\n",
       "    <tr>\n",
       "      <th>min</th>\n",
       "      <td>44.000000</td>\n",
       "      <td>0.400000</td>\n",
       "      <td>0.500000</td>\n",
       "      <td>2.000000</td>\n",
       "      <td>0.000000</td>\n",
       "      <td>NaN</td>\n",
       "    </tr>\n",
       "    <tr>\n",
       "      <th>25%</th>\n",
       "      <td>264.000000</td>\n",
       "      <td>4.000000</td>\n",
       "      <td>12.200000</td>\n",
       "      <td>54.000000</td>\n",
       "      <td>123.000000</td>\n",
       "      <td>NaN</td>\n",
       "    </tr>\n",
       "    <tr>\n",
       "      <th>50%</th>\n",
       "      <td>519.000000</td>\n",
       "      <td>5.800000</td>\n",
       "      <td>16.000000</td>\n",
       "      <td>77.000000</td>\n",
       "      <td>177.000000</td>\n",
       "      <td>NaN</td>\n",
       "    </tr>\n",
       "    <tr>\n",
       "      <th>75%</th>\n",
       "      <td>585.000000</td>\n",
       "      <td>8.000000</td>\n",
       "      <td>24.000000</td>\n",
       "      <td>109.000000</td>\n",
       "      <td>248.000000</td>\n",
       "      <td>NaN</td>\n",
       "    </tr>\n",
       "    <tr>\n",
       "      <th>max</th>\n",
       "      <td>788.000000</td>\n",
       "      <td>228.000000</td>\n",
       "      <td>334.900000</td>\n",
       "      <td>790.000000</td>\n",
       "      <td>1752.000000</td>\n",
       "      <td>NaN</td>\n",
       "    </tr>\n",
       "  </tbody>\n",
       "</table>\n",
       "</div>"
      ],
      "text/plain": [
       "           stn_code           so2           no2          rspm           spm  \\\n",
       "count  37726.000000  51843.000000  55333.000000  54196.000000  24807.000000   \n",
       "mean     452.586254      7.231622     19.443599     87.934604    195.513266   \n",
       "std      184.963445      6.855290     11.451365     50.398833    107.049121   \n",
       "min       44.000000      0.400000      0.500000      2.000000      0.000000   \n",
       "25%      264.000000      4.000000     12.200000     54.000000    123.000000   \n",
       "50%      519.000000      5.800000     16.000000     77.000000    177.000000   \n",
       "75%      585.000000      8.000000     24.000000    109.000000    248.000000   \n",
       "max      788.000000    228.000000    334.900000    790.000000   1752.000000   \n",
       "\n",
       "       pm2_5  \n",
       "count    0.0  \n",
       "mean     NaN  \n",
       "std      NaN  \n",
       "min      NaN  \n",
       "25%      NaN  \n",
       "50%      NaN  \n",
       "75%      NaN  \n",
       "max      NaN  "
      ]
     },
     "execution_count": 5,
     "metadata": {},
     "output_type": "execute_result"
    }
   ],
   "source": [
    "df.describe()"
   ]
  },
  {
   "cell_type": "markdown",
   "metadata": {},
   "source": [
    "# Exploratory Data Analysis"
   ]
  },
  {
   "cell_type": "code",
   "execution_count": 6,
   "metadata": {},
   "outputs": [
    {
     "data": {
      "text/html": [
       "<div>\n",
       "<style scoped>\n",
       "    .dataframe tbody tr th:only-of-type {\n",
       "        vertical-align: middle;\n",
       "    }\n",
       "\n",
       "    .dataframe tbody tr th {\n",
       "        vertical-align: top;\n",
       "    }\n",
       "\n",
       "    .dataframe thead th {\n",
       "        text-align: right;\n",
       "    }\n",
       "</style>\n",
       "<table border=\"1\" class=\"dataframe\">\n",
       "  <thead>\n",
       "    <tr style=\"text-align: right;\">\n",
       "      <th></th>\n",
       "      <th>stn_code</th>\n",
       "      <th>so2</th>\n",
       "      <th>no2</th>\n",
       "      <th>rspm</th>\n",
       "      <th>spm</th>\n",
       "      <th>pm2_5</th>\n",
       "    </tr>\n",
       "  </thead>\n",
       "  <tbody>\n",
       "    <tr>\n",
       "      <th>stn_code</th>\n",
       "      <td>1.000000</td>\n",
       "      <td>-0.191395</td>\n",
       "      <td>-0.364109</td>\n",
       "      <td>-0.148916</td>\n",
       "      <td>-0.221092</td>\n",
       "      <td>NaN</td>\n",
       "    </tr>\n",
       "    <tr>\n",
       "      <th>so2</th>\n",
       "      <td>-0.191395</td>\n",
       "      <td>1.000000</td>\n",
       "      <td>0.374600</td>\n",
       "      <td>0.106776</td>\n",
       "      <td>0.197339</td>\n",
       "      <td>NaN</td>\n",
       "    </tr>\n",
       "    <tr>\n",
       "      <th>no2</th>\n",
       "      <td>-0.364109</td>\n",
       "      <td>0.374600</td>\n",
       "      <td>1.000000</td>\n",
       "      <td>0.246834</td>\n",
       "      <td>0.362660</td>\n",
       "      <td>NaN</td>\n",
       "    </tr>\n",
       "    <tr>\n",
       "      <th>rspm</th>\n",
       "      <td>-0.148916</td>\n",
       "      <td>0.106776</td>\n",
       "      <td>0.246834</td>\n",
       "      <td>1.000000</td>\n",
       "      <td>0.820282</td>\n",
       "      <td>NaN</td>\n",
       "    </tr>\n",
       "    <tr>\n",
       "      <th>spm</th>\n",
       "      <td>-0.221092</td>\n",
       "      <td>0.197339</td>\n",
       "      <td>0.362660</td>\n",
       "      <td>0.820282</td>\n",
       "      <td>1.000000</td>\n",
       "      <td>NaN</td>\n",
       "    </tr>\n",
       "    <tr>\n",
       "      <th>pm2_5</th>\n",
       "      <td>NaN</td>\n",
       "      <td>NaN</td>\n",
       "      <td>NaN</td>\n",
       "      <td>NaN</td>\n",
       "      <td>NaN</td>\n",
       "      <td>NaN</td>\n",
       "    </tr>\n",
       "  </tbody>\n",
       "</table>\n",
       "</div>"
      ],
      "text/plain": [
       "          stn_code       so2       no2      rspm       spm  pm2_5\n",
       "stn_code  1.000000 -0.191395 -0.364109 -0.148916 -0.221092    NaN\n",
       "so2      -0.191395  1.000000  0.374600  0.106776  0.197339    NaN\n",
       "no2      -0.364109  0.374600  1.000000  0.246834  0.362660    NaN\n",
       "rspm     -0.148916  0.106776  0.246834  1.000000  0.820282    NaN\n",
       "spm      -0.221092  0.197339  0.362660  0.820282  1.000000    NaN\n",
       "pm2_5          NaN       NaN       NaN       NaN       NaN    NaN"
      ]
     },
     "execution_count": 6,
     "metadata": {},
     "output_type": "execute_result"
    }
   ],
   "source": [
    "df.corr()"
   ]
  },
  {
   "cell_type": "code",
   "execution_count": 7,
   "metadata": {},
   "outputs": [
    {
     "data": {
      "text/plain": [
       "<matplotlib.axes._subplots.AxesSubplot at 0x12fa4040>"
      ]
     },
     "execution_count": 7,
     "metadata": {},
     "output_type": "execute_result"
    },
    {
     "data": {
      "image/png": "[encoded data removed]",
      "text/plain": [
       "<Figure size 432x288 with 2 Axes>"
      ]
     },
     "metadata": {
      "needs_background": "light"
     },
     "output_type": "display_data"
    }
   ],
   "source": [
    "sns.heatmap(df.corr(),annot=True)"
   ]
  },
  {
   "cell_type": "code",
   "execution_count": 8,
   "metadata": {},
   "outputs": [
    {
     "data": {
      "text/plain": [
       "stn_code                       19307\n",
       "sampling_date                      0\n",
       "state                              0\n",
       "location                           0\n",
       "agency                         19898\n",
       "type                             994\n",
       "so2                             5190\n",
       "no2                             1700\n",
       "rspm                            2837\n",
       "spm                            32226\n",
       "location_monitoring_station     2602\n",
       "pm2_5                          57033\n",
       "date                               1\n",
       "dtype: int64"
      ]
     },
     "execution_count": 8,
     "metadata": {},
     "output_type": "execute_result"
    }
   ],
   "source": [
    "df.isna().sum(axis=0)"
   ]
  },
  {
   "cell_type": "code",
   "execution_count": 9,
   "metadata": {},
   "outputs": [
    {
     "data": {
      "text/plain": [
       "<matplotlib.axes._subplots.AxesSubplot at 0x1306bc10>"
      ]
     },
     "execution_count": 9,
     "metadata": {},
     "output_type": "execute_result"
    },
    {
     "data": {
      "image/png": "[encoded data removed]",
      "text/plain": [
       "<Figure size 432x288 with 1 Axes>"
      ]
     },
     "metadata": {
      "needs_background": "light"
     },
     "output_type": "display_data"
    }
   ],
   "source": [
    "sns.distplot(df['rspm'].fillna(0))"
   ]
  },
  {
   "cell_type": "code",
   "execution_count": 10,
   "metadata": {},
   "outputs": [
    {
     "data": {
      "text/plain": [
       "<matplotlib.axes._subplots.AxesSubplot at 0x13299a90>"
      ]
     },
     "execution_count": 10,
     "metadata": {},
     "output_type": "execute_result"
    },
    {
     "data": {
      "image/png": "[encoded data removed]",
      "text/plain": [
       "<Figure size 2160x720 with 1 Axes>"
      ]
     },
     "metadata": {
      "needs_background": "light"
     },
     "output_type": "display_data"
    }
   ],
   "source": [
    "#number of data points for each state\n",
    "df['state'].value_counts().plot(kind='barh',figsize=(30,10))"
   ]
  },
  {
   "cell_type": "markdown",
   "metadata": {},
   "source": [
    "# Predictive modelling for rspm in Delhi,inspired by recent air pollution concerns in Delhi"
   ]
  },
  {
   "cell_type": "code",
   "execution_count": 20,
   "metadata": {},
   "outputs": [
    {
     "name": "stdout",
     "output_type": "stream",
     "text": [
      "(2275, 13)\n"
     ]
    },
    {
     "data": {
      "text/html": [
       "<div>\n",
       "<style scoped>\n",
       "    .dataframe tbody tr th:only-of-type {\n",
       "        vertical-align: middle;\n",
       "    }\n",
       "\n",
       "    .dataframe tbody tr th {\n",
       "        vertical-align: top;\n",
       "    }\n",
       "\n",
       "    .dataframe thead th {\n",
       "        text-align: right;\n",
       "    }\n",
       "</style>\n",
       "<table border=\"1\" class=\"dataframe\">\n",
       "  <thead>\n",
       "    <tr style=\"text-align: right;\">\n",
       "      <th></th>\n",
       "      <th>stn_code</th>\n",
       "      <th>sampling_date</th>\n",
       "      <th>state</th>\n",
       "      <th>location</th>\n",
       "      <th>agency</th>\n",
       "      <th>type</th>\n",
       "      <th>so2</th>\n",
       "      <th>no2</th>\n",
       "      <th>rspm</th>\n",
       "      <th>spm</th>\n",
       "      <th>location_monitoring_station</th>\n",
       "      <th>pm2_5</th>\n",
       "      <th>date</th>\n",
       "    </tr>\n",
       "  </thead>\n",
       "  <tbody>\n",
       "    <tr>\n",
       "      <th>45819</th>\n",
       "      <td>46.0</td>\n",
       "      <td>30-03-87</td>\n",
       "      <td>Bihar</td>\n",
       "      <td>Sindri</td>\n",
       "      <td>Bihar Pollution Control Board</td>\n",
       "      <td>Industrial</td>\n",
       "      <td>66.7</td>\n",
       "      <td>30.4</td>\n",
       "      <td>0.0</td>\n",
       "      <td>451.0</td>\n",
       "      <td>0</td>\n",
       "      <td>0.0</td>\n",
       "      <td>1987-03-30</td>\n",
       "    </tr>\n",
       "    <tr>\n",
       "      <th>45820</th>\n",
       "      <td>45.0</td>\n",
       "      <td>24-03-87</td>\n",
       "      <td>Bihar</td>\n",
       "      <td>Jharia</td>\n",
       "      <td>Bihar Pollution Control Board</td>\n",
       "      <td>Industrial</td>\n",
       "      <td>47.2</td>\n",
       "      <td>32.8</td>\n",
       "      <td>0.0</td>\n",
       "      <td>514.0</td>\n",
       "      <td>0</td>\n",
       "      <td>0.0</td>\n",
       "      <td>1987-03-24</td>\n",
       "    </tr>\n",
       "    <tr>\n",
       "      <th>45821</th>\n",
       "      <td>44.0</td>\n",
       "      <td>3/9/1987</td>\n",
       "      <td>Bihar</td>\n",
       "      <td>Dhanbad</td>\n",
       "      <td>Bihar Pollution Control Board</td>\n",
       "      <td>Residential</td>\n",
       "      <td>0.0</td>\n",
       "      <td>30.5</td>\n",
       "      <td>0.0</td>\n",
       "      <td>172.0</td>\n",
       "      <td>0</td>\n",
       "      <td>0.0</td>\n",
       "      <td>1987-09-03</td>\n",
       "    </tr>\n",
       "    <tr>\n",
       "      <th>45822</th>\n",
       "      <td>45.0</td>\n",
       "      <td>13-04-87</td>\n",
       "      <td>Bihar</td>\n",
       "      <td>Jharia</td>\n",
       "      <td>Bihar Pollution Control Board</td>\n",
       "      <td>Industrial</td>\n",
       "      <td>41.7</td>\n",
       "      <td>48.6</td>\n",
       "      <td>0.0</td>\n",
       "      <td>621.0</td>\n",
       "      <td>0</td>\n",
       "      <td>0.0</td>\n",
       "      <td>1987-04-13</td>\n",
       "    </tr>\n",
       "    <tr>\n",
       "      <th>45823</th>\n",
       "      <td>44.0</td>\n",
       "      <td>4/10/1987</td>\n",
       "      <td>Bihar</td>\n",
       "      <td>Dhanbad</td>\n",
       "      <td>Bihar Pollution Control Board</td>\n",
       "      <td>Residential</td>\n",
       "      <td>23.6</td>\n",
       "      <td>21.0</td>\n",
       "      <td>0.0</td>\n",
       "      <td>227.0</td>\n",
       "      <td>0</td>\n",
       "      <td>0.0</td>\n",
       "      <td>1987-10-04</td>\n",
       "    </tr>\n",
       "  </tbody>\n",
       "</table>\n",
       "</div>"
      ],
      "text/plain": [
       "       stn_code sampling_date  state location                         agency  \\\n",
       "45819      46.0      30-03-87  Bihar   Sindri  Bihar Pollution Control Board   \n",
       "45820      45.0      24-03-87  Bihar   Jharia  Bihar Pollution Control Board   \n",
       "45821      44.0      3/9/1987  Bihar  Dhanbad  Bihar Pollution Control Board   \n",
       "45822      45.0      13-04-87  Bihar   Jharia  Bihar Pollution Control Board   \n",
       "45823      44.0     4/10/1987  Bihar  Dhanbad  Bihar Pollution Control Board   \n",
       "\n",
       "              type   so2   no2  rspm    spm location_monitoring_station  \\\n",
       "45819   Industrial  66.7  30.4   0.0  451.0                           0   \n",
       "45820   Industrial  47.2  32.8   0.0  514.0                           0   \n",
       "45821  Residential   0.0  30.5   0.0  172.0                           0   \n",
       "45822   Industrial  41.7  48.6   0.0  621.0                           0   \n",
       "45823  Residential  23.6  21.0   0.0  227.0                           0   \n",
       "\n",
       "       pm2_5        date  \n",
       "45819    0.0  1987-03-30  \n",
       "45820    0.0  1987-03-24  \n",
       "45821    0.0  1987-09-03  \n",
       "45822    0.0  1987-04-13  \n",
       "45823    0.0  1987-10-04  "
      ]
     },
     "execution_count": 20,
     "metadata": {},
     "output_type": "execute_result"
    }
   ],
   "source": [
    "new_df=df.loc[df['state'] == \"Bihar\"]\n",
    "new_df = new_df.fillna(0)\n",
    "print(new_df.shape)\n",
    "new_df.head()"
   ]
  },
  {
   "cell_type": "code",
   "execution_count": 21,
   "metadata": {},
   "outputs": [
    {
     "data": {
      "text/plain": [
       "((2275, 2), (2275,))"
      ]
     },
     "execution_count": 21,
     "metadata": {},
     "output_type": "execute_result"
    }
   ],
   "source": [
    "X = new_df[['so2','no2']]\n",
    "y = new_df['rspm']\n",
    "X.shape ,y.shape"
   ]
  },
  {
   "cell_type": "code",
   "execution_count": 22,
   "metadata": {},
   "outputs": [],
   "source": [
    "#splitting dataset into train and test sets\n",
    "from sklearn.model_selection import train_test_split\n",
    "X_train, X_test, y_train, y_test = train_test_split(X, y, test_size = 1/3, random_state = 0)\n"
   ]
  },
  {
   "cell_type": "code",
   "execution_count": 23,
   "metadata": {},
   "outputs": [
    {
     "data": {
      "text/plain": [
       "LinearRegression()"
      ]
     },
     "execution_count": 23,
     "metadata": {},
     "output_type": "execute_result"
    }
   ],
   "source": [
    "# training linear regression model\n",
    "regressor = LinearRegression()\n",
    "regmodel=regressor.fit(X_train, y_train)\n",
    "regmodel"
   ]
  },
  {
   "cell_type": "code",
   "execution_count": 24,
   "metadata": {},
   "outputs": [
    {
     "data": {
      "text/plain": [
       "array([  68.07535494,  113.64738793,  143.9557043 ,   70.99726473,\n",
       "         66.76093801,   42.1221172 ,  142.95178146,   34.34980441,\n",
       "         26.51265494,   69.7257032 ,  110.86109467,   82.33487195,\n",
       "         87.15679695,  129.83926929,   15.32186246,  149.86753972,\n",
       "         65.08211174,   81.22754334,   59.78836212,  122.0668181 ,\n",
       "        -40.58620375,   87.2390518 ,   71.14006995,  108.77514205,\n",
       "        104.55333111,  133.23258853,   57.29569833,  102.83469023,\n",
       "         88.69267961,   78.76266561,  100.54109573,   65.95111   ,\n",
       "         80.54876878,   70.83303181,   41.26459393,   64.62134694,\n",
       "        138.52246702,   68.93287821,  -47.92374253,   96.4550397 ,\n",
       "        109.42156747,   89.19312063,  130.6289151 ,   87.04634087,\n",
       "         36.22465917,   68.83265162,   25.16588887,   82.47767717,\n",
       "         18.08672803,   83.02788552,  103.18831651,   60.56418409,\n",
       "         73.26196605,   78.72672212,   66.59311074,   90.82922988,\n",
       "        117.55884316,   78.72672212,   26.42044739,   81.22754334,\n",
       "         83.40625707,   93.06863237,   84.56017383,   67.29676896,\n",
       "         43.37225103,   40.76498325,   52.70284292,  120.77700805,\n",
       "         42.45072144,   26.20216084,   60.99951167,   32.37375431,\n",
       "         78.72672212,   46.49060449,   74.36224435,   66.97604537,\n",
       "         12.74597509,   88.55028956,  103.54926989,  112.96156306,\n",
       "         98.65863709,   25.95194033,  129.99603673,   40.5783539 ,\n",
       "         42.79010872,   16.00063702,   95.8011488 ,   80.12021473,\n",
       "         84.94241651,   69.51502052,   38.8999428 ,   43.84006614,\n",
       "         69.1576615 ,   60.6527973 ,  101.88827697,   73.26196605,\n",
       "         95.37992184,  107.62509643,   40.1462055 ,  108.64298149,\n",
       "         76.09788825,  198.04006697,   38.5464549 ,   99.05221638,\n",
       "        106.52067022,   96.17288522,   32.2565247 ,  112.35108113,\n",
       "         49.15552024,   69.0760986 ,  127.53876287,  102.69534097,\n",
       "        119.55549062,   84.26336517,   33.40615516,  146.15252816,\n",
       "         77.01250593,   42.53311468,  120.84115276,  -10.44972417,\n",
       "         30.76322067,  171.57836916,  101.98062292,   76.90177307,\n",
       "         40.28970267,   81.76392785,   65.34643287,   43.24036725,\n",
       "        110.83925179,   97.80152899,   72.36891447,   84.76380619,\n",
       "         39.40397817,   78.7986091 ,  125.73496474,   68.11544634,\n",
       "         92.05060892,   66.44671117,    0.40140424,   59.14954056,\n",
       "         97.87687193,   41.14307803,   71.94036042,   81.09897713,\n",
       "         12.39995267,   12.86057908,   82.60638178,   27.39879461,\n",
       "         48.59107289,   56.36670325,   84.94213973,   36.82477323,\n",
       "         56.94967591,   80.41315226,   53.99196102,   35.7291964 ,\n",
       "         82.82052041,   51.03079018,   87.47143896,  140.77306773,\n",
       "         93.37221456,   63.92487742,   62.90395157,   37.59700086,\n",
       "         64.62494129,   77.7555636 ,   65.40726001,   70.57216664,\n",
       "        -65.27313499,   87.69290468,  121.73420435,   72.90833977,\n",
       "         67.7683168 ,  105.34587932,   81.2452383 ,  134.94735829,\n",
       "         61.51363814,   33.36385331,   89.24316473,   47.99123561,\n",
       "         91.8363319 ,  -10.65695089,   89.8359517 ,  -49.39202451,\n",
       "         60.01397575,   44.3757587 ,  120.37665523,   10.67094391,\n",
       "        111.70078458,  121.26970681,  120.64166831,   65.37532605,\n",
       "         77.88067385,   97.29099687,   95.06915096,   99.80190919,\n",
       "         54.01325034,  115.26856623,  134.67557168,   78.72672212,\n",
       "         93.8079573 ,   85.4391248 ,   99.37349353,   86.30355998,\n",
       "         94.47954317,   -4.82737032,   13.18185622,  145.70282319,\n",
       "        124.19908208,   67.51104598,   96.09768067,   95.5192711 ,\n",
       "        108.23198401,   93.92615564,  137.41513842,   -4.91681387,\n",
       "        112.41107794,    9.09593859,   63.01399248,   42.90789189,\n",
       "        128.52098122,   16.86908173,  103.55244906,   80.95962787,\n",
       "         25.96977368,   33.7274323 ,   45.52290192,   45.92311635,\n",
       "         94.09398291,   31.48512742,  144.05952524,   77.86270211,\n",
       "        123.13474727,   50.79397833,  117.13720103,  113.07589027,\n",
       "         84.59597892,   44.94034444,   38.96035478,  130.59698113,\n",
       "         98.76646755,   70.83303181,  103.0955554 ,   21.97274603,\n",
       "        103.33817204,  105.4463827 ,  109.60363375,   89.16823697,\n",
       "        123.91706599,   79.01288612,   84.21733059,   72.48324168,\n",
       "         58.82065955,  126.03868531,   30.163245  ,   84.57455122,\n",
       "         82.33487195,   80.05261406,   84.31797235,   74.58357169,\n",
       "        107.33893243,   40.43264628,  122.1627584 ,  -25.45934916,\n",
       "         92.51510646,   78.72672212,   78.72672212,   61.16733894,\n",
       "         40.1004477 ,   64.66793509,   30.552538  ,   49.82669093,\n",
       "         89.37145417,  132.80749044,  119.94810118,   55.82008926,\n",
       "        146.17077669,    3.65592779,    9.31007722,  143.88077653,\n",
       "         93.09019847,   57.40601602,   85.12821553,   73.47624308,\n",
       "         68.54330844,  106.23160382,  129.51439779,   70.60520773,\n",
       "         67.20386945,  -19.18697553,  187.65633848,   22.44415549,\n",
       "         91.63283792,  116.58699269,   64.6892244 ,   46.28738729,\n",
       "         17.23625506,   45.17992029,   80.90225668,   98.21252647,\n",
       "          9.4678134 ,   68.83279001,   98.99083567,   58.91065666,\n",
       "         59.00991452,  -13.29656781,   70.6972769 ,   39.94713621,\n",
       "        111.51802635,   73.64420874,   35.07516711,   64.18906015,\n",
       "        108.93218628,   54.60576053,   69.36834418,   83.26331346,\n",
       "         95.77280918,  -49.95218557,   53.5631302 ,   62.53898868,\n",
       "         68.21829855,   78.72672212,   88.26412556,  -25.45934916,\n",
       "        118.1979415 ,   30.43143726,   99.94568314,   38.47180392,\n",
       "         79.09514097,  121.26970681,  113.60771171,  112.19680091,\n",
       "        120.01998815,   94.07946713,  112.27228224,   92.51510646,\n",
       "        104.08454728,   80.53466817,   84.90758015,   61.33157186,\n",
       "         34.55620078,   90.19331073,   26.83407048,  140.98734476,\n",
       "         91.58611139,   94.26526614,  108.14281724,   46.66479012,\n",
       "         57.47817977,   45.33627257,   55.5919884 ,   83.26718459,\n",
       "         90.47878278,   96.00104843,  -84.17555151,   24.28016437,\n",
       "         68.83265162,   59.84573331,   94.47954317, -170.07383612,\n",
       "        112.750742  ,   15.62185029, -171.77768443,  114.84001218,\n",
       "         59.81836242,   86.41415445,  105.41043921,   78.66644854,\n",
       "        114.29063418,  109.20742884,   84.33525215,  102.73128445,\n",
       "         81.87037441,  207.24872778,   77.69128049,   35.7320988 ,\n",
       "        100.15207951,   94.69382019,   84.26336517,  121.69867603,\n",
       "         95.64064862,   93.19000989,   67.90738928,  111.6074699 ,\n",
       "         60.91739521,   69.75418121,  149.99638272,   70.7401323 ,\n",
       "         26.51666446,  140.80514009,  103.98473585,   29.25913359,\n",
       "         24.7876557 ,  115.60449755,  103.80266958,   83.18852409,\n",
       "        128.41411949,   54.42037668,   90.47878278,   28.21678004,\n",
       "         84.17447518,  112.4330592 ,   39.0430248 ,  103.29199907,\n",
       "         44.15470815,  118.59055206,   79.14145234,   86.78229652,\n",
       "        177.1365783 ,   87.01772447,   31.2134792 ,   75.78020545,\n",
       "         63.31771305,   78.72672212,  102.44512045,  -52.54936225,\n",
       "         91.15755734,   65.90424508,   29.10278132,   78.73045486,\n",
       "         24.20122709,   70.56497794,   78.72672212,   68.07259094,\n",
       "         79.97381516,   48.35868573,   25.92318554,  114.74752784,\n",
       "         79.04882961,   94.4762256 ,   69.51142618,  139.23718507,\n",
       "         86.29968885,  104.19528014,   35.47137202,   28.38115135,\n",
       "        123.19198007,   89.8359517 ,   92.89071401,   98.23008304,\n",
       "         75.90517732,   -2.13065899,   44.10037774,  114.97590548,\n",
       "         92.00429756,   72.24048664,   82.64191009,   88.04653097,\n",
       "         85.62091429,   66.2358901 ,   58.45016864,   71.43991939,\n",
       "         80.54876878,   92.85103778,   97.14805326,   78.72672212,\n",
       "        111.38628096,   60.43575627,   55.87732206,   51.4626618 ,\n",
       "        106.40993736,   84.55671787,   54.40254333,  122.84153296,\n",
       "         31.78055217,  101.16305266,   89.9003732 ,   67.24313051,\n",
       "         78.64474405,   73.47624308,   92.69344   ,  105.76710628,\n",
       "         56.23841382,   94.52972566,   71.72608339,  133.65035953,\n",
       "         35.7249101 ,   44.56515206,   88.25735203,  -20.92275782,\n",
       "        111.05767673,   76.80901195,   67.29676896,   99.20552787,\n",
       "         78.72672212,   67.7038953 ,   87.83598668,   -0.29465011,\n",
       "        107.59247051,  124.23792796,  104.08883358,   44.8721902 ,\n",
       "        103.22412161,   43.83674857,   69.04692864,   71.39388481,\n",
       "         36.22493595,   90.33639273,   38.0500234 ,  -23.99839426,\n",
       "         88.72862309,  129.99603673,   99.31266638,   62.30314556,\n",
       "         72.91179573,   70.67225485,  108.37866036,   68.78620186,\n",
       "        -77.45886254,   71.26158586,   73.4802526 ,  107.73873169,\n",
       "         33.71402364,   84.33525215,   50.81983072,  193.72521813,\n",
       "         74.7193266 ,  123.99517293,  143.27388895,   38.77884206,\n",
       "        104.8740547 ,   45.20452717,   43.40460017,   60.06706064,\n",
       "         32.3567513 ,   85.01388832,   48.87253542,   47.35517807,\n",
       "         85.38520956,   87.3678948 ,   86.94251992,   80.95935109,\n",
       "         68.38972017,  112.72558156,   38.89220054,  100.94518128,\n",
       "         87.83557151,   78.72672212,   84.01010387,   64.7821239 ,\n",
       "         88.94290012,   96.69420038,   85.51750852,   70.80870171,\n",
       "         42.52606437,   70.79003801,   93.15793753,  101.33779185,\n",
       "        135.91519925,  135.27596252,   97.85171149,   50.69513564,\n",
       "        109.05397896,  106.52467974,  102.19531511,  109.08909211,\n",
       "        130.97535269,  -34.37521083,  119.49825782,   -4.56318758,\n",
       "         94.97998419,   68.53611974,  117.41216681,   74.36929466,\n",
       "         98.76646755,   80.86341079,   94.53691436,   94.77621343,\n",
       "         81.65609739,  100.1208375 ,  120.84115276,   66.84664882,\n",
       "         81.64904708,  120.80520928,  122.82439156,   78.72672212,\n",
       "        111.51802635,   49.00912067,   81.40615366,   44.40036558,\n",
       "        104.44550065,   78.8344142 ,   98.73398002,  106.23160382,\n",
       "         73.86885364,   84.76380619,   73.47624308,  119.27319775,\n",
       "         85.81404039,   70.71497186,   78.72672212,   83.50275093,\n",
       "         60.70657414,  105.88917575,   42.91134784,   83.74937709,\n",
       "        101.33779185,  103.09901135,   37.49635909,  111.7005078 ,\n",
       "         77.90555751,   66.03944643,   53.06987787,   78.72672212,\n",
       "         96.12643546,   78.51286027,  130.95724255,   98.01580602,\n",
       "        101.80228938,  123.69864106,   49.45467773,   86.76418639,\n",
       "        102.09605725,   11.41773432,   62.66396054,  103.33817204,\n",
       "         98.45541989,   82.29892846,   77.2847077 ,  121.68084268,\n",
       "         43.58652806,  113.62623701,   90.74683664,   95.37259475,\n",
       "         80.15615822,   61.56382063,   93.01167635,   99.37335514,\n",
       "        103.4460025 ,   92.15415309,   63.97478313,  -76.50332692,\n",
       "        -73.11360202,   49.39468093,  102.65939748,   77.60556968,\n",
       "         49.91226335,   45.20798313,  104.65977767,   90.10759992,\n",
       "        119.58714781,    9.03124031,   96.01542582,   34.2569049 ,\n",
       "         91.65799836,   40.84004941,   55.7278817 ,   86.37157583,\n",
       "        106.29602532,   59.97789387,   43.72172941,   94.9440407 ,\n",
       "         83.70292734,   43.75836485,   76.7982289 ,  107.13198249,\n",
       "         47.6980213 ,  117.48322345,   43.55805005,   60.89375706,\n",
       "         91.58611139,  101.85966057,  105.18510236,   49.41583185,\n",
       "         67.03949814,   48.21574212,   77.44105998,   55.12057895,\n",
       "         72.47605298,   41.83235885,   59.36381759,   93.83671209,\n",
       "         57.9171017 ,   95.33665126,   28.38101296,   90.41477645,\n",
       "         95.75497583,  100.40589437,   -8.15682162,   88.51434607,\n",
       "         93.8007686 ,   67.93254972,   68.83265162,   94.34752099,\n",
       "         78.72672212,   78.72672212,   76.58395188,  112.87557547,\n",
       "         20.36566835,   59.62412919,   35.60712693,   73.90479713,\n",
       "         10.31731763,   99.80190919,  118.92275064,   44.37603548,\n",
       "         11.84628837,   79.11988624,    4.9306685 ,   93.14383692,\n",
       "         78.33411156,  145.41665919,   87.15679695,   87.62129449,\n",
       "         65.91143378,   96.27642938,    9.72093631,  113.96852669,\n",
       "         45.20452717,   59.29193061,   96.95160959,   48.24822965,\n",
       "         78.72672212,   26.031016  ,  110.2325026 ,  103.08795153,\n",
       "        119.76230216,   78.72672212,   90.94328031,  106.27100327,\n",
       "         62.57824973,   79.90593771,   -4.91308113,   76.93467577,\n",
       "        191.92446078,   39.27209439,   78.72672212,   81.20970999,\n",
       "         87.40701746,  114.5192886 ,   78.7986091 ,   99.7659657 ,\n",
       "         91.68619959,   51.35856407,  101.12351482,   45.24406501,\n",
       "          3.70196237,  126.84229335,   66.18944035,   55.35987802,\n",
       "         71.04730883,   71.97630391,   73.47624308, -133.35089447,\n",
       "         68.02558762,   49.06649186,   27.07019037,   66.40731172,\n",
       "         83.27409651,   39.0473111 ,    6.4601928 ,   64.53978404,\n",
       "         54.92344332,  100.44474026,   87.62129449,   97.90175559,\n",
       "        105.45661218,   78.72672212,   97.58725197])"
      ]
     },
     "execution_count": 24,
     "metadata": {},
     "output_type": "execute_result"
    }
   ],
   "source": [
    "# Predicting the Test set results\n",
    "y_pred = regressor.predict(X_test)\n",
    "y_pred"
   ]
  },
  {
   "cell_type": "code",
   "execution_count": 25,
   "metadata": {},
   "outputs": [],
   "source": [
    "# Analysis of results and model evaluation"
   ]
  },
  {
   "cell_type": "code",
   "execution_count": 26,
   "metadata": {},
   "outputs": [
    {
     "name": "stdout",
     "output_type": "stream",
     "text": [
      "MAE: 45.64442219554287\n",
      "MSE: 3951.9745649394504\n",
      "RMSE: 62.86473228241293\n"
     ]
    }
   ],
   "source": [
    "print('MAE:', metrics.mean_absolute_error(y_test, y_pred))\n",
    "print('MSE:', metrics.mean_squared_error(y_test, y_pred))\n",
    "print('RMSE:', np.sqrt(metrics.mean_squared_error(y_test, y_pred)))"
   ]
  },
  {
   "cell_type": "code",
   "execution_count": 27,
   "metadata": {},
   "outputs": [
    {
     "name": "stdout",
     "output_type": "stream",
     "text": [
      "Score: 0.31\n"
     ]
    }
   ],
   "source": [
    "print('Score: %.2f' % regressor.score(X, y))"
   ]
  },
  {
   "cell_type": "markdown",
   "metadata": {},
   "source": [
    "# saving the model and making predictions"
   ]
  },
  {
   "cell_type": "code",
   "execution_count": 28,
   "metadata": {},
   "outputs": [],
   "source": [
    "#load the saved regression model\n",
    "import pickle\n",
    "filename = 'LinearRegression_model.sav'\n",
    "pickle.dump(regressor, open(filename, 'wb'))"
   ]
  }
 ],
 "metadata": {
  "kernelspec": {
   "display_name": "Python 3",
   "language": "python",
   "name": "python3"
  },
  "language_info": {
   "codemirror_mode": {
    "name": "ipython",
    "version": 3
   },
   "file_extension": ".py",
   "mimetype": "text/x-python",
   "name": "python",
   "nbconvert_exporter": "python",
   "pygments_lexer": "ipython3",
   "version": "3.8.2"
  }
 },
 "nbformat": 4,
 "nbformat_minor": 2
}
