{
 "cells": [
  {
   "cell_type": "markdown",
   "metadata": {
    "id": "oFaQbDOV3Sh6"
   },
   "source": [
    "# Implementing L1 and L2 regularization using Sklearn"
   ]
  },
  {
   "cell_type": "markdown",
   "metadata": {
    "id": "-45tOWgs3VEw"
   },
   "source": [
    "Prerequisites: L2 and L1 regularization\n",
    "\n",
    "This article aims to implement the L2 and L1 regularization for Linear regression using the Ridge and Lasso modules of the Sklearn library of Python."
   ]
  },
  {
   "cell_type": "markdown",
   "metadata": {
    "id": "94HcVPnM3W2e"
   },
   "source": [
    "Dataset – House prices dataset ."
   ]
  },
  {
   "cell_type": "code",
   "execution_count": 29,
   "metadata": {
    "colab": {
     "base_uri": "https://localhost:8080/"
    },
    "id": "B_-B9VfN3jkC",
    "outputId": "d082a09f-261c-4e3d-ea6a-218a8f78b5d1"
   },
   "outputs": [
    {
     "name": "stderr",
     "output_type": "stream",
     "text": [
      "'wget' is not recognized as an internal or external command,\n",
      "operable program or batch file.\n"
     ]
    }
   ],
   "source": [
    "!wget https://raw.githubusercontent.com/Shreyas3108/house-price-prediction/master/kc_house_data.csv"
   ]
  },
  {
   "cell_type": "markdown",
   "metadata": {
    "id": "HfPgvLqU3Z8-"
   },
   "source": [
    "Step 1: Importing the required libraries"
   ]
  },
  {
   "cell_type": "code",
   "execution_count": 30,
   "metadata": {
    "id": "-9-b1Xzi3RCI"
   },
   "outputs": [],
   "source": [
    "import pandas as pd \n",
    "import numpy as np \n",
    "import matplotlib.pyplot as plt \n",
    "from sklearn.linear_model import LinearRegression, Ridge, Lasso, ElasticNet\n",
    "from sklearn.model_selection import train_test_split, cross_val_score \n",
    "from statistics import mean \n",
    "from sklearn import preprocessing"
   ]
  },
  {
   "cell_type": "markdown",
   "metadata": {
    "id": "9JSlsJPs3tCy"
   },
   "source": [
    "Step 2: Loading and cleaning the Data"
   ]
  },
  {
   "cell_type": "code",
   "execution_count": 31,
   "metadata": {
    "id": "I6gcC43D7n1c"
   },
   "outputs": [],
   "source": [
    "# Changing the working location to the location of the data \n",
    "\n",
    "# Loading the data into a Pandas DataFrame \n",
    "data = pd.read_csv('kc_house_data.csv') "
   ]
  },
  {
   "cell_type": "code",
   "execution_count": 32,
   "metadata": {
    "colab": {
     "base_uri": "https://localhost:8080/",
     "height": 422
    },
    "id": "uq_dyTRr7ojL",
    "outputId": "53c25970-abe3-4526-bc09-feba84698d85"
   },
   "outputs": [
    {
     "data": {
      "text/html": [
       "<div>\n",
       "<style scoped>\n",
       "    .dataframe tbody tr th:only-of-type {\n",
       "        vertical-align: middle;\n",
       "    }\n",
       "\n",
       "    .dataframe tbody tr th {\n",
       "        vertical-align: top;\n",
       "    }\n",
       "\n",
       "    .dataframe thead th {\n",
       "        text-align: right;\n",
       "    }\n",
       "</style>\n",
       "<table border=\"1\" class=\"dataframe\">\n",
       "  <thead>\n",
       "    <tr style=\"text-align: right;\">\n",
       "      <th></th>\n",
       "      <th>id</th>\n",
       "      <th>date</th>\n",
       "      <th>price</th>\n",
       "      <th>bedrooms</th>\n",
       "      <th>bathrooms</th>\n",
       "      <th>sqft_living</th>\n",
       "      <th>sqft_lot</th>\n",
       "      <th>floors</th>\n",
       "      <th>waterfront</th>\n",
       "      <th>view</th>\n",
       "      <th>...</th>\n",
       "      <th>grade</th>\n",
       "      <th>sqft_above</th>\n",
       "      <th>sqft_basement</th>\n",
       "      <th>yr_built</th>\n",
       "      <th>yr_renovated</th>\n",
       "      <th>zipcode</th>\n",
       "      <th>lat</th>\n",
       "      <th>long</th>\n",
       "      <th>sqft_living15</th>\n",
       "      <th>sqft_lot15</th>\n",
       "    </tr>\n",
       "  </thead>\n",
       "  <tbody>\n",
       "    <tr>\n",
       "      <th>0</th>\n",
       "      <td>7129300520</td>\n",
       "      <td>20141013T000000</td>\n",
       "      <td>221900.0</td>\n",
       "      <td>3</td>\n",
       "      <td>1.00</td>\n",
       "      <td>1180</td>\n",
       "      <td>5650</td>\n",
       "      <td>1.0</td>\n",
       "      <td>0</td>\n",
       "      <td>0</td>\n",
       "      <td>...</td>\n",
       "      <td>7</td>\n",
       "      <td>1180.0</td>\n",
       "      <td>0</td>\n",
       "      <td>1955</td>\n",
       "      <td>0</td>\n",
       "      <td>98178</td>\n",
       "      <td>47.5112</td>\n",
       "      <td>-122.257</td>\n",
       "      <td>1340</td>\n",
       "      <td>5650</td>\n",
       "    </tr>\n",
       "    <tr>\n",
       "      <th>1</th>\n",
       "      <td>6414100192</td>\n",
       "      <td>20141209T000000</td>\n",
       "      <td>538000.0</td>\n",
       "      <td>3</td>\n",
       "      <td>2.25</td>\n",
       "      <td>2570</td>\n",
       "      <td>7242</td>\n",
       "      <td>2.0</td>\n",
       "      <td>0</td>\n",
       "      <td>0</td>\n",
       "      <td>...</td>\n",
       "      <td>7</td>\n",
       "      <td>2170.0</td>\n",
       "      <td>400</td>\n",
       "      <td>1951</td>\n",
       "      <td>1991</td>\n",
       "      <td>98125</td>\n",
       "      <td>47.7210</td>\n",
       "      <td>-122.319</td>\n",
       "      <td>1690</td>\n",
       "      <td>7639</td>\n",
       "    </tr>\n",
       "    <tr>\n",
       "      <th>2</th>\n",
       "      <td>5631500400</td>\n",
       "      <td>20150225T000000</td>\n",
       "      <td>180000.0</td>\n",
       "      <td>2</td>\n",
       "      <td>1.00</td>\n",
       "      <td>770</td>\n",
       "      <td>10000</td>\n",
       "      <td>1.0</td>\n",
       "      <td>0</td>\n",
       "      <td>0</td>\n",
       "      <td>...</td>\n",
       "      <td>6</td>\n",
       "      <td>770.0</td>\n",
       "      <td>0</td>\n",
       "      <td>1933</td>\n",
       "      <td>0</td>\n",
       "      <td>98028</td>\n",
       "      <td>47.7379</td>\n",
       "      <td>-122.233</td>\n",
       "      <td>2720</td>\n",
       "      <td>8062</td>\n",
       "    </tr>\n",
       "    <tr>\n",
       "      <th>3</th>\n",
       "      <td>2487200875</td>\n",
       "      <td>20141209T000000</td>\n",
       "      <td>604000.0</td>\n",
       "      <td>4</td>\n",
       "      <td>3.00</td>\n",
       "      <td>1960</td>\n",
       "      <td>5000</td>\n",
       "      <td>1.0</td>\n",
       "      <td>0</td>\n",
       "      <td>0</td>\n",
       "      <td>...</td>\n",
       "      <td>7</td>\n",
       "      <td>1050.0</td>\n",
       "      <td>910</td>\n",
       "      <td>1965</td>\n",
       "      <td>0</td>\n",
       "      <td>98136</td>\n",
       "      <td>47.5208</td>\n",
       "      <td>-122.393</td>\n",
       "      <td>1360</td>\n",
       "      <td>5000</td>\n",
       "    </tr>\n",
       "    <tr>\n",
       "      <th>4</th>\n",
       "      <td>1954400510</td>\n",
       "      <td>20150218T000000</td>\n",
       "      <td>510000.0</td>\n",
       "      <td>3</td>\n",
       "      <td>2.00</td>\n",
       "      <td>1680</td>\n",
       "      <td>8080</td>\n",
       "      <td>1.0</td>\n",
       "      <td>0</td>\n",
       "      <td>0</td>\n",
       "      <td>...</td>\n",
       "      <td>8</td>\n",
       "      <td>1680.0</td>\n",
       "      <td>0</td>\n",
       "      <td>1987</td>\n",
       "      <td>0</td>\n",
       "      <td>98074</td>\n",
       "      <td>47.6168</td>\n",
       "      <td>-122.045</td>\n",
       "      <td>1800</td>\n",
       "      <td>7503</td>\n",
       "    </tr>\n",
       "  </tbody>\n",
       "</table>\n",
       "<p>5 rows × 21 columns</p>\n",
       "</div>"
      ],
      "text/plain": [
       "           id             date     price  bedrooms  bathrooms  sqft_living  \\\n",
       "0  7129300520  20141013T000000  221900.0         3       1.00         1180   \n",
       "1  6414100192  20141209T000000  538000.0         3       2.25         2570   \n",
       "2  5631500400  20150225T000000  180000.0         2       1.00          770   \n",
       "3  2487200875  20141209T000000  604000.0         4       3.00         1960   \n",
       "4  1954400510  20150218T000000  510000.0         3       2.00         1680   \n",
       "\n",
       "   sqft_lot  floors  waterfront  view  ...  grade  sqft_above  sqft_basement  \\\n",
       "0      5650     1.0           0     0  ...      7      1180.0              0   \n",
       "1      7242     2.0           0     0  ...      7      2170.0            400   \n",
       "2     10000     1.0           0     0  ...      6       770.0              0   \n",
       "3      5000     1.0           0     0  ...      7      1050.0            910   \n",
       "4      8080     1.0           0     0  ...      8      1680.0              0   \n",
       "\n",
       "   yr_built  yr_renovated  zipcode      lat     long  sqft_living15  \\\n",
       "0      1955             0    98178  47.5112 -122.257           1340   \n",
       "1      1951          1991    98125  47.7210 -122.319           1690   \n",
       "2      1933             0    98028  47.7379 -122.233           2720   \n",
       "3      1965             0    98136  47.5208 -122.393           1360   \n",
       "4      1987             0    98074  47.6168 -122.045           1800   \n",
       "\n",
       "   sqft_lot15  \n",
       "0        5650  \n",
       "1        7639  \n",
       "2        8062  \n",
       "3        5000  \n",
       "4        7503  \n",
       "\n",
       "[5 rows x 21 columns]"
      ]
     },
     "execution_count": 32,
     "metadata": {},
     "output_type": "execute_result"
    }
   ],
   "source": [
    "data.head()"
   ]
  },
  {
   "cell_type": "code",
   "execution_count": 33,
   "metadata": {
    "colab": {
     "base_uri": "https://localhost:8080/"
    },
    "id": "vism9WxS8HSp",
    "outputId": "f9e1a9d2-bbcd-474d-d765-d77d8c92d8c8"
   },
   "outputs": [
    {
     "data": {
      "text/plain": [
       "(21613, 21)"
      ]
     },
     "execution_count": 33,
     "metadata": {},
     "output_type": "execute_result"
    }
   ],
   "source": [
    "data.shape"
   ]
  },
  {
   "cell_type": "code",
   "execution_count": 34,
   "metadata": {},
   "outputs": [],
   "source": [
    "data.dropna(how='any',inplace=True)"
   ]
  },
  {
   "cell_type": "code",
   "execution_count": 35,
   "metadata": {},
   "outputs": [
    {
     "data": {
      "text/plain": [
       "id               0\n",
       "date             0\n",
       "price            0\n",
       "bedrooms         0\n",
       "bathrooms        0\n",
       "sqft_living      0\n",
       "sqft_lot         0\n",
       "floors           0\n",
       "waterfront       0\n",
       "view             0\n",
       "condition        0\n",
       "grade            0\n",
       "sqft_above       0\n",
       "sqft_basement    0\n",
       "yr_built         0\n",
       "yr_renovated     0\n",
       "zipcode          0\n",
       "lat              0\n",
       "long             0\n",
       "sqft_living15    0\n",
       "sqft_lot15       0\n",
       "dtype: int64"
      ]
     },
     "execution_count": 35,
     "metadata": {},
     "output_type": "execute_result"
    }
   ],
   "source": [
    "data.isnull().sum()"
   ]
  },
  {
   "cell_type": "code",
   "execution_count": 16,
   "metadata": {},
   "outputs": [
    {
     "name": "stdout",
     "output_type": "stream",
     "text": [
      "<class 'pandas.core.frame.DataFrame'>\n",
      "RangeIndex: 1000 entries, 0 to 999\n",
      "Data columns (total 18 columns):\n",
      " #   Column         Non-Null Count  Dtype  \n",
      "---  ------         --------------  -----  \n",
      " 0   price          1000 non-null   float64\n",
      " 1   bedrooms       1000 non-null   int64  \n",
      " 2   bathrooms      1000 non-null   float64\n",
      " 3   sqft_living    1000 non-null   int64  \n",
      " 4   sqft_lot       1000 non-null   int64  \n",
      " 5   floors         1000 non-null   float64\n",
      " 6   waterfront     1000 non-null   int64  \n",
      " 7   view           1000 non-null   int64  \n",
      " 8   condition      1000 non-null   int64  \n",
      " 9   grade          1000 non-null   int64  \n",
      " 10  sqft_above     998 non-null    float64\n",
      " 11  sqft_basement  1000 non-null   int64  \n",
      " 12  yr_built       1000 non-null   int64  \n",
      " 13  yr_renovated   1000 non-null   int64  \n",
      " 14  lat            1000 non-null   float64\n",
      " 15  long           1000 non-null   float64\n",
      " 16  sqft_living15  1000 non-null   int64  \n",
      " 17  sqft_lot15     1000 non-null   int64  \n",
      "dtypes: float64(6), int64(12)\n",
      "memory usage: 140.7 KB\n"
     ]
    }
   ],
   "source": [
    "data.info()"
   ]
  },
  {
   "cell_type": "code",
   "execution_count": 36,
   "metadata": {
    "id": "L6CGq6cV3kaZ"
   },
   "outputs": [],
   "source": [
    "# Dropping the numerically non-sensical variables \n",
    "dropColumns = ['id', 'date', 'zipcode'] \n",
    "data = data.drop(dropColumns, axis = 1) \n",
    "#to visualize overfitting selecting only 1000 datapoints\n",
    "data = data[0:1000]\n",
    "\n",
    "# Separating the dependent and independent variables \n",
    "y = data['price'] \n",
    "X = data.drop('price', axis = 1) \n",
    "\n",
    "x = X.values #returns a numpy array\n",
    "min_max_scaler = preprocessing.MinMaxScaler()\n",
    "x_scaled = min_max_scaler.fit_transform(x)\n",
    "X = pd.DataFrame(x_scaled)\n",
    "\n",
    "# Dividing the data into training and testing set \n",
    "X_train, X_test, y_train, y_test = train_test_split(X, y, test_size = 0.25) "
   ]
  },
  {
   "cell_type": "code",
   "execution_count": 37,
   "metadata": {},
   "outputs": [
    {
     "data": {
      "text/plain": [
       "((750, 17), (250, 17), (750,), (250,))"
      ]
     },
     "execution_count": 37,
     "metadata": {},
     "output_type": "execute_result"
    }
   ],
   "source": [
    "X_train.shape, X_test.shape, y_train.shape, y_test.shape"
   ]
  },
  {
   "cell_type": "code",
   "execution_count": 38,
   "metadata": {
    "colab": {
     "base_uri": "https://localhost:8080/",
     "height": 304
    },
    "id": "xJvNNwEe8m6_",
    "outputId": "ea151d67-7f34-4e8c-f5ec-1cc8a8f32e85"
   },
   "outputs": [
    {
     "data": {
      "text/html": [
       "<div>\n",
       "<style scoped>\n",
       "    .dataframe tbody tr th:only-of-type {\n",
       "        vertical-align: middle;\n",
       "    }\n",
       "\n",
       "    .dataframe tbody tr th {\n",
       "        vertical-align: top;\n",
       "    }\n",
       "\n",
       "    .dataframe thead th {\n",
       "        text-align: right;\n",
       "    }\n",
       "</style>\n",
       "<table border=\"1\" class=\"dataframe\">\n",
       "  <thead>\n",
       "    <tr style=\"text-align: right;\">\n",
       "      <th></th>\n",
       "      <th>0</th>\n",
       "      <th>1</th>\n",
       "      <th>2</th>\n",
       "      <th>3</th>\n",
       "      <th>4</th>\n",
       "      <th>5</th>\n",
       "      <th>6</th>\n",
       "      <th>7</th>\n",
       "      <th>8</th>\n",
       "      <th>9</th>\n",
       "      <th>10</th>\n",
       "      <th>11</th>\n",
       "      <th>12</th>\n",
       "      <th>13</th>\n",
       "      <th>14</th>\n",
       "      <th>15</th>\n",
       "      <th>16</th>\n",
       "    </tr>\n",
       "  </thead>\n",
       "  <tbody>\n",
       "    <tr>\n",
       "      <th>count</th>\n",
       "      <td>1000.000000</td>\n",
       "      <td>1000.000000</td>\n",
       "      <td>1000.000000</td>\n",
       "      <td>1000.000000</td>\n",
       "      <td>1000.000000</td>\n",
       "      <td>1000.000000</td>\n",
       "      <td>1000.000000</td>\n",
       "      <td>1000.00000</td>\n",
       "      <td>1000.000000</td>\n",
       "      <td>1000.000000</td>\n",
       "      <td>1000.000000</td>\n",
       "      <td>1000.000000</td>\n",
       "      <td>1000.000000</td>\n",
       "      <td>1000.000000</td>\n",
       "      <td>1000.000000</td>\n",
       "      <td>1000.000000</td>\n",
       "      <td>1000.000000</td>\n",
       "    </tr>\n",
       "    <tr>\n",
       "      <th>mean</th>\n",
       "      <td>0.478429</td>\n",
       "      <td>0.409250</td>\n",
       "      <td>0.293396</td>\n",
       "      <td>0.044650</td>\n",
       "      <td>0.178800</td>\n",
       "      <td>0.008000</td>\n",
       "      <td>0.059250</td>\n",
       "      <td>0.61575</td>\n",
       "      <td>0.450750</td>\n",
       "      <td>0.240820</td>\n",
       "      <td>0.145225</td>\n",
       "      <td>0.600374</td>\n",
       "      <td>0.040590</td>\n",
       "      <td>0.619593</td>\n",
       "      <td>0.361739</td>\n",
       "      <td>0.294279</td>\n",
       "      <td>0.055021</td>\n",
       "    </tr>\n",
       "    <tr>\n",
       "      <th>std</th>\n",
       "      <td>0.121716</td>\n",
       "      <td>0.144145</td>\n",
       "      <td>0.155833</td>\n",
       "      <td>0.092020</td>\n",
       "      <td>0.207059</td>\n",
       "      <td>0.089129</td>\n",
       "      <td>0.191281</td>\n",
       "      <td>0.17232</td>\n",
       "      <td>0.145027</td>\n",
       "      <td>0.138855</td>\n",
       "      <td>0.217873</td>\n",
       "      <td>0.245277</td>\n",
       "      <td>0.196414</td>\n",
       "      <td>0.236136</td>\n",
       "      <td>0.178599</td>\n",
       "      <td>0.170607</td>\n",
       "      <td>0.107555</td>\n",
       "    </tr>\n",
       "    <tr>\n",
       "      <th>min</th>\n",
       "      <td>0.000000</td>\n",
       "      <td>0.000000</td>\n",
       "      <td>0.000000</td>\n",
       "      <td>0.000000</td>\n",
       "      <td>0.000000</td>\n",
       "      <td>0.000000</td>\n",
       "      <td>0.000000</td>\n",
       "      <td>0.00000</td>\n",
       "      <td>0.000000</td>\n",
       "      <td>0.000000</td>\n",
       "      <td>0.000000</td>\n",
       "      <td>0.000000</td>\n",
       "      <td>0.000000</td>\n",
       "      <td>0.000000</td>\n",
       "      <td>0.000000</td>\n",
       "      <td>0.000000</td>\n",
       "      <td>0.000000</td>\n",
       "    </tr>\n",
       "    <tr>\n",
       "      <th>25%</th>\n",
       "      <td>0.428571</td>\n",
       "      <td>0.300000</td>\n",
       "      <td>0.180580</td>\n",
       "      <td>0.015186</td>\n",
       "      <td>0.000000</td>\n",
       "      <td>0.000000</td>\n",
       "      <td>0.000000</td>\n",
       "      <td>0.50000</td>\n",
       "      <td>0.375000</td>\n",
       "      <td>0.142355</td>\n",
       "      <td>0.000000</td>\n",
       "      <td>0.452174</td>\n",
       "      <td>0.000000</td>\n",
       "      <td>0.442051</td>\n",
       "      <td>0.214789</td>\n",
       "      <td>0.167939</td>\n",
       "      <td>0.020336</td>\n",
       "    </tr>\n",
       "    <tr>\n",
       "      <th>50%</th>\n",
       "      <td>0.428571</td>\n",
       "      <td>0.400000</td>\n",
       "      <td>0.267135</td>\n",
       "      <td>0.023500</td>\n",
       "      <td>0.000000</td>\n",
       "      <td>0.000000</td>\n",
       "      <td>0.000000</td>\n",
       "      <td>0.50000</td>\n",
       "      <td>0.375000</td>\n",
       "      <td>0.203866</td>\n",
       "      <td>0.000000</td>\n",
       "      <td>0.643478</td>\n",
       "      <td>0.000000</td>\n",
       "      <td>0.642976</td>\n",
       "      <td>0.348271</td>\n",
       "      <td>0.259542</td>\n",
       "      <td>0.031439</td>\n",
       "    </tr>\n",
       "    <tr>\n",
       "      <th>75%</th>\n",
       "      <td>0.571429</td>\n",
       "      <td>0.500000</td>\n",
       "      <td>0.367311</td>\n",
       "      <td>0.034444</td>\n",
       "      <td>0.400000</td>\n",
       "      <td>0.000000</td>\n",
       "      <td>0.000000</td>\n",
       "      <td>0.75000</td>\n",
       "      <td>0.500000</td>\n",
       "      <td>0.307996</td>\n",
       "      <td>0.281553</td>\n",
       "      <td>0.800000</td>\n",
       "      <td>0.000000</td>\n",
       "      <td>0.826362</td>\n",
       "      <td>0.476312</td>\n",
       "      <td>0.389313</td>\n",
       "      <td>0.041760</td>\n",
       "    </tr>\n",
       "    <tr>\n",
       "      <th>max</th>\n",
       "      <td>1.000000</td>\n",
       "      <td>1.000000</td>\n",
       "      <td>1.000000</td>\n",
       "      <td>1.000000</td>\n",
       "      <td>1.000000</td>\n",
       "      <td>1.000000</td>\n",
       "      <td>1.000000</td>\n",
       "      <td>1.00000</td>\n",
       "      <td>1.000000</td>\n",
       "      <td>1.000000</td>\n",
       "      <td>1.000000</td>\n",
       "      <td>1.000000</td>\n",
       "      <td>1.000000</td>\n",
       "      <td>1.000000</td>\n",
       "      <td>1.000000</td>\n",
       "      <td>1.000000</td>\n",
       "      <td>1.000000</td>\n",
       "    </tr>\n",
       "  </tbody>\n",
       "</table>\n",
       "</div>"
      ],
      "text/plain": [
       "                0            1            2            3            4   \\\n",
       "count  1000.000000  1000.000000  1000.000000  1000.000000  1000.000000   \n",
       "mean      0.478429     0.409250     0.293396     0.044650     0.178800   \n",
       "std       0.121716     0.144145     0.155833     0.092020     0.207059   \n",
       "min       0.000000     0.000000     0.000000     0.000000     0.000000   \n",
       "25%       0.428571     0.300000     0.180580     0.015186     0.000000   \n",
       "50%       0.428571     0.400000     0.267135     0.023500     0.000000   \n",
       "75%       0.571429     0.500000     0.367311     0.034444     0.400000   \n",
       "max       1.000000     1.000000     1.000000     1.000000     1.000000   \n",
       "\n",
       "                5            6           7            8            9   \\\n",
       "count  1000.000000  1000.000000  1000.00000  1000.000000  1000.000000   \n",
       "mean      0.008000     0.059250     0.61575     0.450750     0.240820   \n",
       "std       0.089129     0.191281     0.17232     0.145027     0.138855   \n",
       "min       0.000000     0.000000     0.00000     0.000000     0.000000   \n",
       "25%       0.000000     0.000000     0.50000     0.375000     0.142355   \n",
       "50%       0.000000     0.000000     0.50000     0.375000     0.203866   \n",
       "75%       0.000000     0.000000     0.75000     0.500000     0.307996   \n",
       "max       1.000000     1.000000     1.00000     1.000000     1.000000   \n",
       "\n",
       "                10           11           12           13           14  \\\n",
       "count  1000.000000  1000.000000  1000.000000  1000.000000  1000.000000   \n",
       "mean      0.145225     0.600374     0.040590     0.619593     0.361739   \n",
       "std       0.217873     0.245277     0.196414     0.236136     0.178599   \n",
       "min       0.000000     0.000000     0.000000     0.000000     0.000000   \n",
       "25%       0.000000     0.452174     0.000000     0.442051     0.214789   \n",
       "50%       0.000000     0.643478     0.000000     0.642976     0.348271   \n",
       "75%       0.281553     0.800000     0.000000     0.826362     0.476312   \n",
       "max       1.000000     1.000000     1.000000     1.000000     1.000000   \n",
       "\n",
       "                15           16  \n",
       "count  1000.000000  1000.000000  \n",
       "mean      0.294279     0.055021  \n",
       "std       0.170607     0.107555  \n",
       "min       0.000000     0.000000  \n",
       "25%       0.167939     0.020336  \n",
       "50%       0.259542     0.031439  \n",
       "75%       0.389313     0.041760  \n",
       "max       1.000000     1.000000  "
      ]
     },
     "execution_count": 38,
     "metadata": {},
     "output_type": "execute_result"
    }
   ],
   "source": [
    "X.describe()"
   ]
  },
  {
   "cell_type": "markdown",
   "metadata": {
    "id": "Ac4CMr033yt8"
   },
   "source": [
    "Step 3: Building and evaluating the different models"
   ]
  },
  {
   "cell_type": "markdown",
   "metadata": {
    "id": "8RxfXzS631Zs"
   },
   "source": [
    "a) Linear Regression:"
   ]
  },
  {
   "cell_type": "code",
   "execution_count": 40,
   "metadata": {
    "colab": {
     "base_uri": "https://localhost:8080/"
    },
    "id": "p8YOuoKs3usF",
    "outputId": "e6b38c2e-6153-4944-af45-69e76e8e2390"
   },
   "outputs": [
    {
     "name": "stdout",
     "output_type": "stream",
     "text": [
      "0.7327195854689772\n",
      "0.6815379304584659\n"
     ]
    }
   ],
   "source": [
    "# Bulding and fitting the Linear Regression model \n",
    "linearModel = LinearRegression() \n",
    "linearModel.fit(X_train, y_train) \n",
    "\n",
    "# Evaluating the Linear Regression model \n",
    "print(linearModel.score(X_train, y_train)) \n",
    "print(linearModel.score(X_test, y_test)) "
   ]
  },
  {
   "cell_type": "markdown",
   "metadata": {
    "id": "mlCBfNAt35Sz"
   },
   "source": [
    "b) Ridge(L2) Regression:"
   ]
  },
  {
   "cell_type": "code",
   "execution_count": 41,
   "metadata": {
    "colab": {
     "base_uri": "https://localhost:8080/"
    },
    "id": "1abNnZbM32wM",
    "outputId": "25a66b31-d1a3-44d3-f101-22c5251ac60e"
   },
   "outputs": [
    {
     "name": "stdout",
     "output_type": "stream",
     "text": [
      "1000 : 10.530310824679164\n",
      "100 : 49.53533371147057\n",
      "10 : 68.6449363912645\n",
      "1 : 69.88971834441283\n",
      "0.1 : 69.72304390317787\n",
      "0.01 : 69.68705538939537\n"
     ]
    }
   ],
   "source": [
    "# List to maintain the different cross-validation scores \n",
    "cross_val_scores_ridge = [] \n",
    "\n",
    "# List to maintain the different values of alpha \n",
    "alpha = [] \n",
    "# Loop to compute the different values of cross-validation scores \n",
    "for i in range(-3, 3): \n",
    "\tridgeModel = Ridge(alpha = 10**(-i)) \n",
    "\tridgeModel.fit(X_train, y_train) \n",
    "\tscores = cross_val_score(ridgeModel, X, y, cv = 10) \n",
    "\tavg_cross_val_score = mean(scores)*100\n",
    "\tcross_val_scores_ridge.append(avg_cross_val_score) \n",
    "\talpha.append(10**(-i)) \n",
    "\n",
    "# Loop to print the different values of cross-validation scores \n",
    "for i in range(0, len(alpha)): \n",
    "\tprint(str(alpha[i])+' : '+str(cross_val_scores_ridge[i])) \n"
   ]
  },
  {
   "cell_type": "code",
   "execution_count": 42,
   "metadata": {
    "colab": {
     "base_uri": "https://localhost:8080/"
    },
    "id": "96QXzjk-9PX3",
    "outputId": "a3bf3f98-6e63-4f23-a431-820a253acb2b"
   },
   "outputs": [
    {
     "name": "stdout",
     "output_type": "stream",
     "text": [
      "0.25 : 69.77193480374088\n",
      "0.5 : 69.83025570462857\n",
      "0.75 : 69.86760631725909\n",
      "1.0 : 69.88971834441283\n",
      "1.25 : 69.90027571457126\n",
      "1.5 : 69.90181873690422\n",
      "1.75 : 69.89618328721878\n",
      "2.0 : 69.8847402737714\n"
     ]
    }
   ],
   "source": [
    "# List to maintain the different cross-validation scores \n",
    "cross_val_scores_ridge = [] \n",
    "\n",
    "# List to maintain the different values of alpha \n",
    "alpha = [] \n",
    "\n",
    "# Loop to compute the different values of cross-validation scores \n",
    "for i in range(1, 9): \n",
    "\tridgeModel = Ridge(alpha = i * 0.25) \n",
    "\tridgeModel.fit(X_train, y_train) \n",
    "\tscores = cross_val_score(ridgeModel, X, y, cv = 10) \n",
    "\tavg_cross_val_score = mean(scores)*100\n",
    "\tcross_val_scores_ridge.append(avg_cross_val_score) \n",
    "\talpha.append(i * 0.25) \n",
    "\n",
    "# Loop to print the different values of cross-validation scores \n",
    "for i in range(0, len(alpha)): \n",
    "\tprint(str(alpha[i])+' : '+str(cross_val_scores_ridge[i])) \n"
   ]
  },
  {
   "cell_type": "code",
   "execution_count": 43,
   "metadata": {
    "colab": {
     "base_uri": "https://localhost:8080/"
    },
    "id": "mjcXf4pi454p",
    "outputId": "93c08b44-4720-4800-8ab2-d6f4184ad736"
   },
   "outputs": [
    {
     "name": "stdout",
     "output_type": "stream",
     "text": [
      "0.7302109203268572\n",
      "0.6934363310436391\n"
     ]
    }
   ],
   "source": [
    "# Building and fitting the Ridge Regression model \n",
    "ridgeModelChosen = Ridge(alpha = 1.5) \n",
    "ridgeModelChosen.fit(X_train, y_train) \n",
    "\n",
    "# Evaluating the Ridge Regression model \n",
    "\n",
    "print(ridgeModelChosen.score(X_train, y_train)) \n",
    "print(ridgeModelChosen.score(X_test, y_test)) "
   ]
  },
  {
   "cell_type": "markdown",
   "metadata": {
    "id": "3M0i25QS6JYh"
   },
   "source": [
    "c) Lasso(L1) Regression:"
   ]
  },
  {
   "cell_type": "code",
   "execution_count": 44,
   "metadata": {
    "colab": {
     "base_uri": "https://localhost:8080/"
    },
    "id": "vgzGztue_Whi",
    "outputId": "5e6b466f-b4ec-403a-9d4c-cdf04fa5426a"
   },
   "outputs": [
    {
     "name": "stdout",
     "output_type": "stream",
     "text": [
      "1000 : 69.6842572268753\n",
      "100 : 69.68287154865713\n",
      "10 : 69.68271043744163\n",
      "1 : 69.3472572026329\n",
      "0.1 : 69.70275170393778\n",
      "0.01 : 69.69977475312015\n"
     ]
    }
   ],
   "source": [
    "# List to maintain the cross-validation scores \n",
    "cross_val_scores_lasso = [] \n",
    "\n",
    "# List to maintain the different values of Lambda \n",
    "Lambda = [] \n",
    "\n",
    "# Loop to compute the cross-validation scores \n",
    "for i in range(-3, 3): \n",
    "\tlassoModel = Lasso(alpha = 10**(-i), tol = 0.0925) \n",
    "\tlassoModel.fit(X_train, y_train) \n",
    "\tscores = cross_val_score(lassoModel, X, y, cv = 10) \n",
    "\tavg_cross_val_score = mean(scores)*100\n",
    "\tcross_val_scores_lasso.append(avg_cross_val_score) \n",
    "\tLambda.append(10**(-i)) \n",
    "\n",
    "# Loop to print the different values of cross-validation scores \n",
    "for i in range(-3,3): \n",
    "\tprint(str(10**(-i))+' : '+str(cross_val_scores_lasso[i])) "
   ]
  },
  {
   "cell_type": "code",
   "execution_count": 45,
   "metadata": {
    "colab": {
     "base_uri": "https://localhost:8080/"
    },
    "id": "f-aDykge6ItT",
    "outputId": "af92b1ab-28d6-49c7-a484-c77aafce618e"
   },
   "outputs": [
    {
     "name": "stdout",
     "output_type": "stream",
     "text": [
      "0.0 : 69.68304852257374\n",
      "0.25 : 69.68335760104083\n",
      "0.5 : 69.68377319282109\n",
      "0.75 : 69.6842572268753\n",
      "1.0 : 69.68438170535563\n",
      "1.25 : 69.68479628597876\n",
      "1.5 : 69.68515395918115\n",
      "1.75 : 69.6854524902443\n"
     ]
    }
   ],
   "source": [
    "# List to maintain the cross-validation scores \n",
    "cross_val_scores_lasso = [] \n",
    "\n",
    "# List to maintain the different values of Lambda \n",
    "Lambda = [] \n",
    "\n",
    "# Loop to compute the cross-validation scores \n",
    "for i in range(1, 9): \n",
    "\tlassoModel = Lasso(alpha = i * 0.25, tol = 0.0925) \n",
    "\tlassoModel.fit(X_train, y_train) \n",
    "\tscores = cross_val_score(lassoModel, X, y, cv = 10) \n",
    "\tavg_cross_val_score = mean(scores)*100\n",
    "\tcross_val_scores_lasso.append(avg_cross_val_score) \n",
    "\tLambda.append(i * 0.25) \n",
    "\n",
    "# Loop to print the different values of cross-validation scores \n",
    "for i in range(0, len(alpha)): \n",
    "\tprint(str(i * 0.25)+' : '+str(cross_val_scores_lasso[i])) "
   ]
  },
  {
   "cell_type": "code",
   "execution_count": 46,
   "metadata": {
    "colab": {
     "base_uri": "https://localhost:8080/"
    },
    "id": "BhZpKi7d6Mub",
    "outputId": "808eeff9-694e-4460-d3bd-a3e97b24a6ef"
   },
   "outputs": [
    {
     "name": "stdout",
     "output_type": "stream",
     "text": [
      "0.7330001763129848\n",
      "0.6858225618952174\n"
     ]
    }
   ],
   "source": [
    "# Building and fitting the Lasso Regression Model \n",
    "lassoModelChosen = Lasso(alpha = 10, tol = 0.0925) \n",
    "lassoModelChosen.fit(X_train, y_train) \n",
    "# Evaluating the Lasso Regression model \n",
    "print(lassoModelChosen.score(X_train, y_train)) \n",
    "print(lassoModelChosen.score(X_test, y_test)) \n"
   ]
  },
  {
   "cell_type": "code",
   "execution_count": 47,
   "metadata": {
    "colab": {
     "base_uri": "https://localhost:8080/"
    },
    "id": "DbBr-Szb6nUI",
    "outputId": "aba42e61-ca8c-4a32-e327-0cf8fb2faeab"
   },
   "outputs": [
    {
     "data": {
      "text/plain": [
       "array([-3.31511020e+04,  1.21598764e+05, -1.47164090e+19,  3.00781642e+05,\n",
       "        7.55344688e+04,  7.42579662e+05,  2.21261878e+05,  4.91337171e+04,\n",
       "        6.31310574e+05,  1.47164090e+19,  5.32790905e+18, -3.05129989e+05,\n",
       "        6.48589952e+04,  3.15300086e+05,  1.75006145e+02,  2.15973459e+05,\n",
       "       -2.23742954e+05])"
      ]
     },
     "execution_count": 47,
     "metadata": {},
     "output_type": "execute_result"
    }
   ],
   "source": [
    "linearModel.coef_"
   ]
  },
  {
   "cell_type": "code",
   "execution_count": 48,
   "metadata": {
    "colab": {
     "base_uri": "https://localhost:8080/"
    },
    "id": "PfgiVgXW7ZTc",
    "outputId": "2a8e912c-a6dd-4c55-9248-88c2163b5a6d"
   },
   "outputs": [
    {
     "data": {
      "text/plain": [
       "array([ -41086.72092699,  123136.36407886,  392165.93065576,\n",
       "         93288.93858315,   79786.80296232,  601039.59237362,\n",
       "        245185.78982201,   52719.68535347,  529465.47582308,\n",
       "        323262.30678886,  190321.17466141, -278314.72751873,\n",
       "         71985.83393343,  316124.23805661,  -15644.94318612,\n",
       "        271920.1417003 ,  -52080.5176572 ])"
      ]
     },
     "execution_count": 48,
     "metadata": {},
     "output_type": "execute_result"
    }
   ],
   "source": [
    "ridgeModelChosen.coef_"
   ]
  },
  {
   "cell_type": "code",
   "execution_count": 49,
   "metadata": {
    "colab": {
     "base_uri": "https://localhost:8080/"
    },
    "id": "TdMW6JoW7efZ",
    "outputId": "1f87edcc-6c08-4b7b-e989-9673f5d63658"
   },
   "outputs": [
    {
     "data": {
      "text/plain": [
       "array([ -69898.08744278,  108875.91145053, 1454975.58284243,\n",
       "        285048.53109705,   72688.01830108,  739220.6444117 ,\n",
       "        220316.99935053,   49012.10470203,  619978.27572416,\n",
       "       -678830.72912213, -179287.64271411, -307040.43856627,\n",
       "         64500.03541339,  316653.48629081,    1626.83067033,\n",
       "        214660.40943495, -204989.61657941])"
      ]
     },
     "execution_count": 49,
     "metadata": {},
     "output_type": "execute_result"
    }
   ],
   "source": [
    "lassoModelChosen.coef_"
   ]
  },
  {
   "cell_type": "code",
   "execution_count": 50,
   "metadata": {
    "colab": {
     "base_uri": "https://localhost:8080/"
    },
    "id": "H_xB7D8f74yd",
    "outputId": "da15a463-69cb-405e-e54a-469ea836fe7c"
   },
   "outputs": [
    {
     "data": {
      "text/plain": [
       "3.4760726984506573e+19"
      ]
     },
     "execution_count": 50,
     "metadata": {},
     "output_type": "execute_result"
    }
   ],
   "source": [
    "np.sum(abs(0-linearModel.coef_))"
   ]
  },
  {
   "cell_type": "code",
   "execution_count": 51,
   "metadata": {
    "colab": {
     "base_uri": "https://localhost:8080/"
    },
    "id": "DQ1sTu0H74Zw",
    "outputId": "000bd54b-876b-4dba-b30f-0ba31ab16504"
   },
   "outputs": [
    {
     "data": {
      "text/plain": [
       "3677529.1840819106"
      ]
     },
     "execution_count": 51,
     "metadata": {},
     "output_type": "execute_result"
    }
   ],
   "source": [
    "np.sum(abs(0-ridgeModelChosen.coef_)) "
   ]
  },
  {
   "cell_type": "code",
   "execution_count": 52,
   "metadata": {
    "colab": {
     "base_uri": "https://localhost:8080/"
    },
    "id": "ctVljbrs7hCj",
    "outputId": "b2410f8c-c38a-43d0-c22a-e77f3c39e9c7"
   },
   "outputs": [
    {
     "data": {
      "text/plain": [
       "5587603.344113704"
      ]
     },
     "execution_count": 52,
     "metadata": {},
     "output_type": "execute_result"
    }
   ],
   "source": [
    "np.sum(abs(0-lassoModelChosen.coef_)) "
   ]
  },
  {
   "cell_type": "markdown",
   "metadata": {
    "id": "Ahqu3IEw8Mr5"
   },
   "source": [
    "Step 4: Comparing and Visualizing the results"
   ]
  },
  {
   "cell_type": "code",
   "execution_count": 53,
   "metadata": {
    "colab": {
     "base_uri": "https://localhost:8080/"
    },
    "id": "7yi20McM8M3w",
    "outputId": "a8d62d0c-b4d0-456f-ce08-d9e39a16d46b"
   },
   "outputs": [
    {
     "name": "stdout",
     "output_type": "stream",
     "text": [
      "Linear Regreesion : 0.6815379304584659\n",
      "Ridge Regreesion : 0.6934363310436391\n",
      "Lasso Regression : 0.6858225618952174\n"
     ]
    }
   ],
   "source": [
    "# Building the two lists for visualization \n",
    "models = ['Linear Regression', 'Ridge Regression', 'Lasso Regression'] \n",
    "scores = [linearModel.score(X_test, y_test), \n",
    "\t\tridgeModelChosen.score(X_test, y_test), \n",
    "\t\tlassoModelChosen.score(X_test, y_test)] \n",
    "\n",
    "# Building the dictionary to compare the scores \n",
    "mapping = {} \n",
    "mapping['Linear Regreesion'] = linearModel.score(X_test, y_test) \n",
    "mapping['Ridge Regreesion'] = ridgeModelChosen.score(X_test, y_test) \n",
    "mapping['Lasso Regression'] = lassoModelChosen.score(X_test, y_test) \n",
    "\n",
    "# Printing the scores for different models \n",
    "for key, val in mapping.items(): \n",
    "\tprint(str(key)+' : '+str(val)) \n"
   ]
  },
  {
   "cell_type": "code",
   "execution_count": 54,
   "metadata": {
    "colab": {
     "base_uri": "https://localhost:8080/",
     "height": 279
    },
    "id": "8agPPRkJ8OUy",
    "outputId": "e3b031f7-927f-4ea1-aa6d-f635a5ac150b"
   },
   "outputs": [
    {
     "data": {
      "image/png": "[encoded data removed]",
      "text/plain": [
       "<Figure size 432x288 with 1 Axes>"
      ]
     },
     "metadata": {
      "needs_background": "light"
     },
     "output_type": "display_data"
    }
   ],
   "source": [
    "# Plotting the scores \n",
    "plt.bar(models, scores) \n",
    "plt.xlabel('Regression Models') \n",
    "plt.ylabel('Score') \n",
    "plt.show() \n"
   ]
  },
  {
   "cell_type": "code",
   "execution_count": null,
   "metadata": {
    "id": "doh0AZhq8h31"
   },
   "outputs": [],
   "source": []
  }
 ],
 "metadata": {
  "colab": {
   "collapsed_sections": [],
   "name": "L1 vs L2 Regularization.ipynb",
   "provenance": []
  },
  "kernelspec": {
   "display_name": "Python 3",
   "language": "python",
   "name": "python3"
  },
  "language_info": {
   "codemirror_mode": {
    "name": "ipython",
    "version": 3
   },
   "file_extension": ".py",
   "mimetype": "text/x-python",
   "name": "python",
   "nbconvert_exporter": "python",
   "pygments_lexer": "ipython3",
   "version": "3.8.2"
  }
 },
 "nbformat": 4,
 "nbformat_minor": 1
}
