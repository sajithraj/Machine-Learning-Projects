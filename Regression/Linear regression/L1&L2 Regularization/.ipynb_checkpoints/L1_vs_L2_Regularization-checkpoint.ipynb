{
 "cells": [
  {
   "cell_type": "markdown",
   "metadata": {
    "id": "oFaQbDOV3Sh6"
   },
   "source": [
    "# Implementing L1 and L2 regularization using Sklearn"
   ]
  },
  {
   "cell_type": "markdown",
   "metadata": {
    "id": "-45tOWgs3VEw"
   },
   "source": [
    "Prerequisites: L2 and L1 regularization\n",
    "\n",
    "This article aims to implement the L2 and L1 regularization for Linear regression using the Ridge and Lasso modules of the Sklearn library of Python."
   ]
  },
  {
   "cell_type": "markdown",
   "metadata": {
    "id": "94HcVPnM3W2e"
   },
   "source": [
    "Dataset – House prices dataset ."
   ]
  },
  {
   "cell_type": "code",
   "execution_count": 29,
   "metadata": {
    "colab": {
     "base_uri": "https://localhost:8080/"
    },
    "id": "B_-B9VfN3jkC",
    "outputId": "d082a09f-261c-4e3d-ea6a-218a8f78b5d1"
   },
   "outputs": [
    {
     "name": "stderr",
     "output_type": "stream",
     "text": [
      "'wget' is not recognized as an internal or external command,\n",
      "operable program or batch file.\n"
     ]
    }
   ],
   "source": [
    "!wget https://raw.githubusercontent.com/Shreyas3108/house-price-prediction/master/kc_house_data.csv"
   ]
  },
  {
   "cell_type": "markdown",
   "metadata": {
    "id": "HfPgvLqU3Z8-"
   },
   "source": [
    "Step 1: Importing the required libraries"
   ]
  },
  {
   "cell_type": "code",
   "execution_count": 30,
   "metadata": {
    "id": "-9-b1Xzi3RCI"
   },
   "outputs": [],
   "source": [
    "import pandas as pd \n",
    "import numpy as np \n",
    "import matplotlib.pyplot as plt \n",
    "from sklearn.linear_model import LinearRegression, Ridge, Lasso, ElasticNet\n",
    "from sklearn.model_selection import train_test_split, cross_val_score \n",
    "from statistics import mean \n",
    "from sklearn import preprocessing"
   ]
  },
  {
   "cell_type": "markdown",
   "metadata": {
    "id": "9JSlsJPs3tCy"
   },
   "source": [
    "Step 2: Loading and cleaning the Data"
   ]
  },
  {
   "cell_type": "code",
   "execution_count": 31,
   "metadata": {
    "id": "I6gcC43D7n1c"
   },
   "outputs": [],
   "source": [
    "# Changing the working location to the location of the data \n",
    "\n",
    "# Loading the data into a Pandas DataFrame \n",
    "data = pd.read_csv('kc_house_data.csv') "
   ]
  },
  {
   "cell_type": "code",
   "execution_count": 32,
   "metadata": {
    "colab": {
     "base_uri": "https://localhost:8080/",
     "height": 422
    },
    "id": "uq_dyTRr7ojL",
    "outputId": "53c25970-abe3-4526-bc09-feba84698d85"
   },
   "outputs": [
    {
     "data": {
      "text/html": [
       "<div>\n",
       "<style scoped>\n",
       "    .dataframe tbody tr th:only-of-type {\n",
       "        vertical-align: middle;\n",
       "    }\n",
       "\n",
       "    .dataframe tbody tr th {\n",
       "        vertical-align: top;\n",
       "    }\n",
       "\n",
       "    .dataframe thead th {\n",
       "        text-align: right;\n",
       "    }\n",
       "</style>\n",
       "<table border=\"1\" class=\"dataframe\">\n",
       "  <thead>\n",
       "    <tr style=\"text-align: right;\">\n",
       "      <th></th>\n",
       "      <th>id</th>\n",
       "      <th>date</th>\n",
       "      <th>price</th>\n",
       "      <th>bedrooms</th>\n",
       "      <th>bathrooms</th>\n",
       "      <th>sqft_living</th>\n",
       "      <th>sqft_lot</th>\n",
       "      <th>floors</th>\n",
       "      <th>waterfront</th>\n",
       "      <th>view</th>\n",
       "      <th>...</th>\n",
       "      <th>grade</th>\n",
       "      <th>sqft_above</th>\n",
       "      <th>sqft_basement</th>\n",
       "      <th>yr_built</th>\n",
       "      <th>yr_renovated</th>\n",
       "      <th>zipcode</th>\n",
       "      <th>lat</th>\n",
       "      <th>long</th>\n",
       "      <th>sqft_living15</th>\n",
       "      <th>sqft_lot15</th>\n",
       "    </tr>\n",
       "  </thead>\n",
       "  <tbody>\n",
       "    <tr>\n",
       "      <th>0</th>\n",
       "      <td>7129300520</td>\n",
       "      <td>20141013T000000</td>\n",
       "      <td>221900.0</td>\n",
       "      <td>3</td>\n",
       "      <td>1.00</td>\n",
       "      <td>1180</td>\n",
       "      <td>5650</td>\n",
       "      <td>1.0</td>\n",
       "      <td>0</td>\n",
       "      <td>0</td>\n",
       "      <td>...</td>\n",
       "      <td>7</td>\n",
       "      <td>1180.0</td>\n",
       "      <td>0</td>\n",
       "      <td>1955</td>\n",
       "      <td>0</td>\n",
       "      <td>98178</td>\n",
       "      <td>47.5112</td>\n",
       "      <td>-122.257</td>\n",
       "      <td>1340</td>\n",
       "      <td>5650</td>\n",
       "    </tr>\n",
       "    <tr>\n",
       "      <th>1</th>\n",
       "      <td>6414100192</td>\n",
       "      <td>20141209T000000</td>\n",
       "      <td>538000.0</td>\n",
       "      <td>3</td>\n",
       "      <td>2.25</td>\n",
       "      <td>2570</td>\n",
       "      <td>7242</td>\n",
       "      <td>2.0</td>\n",
       "      <td>0</td>\n",
       "      <td>0</td>\n",
       "      <td>...</td>\n",
       "      <td>7</td>\n",
       "      <td>2170.0</td>\n",
       "      <td>400</td>\n",
       "      <td>1951</td>\n",
       "      <td>1991</td>\n",
       "      <td>98125</td>\n",
       "      <td>47.7210</td>\n",
       "      <td>-122.319</td>\n",
       "      <td>1690</td>\n",
       "      <td>7639</td>\n",
       "    </tr>\n",
       "    <tr>\n",
       "      <th>2</th>\n",
       "      <td>5631500400</td>\n",
       "      <td>20150225T000000</td>\n",
       "      <td>180000.0</td>\n",
       "      <td>2</td>\n",
       "      <td>1.00</td>\n",
       "      <td>770</td>\n",
       "      <td>10000</td>\n",
       "      <td>1.0</td>\n",
       "      <td>0</td>\n",
       "      <td>0</td>\n",
       "      <td>...</td>\n",
       "      <td>6</td>\n",
       "      <td>770.0</td>\n",
       "      <td>0</td>\n",
       "      <td>1933</td>\n",
       "      <td>0</td>\n",
       "      <td>98028</td>\n",
       "      <td>47.7379</td>\n",
       "      <td>-122.233</td>\n",
       "      <td>2720</td>\n",
       "      <td>8062</td>\n",
       "    </tr>\n",
       "    <tr>\n",
       "      <th>3</th>\n",
       "      <td>2487200875</td>\n",
       "      <td>20141209T000000</td>\n",
       "      <td>604000.0</td>\n",
       "      <td>4</td>\n",
       "      <td>3.00</td>\n",
       "      <td>1960</td>\n",
       "      <td>5000</td>\n",
       "      <td>1.0</td>\n",
       "      <td>0</td>\n",
       "      <td>0</td>\n",
       "      <td>...</td>\n",
       "      <td>7</td>\n",
       "      <td>1050.0</td>\n",
       "      <td>910</td>\n",
       "      <td>1965</td>\n",
       "      <td>0</td>\n",
       "      <td>98136</td>\n",
       "      <td>47.5208</td>\n",
       "      <td>-122.393</td>\n",
       "      <td>1360</td>\n",
       "      <td>5000</td>\n",
       "    </tr>\n",
       "    <tr>\n",
       "      <th>4</th>\n",
       "      <td>1954400510</td>\n",
       "      <td>20150218T000000</td>\n",
       "      <td>510000.0</td>\n",
       "      <td>3</td>\n",
       "      <td>2.00</td>\n",
       "      <td>1680</td>\n",
       "      <td>8080</td>\n",
       "      <td>1.0</td>\n",
       "      <td>0</td>\n",
       "      <td>0</td>\n",
       "      <td>...</td>\n",
       "      <td>8</td>\n",
       "      <td>1680.0</td>\n",
       "      <td>0</td>\n",
       "      <td>1987</td>\n",
       "      <td>0</td>\n",
       "      <td>98074</td>\n",
       "      <td>47.6168</td>\n",
       "      <td>-122.045</td>\n",
       "      <td>1800</td>\n",
       "      <td>7503</td>\n",
       "    </tr>\n",
       "  </tbody>\n",
       "</table>\n",
       "<p>5 rows × 21 columns</p>\n",
       "</div>"
      ],
      "text/plain": [
       "           id             date     price  bedrooms  bathrooms  sqft_living  \\\n",
       "0  7129300520  20141013T000000  221900.0         3       1.00         1180   \n",
       "1  6414100192  20141209T000000  538000.0         3       2.25         2570   \n",
       "2  5631500400  20150225T000000  180000.0         2       1.00          770   \n",
       "3  2487200875  20141209T000000  604000.0         4       3.00         1960   \n",
       "4  1954400510  20150218T000000  510000.0         3       2.00         1680   \n",
       "\n",
       "   sqft_lot  floors  waterfront  view  ...  grade  sqft_above  sqft_basement  \\\n",
       "0      5650     1.0           0     0  ...      7      1180.0              0   \n",
       "1      7242     2.0           0     0  ...      7      2170.0            400   \n",
       "2     10000     1.0           0     0  ...      6       770.0              0   \n",
       "3      5000     1.0           0     0  ...      7      1050.0            910   \n",
       "4      8080     1.0           0     0  ...      8      1680.0              0   \n",
       "\n",
       "   yr_built  yr_renovated  zipcode      lat     long  sqft_living15  \\\n",
       "0      1955             0    98178  47.5112 -122.257           1340   \n",
       "1      1951          1991    98125  47.7210 -122.319           1690   \n",
       "2      1933             0    98028  47.7379 -122.233           2720   \n",
       "3      1965             0    98136  47.5208 -122.393           1360   \n",
       "4      1987             0    98074  47.6168 -122.045           1800   \n",
       "\n",
       "   sqft_lot15  \n",
       "0        5650  \n",
       "1        7639  \n",
       "2        8062  \n",
       "3        5000  \n",
       "4        7503  \n",
       "\n",
       "[5 rows x 21 columns]"
      ]
     },
     "execution_count": 32,
     "metadata": {},
     "output_type": "execute_result"
    }
   ],
   "source": [
    "data.head()"
   ]
  },
  {
   "cell_type": "code",
   "execution_count": 33,
   "metadata": {
    "colab": {
     "base_uri": "https://localhost:8080/"
    },
    "id": "vism9WxS8HSp",
    "outputId": "f9e1a9d2-bbcd-474d-d765-d77d8c92d8c8"
   },
   "outputs": [
    {
     "data": {
      "text/plain": [
       "(21613, 21)"
      ]
     },
     "execution_count": 33,
     "metadata": {},
     "output_type": "execute_result"
    }
   ],
   "source": [
    "data.shape"
   ]
  },
  {
   "cell_type": "code",
   "execution_count": 34,
   "metadata": {},
   "outputs": [],
   "source": [
    "data.dropna(how='any',inplace=True)"
   ]
  },
  {
   "cell_type": "code",
   "execution_count": 35,
   "metadata": {},
   "outputs": [
    {
     "data": {
      "text/plain": [
       "id               0\n",
       "date             0\n",
       "price            0\n",
       "bedrooms         0\n",
       "bathrooms        0\n",
       "sqft_living      0\n",
       "sqft_lot         0\n",
       "floors           0\n",
       "waterfront       0\n",
       "view             0\n",
       "condition        0\n",
       "grade            0\n",
       "sqft_above       0\n",
       "sqft_basement    0\n",
       "yr_built         0\n",
       "yr_renovated     0\n",
       "zipcode          0\n",
       "lat              0\n",
       "long             0\n",
       "sqft_living15    0\n",
       "sqft_lot15       0\n",
       "dtype: int64"
      ]
     },
     "execution_count": 35,
     "metadata": {},
     "output_type": "execute_result"
    }
   ],
   "source": [
    "data.isnull().sum()"
   ]
  },
  {
   "cell_type": "code",
   "execution_count": 16,
   "metadata": {},
   "outputs": [
    {
     "name": "stdout",
     "output_type": "stream",
     "text": [
      "<class 'pandas.core.frame.DataFrame'>\n",
      "RangeIndex: 1000 entries, 0 to 999\n",
      "Data columns (total 18 columns):\n",
      " #   Column         Non-Null Count  Dtype  \n",
      "---  ------         --------------  -----  \n",
      " 0   price          1000 non-null   float64\n",
      " 1   bedrooms       1000 non-null   int64  \n",
      " 2   bathrooms      1000 non-null   float64\n",
      " 3   sqft_living    1000 non-null   int64  \n",
      " 4   sqft_lot       1000 non-null   int64  \n",
      " 5   floors         1000 non-null   float64\n",
      " 6   waterfront     1000 non-null   int64  \n",
      " 7   view           1000 non-null   int64  \n",
      " 8   condition      1000 non-null   int64  \n",
      " 9   grade          1000 non-null   int64  \n",
      " 10  sqft_above     998 non-null    float64\n",
      " 11  sqft_basement  1000 non-null   int64  \n",
      " 12  yr_built       1000 non-null   int64  \n",
      " 13  yr_renovated   1000 non-null   int64  \n",
      " 14  lat            1000 non-null   float64\n",
      " 15  long           1000 non-null   float64\n",
      " 16  sqft_living15  1000 non-null   int64  \n",
      " 17  sqft_lot15     1000 non-null   int64  \n",
      "dtypes: float64(6), int64(12)\n",
      "memory usage: 140.7 KB\n"
     ]
    }
   ],
   "source": [
    "data.info()"
   ]
  },
  {
   "cell_type": "code",
   "execution_count": 8,
   "metadata": {
    "id": "L6CGq6cV3kaZ"
   },
   "outputs": [],
   "source": [
    "# Dropping the numerically non-sensical variables \n",
    "dropColumns = ['id', 'date', 'zipcode'] \n",
    "data = data.drop(dropColumns, axis = 1) \n",
    "#to visualize overfitting selecting only 1000 datapoints\n",
    "data = data[0:1000]\n",
    "\n",
    "# Separating the dependent and independent variables \n",
    "y = data['price'] \n",
    "X = data.drop('price', axis = 1) \n",
    "\n",
    "x = X.values #returns a numpy array\n",
    "min_max_scaler = preprocessing.MinMaxScaler()\n",
    "x_scaled = min_max_scaler.fit_transform(x)\n",
    "X = pd.DataFrame(x_scaled)\n",
    "\n",
    "# Dividing the data into training and testing set \n",
    "X_train, X_test, y_train, y_test = train_test_split(X, y, test_size = 0.25) "
   ]
  },
  {
   "cell_type": "code",
   "execution_count": 14,
   "metadata": {},
   "outputs": [
    {
     "data": {
      "text/plain": [
       "((750, 17), (250, 17), (750,), (250,))"
      ]
     },
     "execution_count": 14,
     "metadata": {},
     "output_type": "execute_result"
    }
   ],
   "source": [
    "X_train.shape, X_test.shape, y_train.shape, y_test.shape"
   ]
  },
  {
   "cell_type": "code",
   "execution_count": 9,
   "metadata": {
    "colab": {
     "base_uri": "https://localhost:8080/",
     "height": 304
    },
    "id": "xJvNNwEe8m6_",
    "outputId": "ea151d67-7f34-4e8c-f5ec-1cc8a8f32e85"
   },
   "outputs": [
    {
     "data": {
      "text/html": [
       "<div>\n",
       "<style scoped>\n",
       "    .dataframe tbody tr th:only-of-type {\n",
       "        vertical-align: middle;\n",
       "    }\n",
       "\n",
       "    .dataframe tbody tr th {\n",
       "        vertical-align: top;\n",
       "    }\n",
       "\n",
       "    .dataframe thead th {\n",
       "        text-align: right;\n",
       "    }\n",
       "</style>\n",
       "<table border=\"1\" class=\"dataframe\">\n",
       "  <thead>\n",
       "    <tr style=\"text-align: right;\">\n",
       "      <th></th>\n",
       "      <th>bedrooms</th>\n",
       "      <th>bathrooms</th>\n",
       "      <th>sqft_living</th>\n",
       "      <th>sqft_lot</th>\n",
       "      <th>floors</th>\n",
       "      <th>waterfront</th>\n",
       "      <th>view</th>\n",
       "      <th>condition</th>\n",
       "      <th>grade</th>\n",
       "      <th>sqft_above</th>\n",
       "      <th>sqft_basement</th>\n",
       "      <th>yr_built</th>\n",
       "      <th>yr_renovated</th>\n",
       "      <th>lat</th>\n",
       "      <th>long</th>\n",
       "      <th>sqft_living15</th>\n",
       "      <th>sqft_lot15</th>\n",
       "    </tr>\n",
       "  </thead>\n",
       "  <tbody>\n",
       "    <tr>\n",
       "      <th>count</th>\n",
       "      <td>1000.000000</td>\n",
       "      <td>1000.000000</td>\n",
       "      <td>1000.000000</td>\n",
       "      <td>1000.000000</td>\n",
       "      <td>1000.000000</td>\n",
       "      <td>1000.000000</td>\n",
       "      <td>1000.000000</td>\n",
       "      <td>1000.000000</td>\n",
       "      <td>1000.00000</td>\n",
       "      <td>998.000000</td>\n",
       "      <td>1000.000000</td>\n",
       "      <td>1000.000000</td>\n",
       "      <td>1000.00000</td>\n",
       "      <td>1000.000000</td>\n",
       "      <td>1000.000000</td>\n",
       "      <td>1000.000000</td>\n",
       "      <td>1000.000000</td>\n",
       "    </tr>\n",
       "    <tr>\n",
       "      <th>mean</th>\n",
       "      <td>3.349000</td>\n",
       "      <td>2.045750</td>\n",
       "      <td>2051.196000</td>\n",
       "      <td>14702.085000</td>\n",
       "      <td>1.446500</td>\n",
       "      <td>0.008000</td>\n",
       "      <td>0.237000</td>\n",
       "      <td>3.464000</td>\n",
       "      <td>7.60600</td>\n",
       "      <td>1750.373747</td>\n",
       "      <td>300.863000</td>\n",
       "      <td>1969.049000</td>\n",
       "      <td>81.74900</td>\n",
       "      <td>47.549493</td>\n",
       "      <td>-122.207472</td>\n",
       "      <td>1987.077000</td>\n",
       "      <td>13496.874000</td>\n",
       "    </tr>\n",
       "    <tr>\n",
       "      <th>std</th>\n",
       "      <td>0.852012</td>\n",
       "      <td>0.721623</td>\n",
       "      <td>887.929222</td>\n",
       "      <td>28961.030775</td>\n",
       "      <td>0.517354</td>\n",
       "      <td>0.089129</td>\n",
       "      <td>0.765125</td>\n",
       "      <td>0.689332</td>\n",
       "      <td>1.16022</td>\n",
       "      <td>790.847575</td>\n",
       "      <td>450.898196</td>\n",
       "      <td>28.190873</td>\n",
       "      <td>395.57825</td>\n",
       "      <td>0.141670</td>\n",
       "      <td>0.139509</td>\n",
       "      <td>670.439353</td>\n",
       "      <td>25093.829486</td>\n",
       "    </tr>\n",
       "    <tr>\n",
       "      <th>min</th>\n",
       "      <td>0.000000</td>\n",
       "      <td>0.000000</td>\n",
       "      <td>380.000000</td>\n",
       "      <td>649.000000</td>\n",
       "      <td>1.000000</td>\n",
       "      <td>0.000000</td>\n",
       "      <td>0.000000</td>\n",
       "      <td>1.000000</td>\n",
       "      <td>4.00000</td>\n",
       "      <td>380.000000</td>\n",
       "      <td>0.000000</td>\n",
       "      <td>1900.000000</td>\n",
       "      <td>0.00000</td>\n",
       "      <td>47.177500</td>\n",
       "      <td>-122.490000</td>\n",
       "      <td>830.000000</td>\n",
       "      <td>660.000000</td>\n",
       "    </tr>\n",
       "    <tr>\n",
       "      <th>25%</th>\n",
       "      <td>3.000000</td>\n",
       "      <td>1.500000</td>\n",
       "      <td>1407.500000</td>\n",
       "      <td>5428.500000</td>\n",
       "      <td>1.000000</td>\n",
       "      <td>0.000000</td>\n",
       "      <td>0.000000</td>\n",
       "      <td>3.000000</td>\n",
       "      <td>7.00000</td>\n",
       "      <td>1190.000000</td>\n",
       "      <td>0.000000</td>\n",
       "      <td>1952.000000</td>\n",
       "      <td>0.00000</td>\n",
       "      <td>47.442875</td>\n",
       "      <td>-122.322250</td>\n",
       "      <td>1490.000000</td>\n",
       "      <td>5404.500000</td>\n",
       "    </tr>\n",
       "    <tr>\n",
       "      <th>50%</th>\n",
       "      <td>3.000000</td>\n",
       "      <td>2.000000</td>\n",
       "      <td>1900.000000</td>\n",
       "      <td>8045.000000</td>\n",
       "      <td>1.000000</td>\n",
       "      <td>0.000000</td>\n",
       "      <td>0.000000</td>\n",
       "      <td>3.000000</td>\n",
       "      <td>7.00000</td>\n",
       "      <td>1535.000000</td>\n",
       "      <td>0.000000</td>\n",
       "      <td>1974.000000</td>\n",
       "      <td>0.00000</td>\n",
       "      <td>47.563500</td>\n",
       "      <td>-122.218000</td>\n",
       "      <td>1850.000000</td>\n",
       "      <td>7995.000000</td>\n",
       "    </tr>\n",
       "    <tr>\n",
       "      <th>75%</th>\n",
       "      <td>4.000000</td>\n",
       "      <td>2.500000</td>\n",
       "      <td>2472.500000</td>\n",
       "      <td>11489.250000</td>\n",
       "      <td>2.000000</td>\n",
       "      <td>0.000000</td>\n",
       "      <td>0.000000</td>\n",
       "      <td>4.000000</td>\n",
       "      <td>8.00000</td>\n",
       "      <td>2137.500000</td>\n",
       "      <td>580.000000</td>\n",
       "      <td>1992.000000</td>\n",
       "      <td>0.00000</td>\n",
       "      <td>47.673400</td>\n",
       "      <td>-122.118000</td>\n",
       "      <td>2360.000000</td>\n",
       "      <td>10403.000000</td>\n",
       "    </tr>\n",
       "    <tr>\n",
       "      <th>max</th>\n",
       "      <td>7.000000</td>\n",
       "      <td>5.000000</td>\n",
       "      <td>6070.000000</td>\n",
       "      <td>315374.000000</td>\n",
       "      <td>3.500000</td>\n",
       "      <td>1.000000</td>\n",
       "      <td>4.000000</td>\n",
       "      <td>5.000000</td>\n",
       "      <td>12.00000</td>\n",
       "      <td>6070.000000</td>\n",
       "      <td>2060.000000</td>\n",
       "      <td>2015.000000</td>\n",
       "      <td>2014.00000</td>\n",
       "      <td>47.777600</td>\n",
       "      <td>-121.709000</td>\n",
       "      <td>4760.000000</td>\n",
       "      <td>233971.000000</td>\n",
       "    </tr>\n",
       "  </tbody>\n",
       "</table>\n",
       "</div>"
      ],
      "text/plain": [
       "          bedrooms    bathrooms  sqft_living       sqft_lot       floors  \\\n",
       "count  1000.000000  1000.000000  1000.000000    1000.000000  1000.000000   \n",
       "mean      3.349000     2.045750  2051.196000   14702.085000     1.446500   \n",
       "std       0.852012     0.721623   887.929222   28961.030775     0.517354   \n",
       "min       0.000000     0.000000   380.000000     649.000000     1.000000   \n",
       "25%       3.000000     1.500000  1407.500000    5428.500000     1.000000   \n",
       "50%       3.000000     2.000000  1900.000000    8045.000000     1.000000   \n",
       "75%       4.000000     2.500000  2472.500000   11489.250000     2.000000   \n",
       "max       7.000000     5.000000  6070.000000  315374.000000     3.500000   \n",
       "\n",
       "        waterfront         view    condition       grade   sqft_above  \\\n",
       "count  1000.000000  1000.000000  1000.000000  1000.00000   998.000000   \n",
       "mean      0.008000     0.237000     3.464000     7.60600  1750.373747   \n",
       "std       0.089129     0.765125     0.689332     1.16022   790.847575   \n",
       "min       0.000000     0.000000     1.000000     4.00000   380.000000   \n",
       "25%       0.000000     0.000000     3.000000     7.00000  1190.000000   \n",
       "50%       0.000000     0.000000     3.000000     7.00000  1535.000000   \n",
       "75%       0.000000     0.000000     4.000000     8.00000  2137.500000   \n",
       "max       1.000000     4.000000     5.000000    12.00000  6070.000000   \n",
       "\n",
       "       sqft_basement     yr_built  yr_renovated          lat         long  \\\n",
       "count    1000.000000  1000.000000    1000.00000  1000.000000  1000.000000   \n",
       "mean      300.863000  1969.049000      81.74900    47.549493  -122.207472   \n",
       "std       450.898196    28.190873     395.57825     0.141670     0.139509   \n",
       "min         0.000000  1900.000000       0.00000    47.177500  -122.490000   \n",
       "25%         0.000000  1952.000000       0.00000    47.442875  -122.322250   \n",
       "50%         0.000000  1974.000000       0.00000    47.563500  -122.218000   \n",
       "75%       580.000000  1992.000000       0.00000    47.673400  -122.118000   \n",
       "max      2060.000000  2015.000000    2014.00000    47.777600  -121.709000   \n",
       "\n",
       "       sqft_living15     sqft_lot15  \n",
       "count    1000.000000    1000.000000  \n",
       "mean     1987.077000   13496.874000  \n",
       "std       670.439353   25093.829486  \n",
       "min       830.000000     660.000000  \n",
       "25%      1490.000000    5404.500000  \n",
       "50%      1850.000000    7995.000000  \n",
       "75%      2360.000000   10403.000000  \n",
       "max      4760.000000  233971.000000  "
      ]
     },
     "execution_count": 9,
     "metadata": {},
     "output_type": "execute_result"
    }
   ],
   "source": [
    "X.describe()"
   ]
  },
  {
   "cell_type": "markdown",
   "metadata": {
    "id": "Ac4CMr033yt8"
   },
   "source": [
    "Step 3: Building and evaluating the different models"
   ]
  },
  {
   "cell_type": "markdown",
   "metadata": {
    "id": "8RxfXzS631Zs"
   },
   "source": [
    "a) Linear Regression:"
   ]
  },
  {
   "cell_type": "code",
   "execution_count": 10,
   "metadata": {
    "colab": {
     "base_uri": "https://localhost:8080/"
    },
    "id": "p8YOuoKs3usF",
    "outputId": "e6b38c2e-6153-4944-af45-69e76e8e2390"
   },
   "outputs": [
    {
     "ename": "ValueError",
     "evalue": "Input contains NaN, infinity or a value too large for dtype('float64').",
     "output_type": "error",
     "traceback": [
      "\u001b[1;31m---------------------------------------------------------------------------\u001b[0m",
      "\u001b[1;31mValueError\u001b[0m                                Traceback (most recent call last)",
      "\u001b[1;32m<ipython-input-10-bca1e0b23394>\u001b[0m in \u001b[0;36m<module>\u001b[1;34m\u001b[0m\n\u001b[0;32m      1\u001b[0m \u001b[1;31m# Bulding and fitting the Linear Regression model\u001b[0m\u001b[1;33m\u001b[0m\u001b[1;33m\u001b[0m\u001b[1;33m\u001b[0m\u001b[0m\n\u001b[0;32m      2\u001b[0m \u001b[0mlinearModel\u001b[0m \u001b[1;33m=\u001b[0m \u001b[0mLinearRegression\u001b[0m\u001b[1;33m(\u001b[0m\u001b[1;33m)\u001b[0m\u001b[1;33m\u001b[0m\u001b[1;33m\u001b[0m\u001b[0m\n\u001b[1;32m----> 3\u001b[1;33m \u001b[0mlinearModel\u001b[0m\u001b[1;33m.\u001b[0m\u001b[0mfit\u001b[0m\u001b[1;33m(\u001b[0m\u001b[0mX_train\u001b[0m\u001b[1;33m,\u001b[0m \u001b[0my_train\u001b[0m\u001b[1;33m)\u001b[0m\u001b[1;33m\u001b[0m\u001b[1;33m\u001b[0m\u001b[0m\n\u001b[0m\u001b[0;32m      4\u001b[0m \u001b[1;33m\u001b[0m\u001b[0m\n\u001b[0;32m      5\u001b[0m \u001b[1;31m# Evaluating the Linear Regression model\u001b[0m\u001b[1;33m\u001b[0m\u001b[1;33m\u001b[0m\u001b[1;33m\u001b[0m\u001b[0m\n",
      "\u001b[1;32mc:\\users\\user1\\appdata\\local\\programs\\python\\python38-32\\lib\\site-packages\\sklearn\\linear_model\\_base.py\u001b[0m in \u001b[0;36mfit\u001b[1;34m(self, X, y, sample_weight)\u001b[0m\n\u001b[0;32m    660\u001b[0m         \u001b[0maccept_sparse\u001b[0m \u001b[1;33m=\u001b[0m \u001b[1;32mFalse\u001b[0m \u001b[1;32mif\u001b[0m \u001b[0mself\u001b[0m\u001b[1;33m.\u001b[0m\u001b[0mpositive\u001b[0m \u001b[1;32melse\u001b[0m \u001b[1;33m[\u001b[0m\u001b[1;34m\"csr\"\u001b[0m\u001b[1;33m,\u001b[0m \u001b[1;34m\"csc\"\u001b[0m\u001b[1;33m,\u001b[0m \u001b[1;34m\"coo\"\u001b[0m\u001b[1;33m]\u001b[0m\u001b[1;33m\u001b[0m\u001b[1;33m\u001b[0m\u001b[0m\n\u001b[0;32m    661\u001b[0m \u001b[1;33m\u001b[0m\u001b[0m\n\u001b[1;32m--> 662\u001b[1;33m         X, y = self._validate_data(\n\u001b[0m\u001b[0;32m    663\u001b[0m             \u001b[0mX\u001b[0m\u001b[1;33m,\u001b[0m \u001b[0my\u001b[0m\u001b[1;33m,\u001b[0m \u001b[0maccept_sparse\u001b[0m\u001b[1;33m=\u001b[0m\u001b[0maccept_sparse\u001b[0m\u001b[1;33m,\u001b[0m \u001b[0my_numeric\u001b[0m\u001b[1;33m=\u001b[0m\u001b[1;32mTrue\u001b[0m\u001b[1;33m,\u001b[0m \u001b[0mmulti_output\u001b[0m\u001b[1;33m=\u001b[0m\u001b[1;32mTrue\u001b[0m\u001b[1;33m\u001b[0m\u001b[1;33m\u001b[0m\u001b[0m\n\u001b[0;32m    664\u001b[0m         )\n",
      "\u001b[1;32mc:\\users\\user1\\appdata\\local\\programs\\python\\python38-32\\lib\\site-packages\\sklearn\\base.py\u001b[0m in \u001b[0;36m_validate_data\u001b[1;34m(self, X, y, reset, validate_separately, **check_params)\u001b[0m\n\u001b[0;32m    574\u001b[0m                 \u001b[0my\u001b[0m \u001b[1;33m=\u001b[0m \u001b[0mcheck_array\u001b[0m\u001b[1;33m(\u001b[0m\u001b[0my\u001b[0m\u001b[1;33m,\u001b[0m \u001b[1;33m**\u001b[0m\u001b[0mcheck_y_params\u001b[0m\u001b[1;33m)\u001b[0m\u001b[1;33m\u001b[0m\u001b[1;33m\u001b[0m\u001b[0m\n\u001b[0;32m    575\u001b[0m             \u001b[1;32melse\u001b[0m\u001b[1;33m:\u001b[0m\u001b[1;33m\u001b[0m\u001b[1;33m\u001b[0m\u001b[0m\n\u001b[1;32m--> 576\u001b[1;33m                 \u001b[0mX\u001b[0m\u001b[1;33m,\u001b[0m \u001b[0my\u001b[0m \u001b[1;33m=\u001b[0m \u001b[0mcheck_X_y\u001b[0m\u001b[1;33m(\u001b[0m\u001b[0mX\u001b[0m\u001b[1;33m,\u001b[0m \u001b[0my\u001b[0m\u001b[1;33m,\u001b[0m \u001b[1;33m**\u001b[0m\u001b[0mcheck_params\u001b[0m\u001b[1;33m)\u001b[0m\u001b[1;33m\u001b[0m\u001b[1;33m\u001b[0m\u001b[0m\n\u001b[0m\u001b[0;32m    577\u001b[0m             \u001b[0mout\u001b[0m \u001b[1;33m=\u001b[0m \u001b[0mX\u001b[0m\u001b[1;33m,\u001b[0m \u001b[0my\u001b[0m\u001b[1;33m\u001b[0m\u001b[1;33m\u001b[0m\u001b[0m\n\u001b[0;32m    578\u001b[0m \u001b[1;33m\u001b[0m\u001b[0m\n",
      "\u001b[1;32mc:\\users\\user1\\appdata\\local\\programs\\python\\python38-32\\lib\\site-packages\\sklearn\\utils\\validation.py\u001b[0m in \u001b[0;36mcheck_X_y\u001b[1;34m(X, y, accept_sparse, accept_large_sparse, dtype, order, copy, force_all_finite, ensure_2d, allow_nd, multi_output, ensure_min_samples, ensure_min_features, y_numeric, estimator)\u001b[0m\n\u001b[0;32m    954\u001b[0m         \u001b[1;32mraise\u001b[0m \u001b[0mValueError\u001b[0m\u001b[1;33m(\u001b[0m\u001b[1;34m\"y cannot be None\"\u001b[0m\u001b[1;33m)\u001b[0m\u001b[1;33m\u001b[0m\u001b[1;33m\u001b[0m\u001b[0m\n\u001b[0;32m    955\u001b[0m \u001b[1;33m\u001b[0m\u001b[0m\n\u001b[1;32m--> 956\u001b[1;33m     X = check_array(\n\u001b[0m\u001b[0;32m    957\u001b[0m         \u001b[0mX\u001b[0m\u001b[1;33m,\u001b[0m\u001b[1;33m\u001b[0m\u001b[1;33m\u001b[0m\u001b[0m\n\u001b[0;32m    958\u001b[0m         \u001b[0maccept_sparse\u001b[0m\u001b[1;33m=\u001b[0m\u001b[0maccept_sparse\u001b[0m\u001b[1;33m,\u001b[0m\u001b[1;33m\u001b[0m\u001b[1;33m\u001b[0m\u001b[0m\n",
      "\u001b[1;32mc:\\users\\user1\\appdata\\local\\programs\\python\\python38-32\\lib\\site-packages\\sklearn\\utils\\validation.py\u001b[0m in \u001b[0;36mcheck_array\u001b[1;34m(array, accept_sparse, accept_large_sparse, dtype, order, copy, force_all_finite, ensure_2d, allow_nd, ensure_min_samples, ensure_min_features, estimator)\u001b[0m\n\u001b[0;32m    790\u001b[0m \u001b[1;33m\u001b[0m\u001b[0m\n\u001b[0;32m    791\u001b[0m         \u001b[1;32mif\u001b[0m \u001b[0mforce_all_finite\u001b[0m\u001b[1;33m:\u001b[0m\u001b[1;33m\u001b[0m\u001b[1;33m\u001b[0m\u001b[0m\n\u001b[1;32m--> 792\u001b[1;33m             \u001b[0m_assert_all_finite\u001b[0m\u001b[1;33m(\u001b[0m\u001b[0marray\u001b[0m\u001b[1;33m,\u001b[0m \u001b[0mallow_nan\u001b[0m\u001b[1;33m=\u001b[0m\u001b[0mforce_all_finite\u001b[0m \u001b[1;33m==\u001b[0m \u001b[1;34m\"allow-nan\"\u001b[0m\u001b[1;33m)\u001b[0m\u001b[1;33m\u001b[0m\u001b[1;33m\u001b[0m\u001b[0m\n\u001b[0m\u001b[0;32m    793\u001b[0m \u001b[1;33m\u001b[0m\u001b[0m\n\u001b[0;32m    794\u001b[0m     \u001b[1;32mif\u001b[0m \u001b[0mensure_min_samples\u001b[0m \u001b[1;33m>\u001b[0m \u001b[1;36m0\u001b[0m\u001b[1;33m:\u001b[0m\u001b[1;33m\u001b[0m\u001b[1;33m\u001b[0m\u001b[0m\n",
      "\u001b[1;32mc:\\users\\user1\\appdata\\local\\programs\\python\\python38-32\\lib\\site-packages\\sklearn\\utils\\validation.py\u001b[0m in \u001b[0;36m_assert_all_finite\u001b[1;34m(X, allow_nan, msg_dtype)\u001b[0m\n\u001b[0;32m    112\u001b[0m         ):\n\u001b[0;32m    113\u001b[0m             \u001b[0mtype_err\u001b[0m \u001b[1;33m=\u001b[0m \u001b[1;34m\"infinity\"\u001b[0m \u001b[1;32mif\u001b[0m \u001b[0mallow_nan\u001b[0m \u001b[1;32melse\u001b[0m \u001b[1;34m\"NaN, infinity\"\u001b[0m\u001b[1;33m\u001b[0m\u001b[1;33m\u001b[0m\u001b[0m\n\u001b[1;32m--> 114\u001b[1;33m             raise ValueError(\n\u001b[0m\u001b[0;32m    115\u001b[0m                 msg_err.format(\n\u001b[0;32m    116\u001b[0m                     \u001b[0mtype_err\u001b[0m\u001b[1;33m,\u001b[0m \u001b[0mmsg_dtype\u001b[0m \u001b[1;32mif\u001b[0m \u001b[0mmsg_dtype\u001b[0m \u001b[1;32mis\u001b[0m \u001b[1;32mnot\u001b[0m \u001b[1;32mNone\u001b[0m \u001b[1;32melse\u001b[0m \u001b[0mX\u001b[0m\u001b[1;33m.\u001b[0m\u001b[0mdtype\u001b[0m\u001b[1;33m\u001b[0m\u001b[1;33m\u001b[0m\u001b[0m\n",
      "\u001b[1;31mValueError\u001b[0m: Input contains NaN, infinity or a value too large for dtype('float64')."
     ]
    }
   ],
   "source": [
    "# Bulding and fitting the Linear Regression model \n",
    "linearModel = LinearRegression() \n",
    "linearModel.fit(X_train, y_train) \n",
    "\n",
    "# Evaluating the Linear Regression model \n",
    "print(linearModel.score(X_train, y_train)) \n",
    "print(linearModel.score(X_test, y_test)) "
   ]
  },
  {
   "cell_type": "markdown",
   "metadata": {
    "id": "mlCBfNAt35Sz"
   },
   "source": [
    "b) Ridge(L2) Regression:"
   ]
  },
  {
   "cell_type": "code",
   "execution_count": null,
   "metadata": {
    "colab": {
     "base_uri": "https://localhost:8080/"
    },
    "id": "1abNnZbM32wM",
    "outputId": "25a66b31-d1a3-44d3-f101-22c5251ac60e"
   },
   "outputs": [],
   "source": [
    "# List to maintain the different cross-validation scores \n",
    "cross_val_scores_ridge = [] \n",
    "\n",
    "# List to maintain the different values of alpha \n",
    "alpha = [] \n",
    "# Loop to compute the different values of cross-validation scores \n",
    "for i in range(-3, 3): \n",
    "\tridgeModel = Ridge(alpha = 10**(-i)) \n",
    "\tridgeModel.fit(X_train, y_train) \n",
    "\tscores = cross_val_score(ridgeModel, X, y, cv = 10) \n",
    "\tavg_cross_val_score = mean(scores)*100\n",
    "\tcross_val_scores_ridge.append(avg_cross_val_score) \n",
    "\talpha.append(10**(-i)) \n",
    "\n",
    "# Loop to print the different values of cross-validation scores \n",
    "for i in range(0, len(alpha)): \n",
    "\tprint(str(alpha[i])+' : '+str(cross_val_scores_ridge[i])) \n"
   ]
  },
  {
   "cell_type": "code",
   "execution_count": null,
   "metadata": {
    "colab": {
     "base_uri": "https://localhost:8080/"
    },
    "id": "96QXzjk-9PX3",
    "outputId": "a3bf3f98-6e63-4f23-a431-820a253acb2b"
   },
   "outputs": [],
   "source": [
    "# List to maintain the different cross-validation scores \n",
    "cross_val_scores_ridge = [] \n",
    "\n",
    "# List to maintain the different values of alpha \n",
    "alpha = [] \n",
    "\n",
    "# Loop to compute the different values of cross-validation scores \n",
    "for i in range(1, 9): \n",
    "\tridgeModel = Ridge(alpha = i * 0.25) \n",
    "\tridgeModel.fit(X_train, y_train) \n",
    "\tscores = cross_val_score(ridgeModel, X, y, cv = 10) \n",
    "\tavg_cross_val_score = mean(scores)*100\n",
    "\tcross_val_scores_ridge.append(avg_cross_val_score) \n",
    "\talpha.append(i * 0.25) \n",
    "\n",
    "# Loop to print the different values of cross-validation scores \n",
    "for i in range(0, len(alpha)): \n",
    "\tprint(str(alpha[i])+' : '+str(cross_val_scores_ridge[i])) \n"
   ]
  },
  {
   "cell_type": "code",
   "execution_count": null,
   "metadata": {
    "colab": {
     "base_uri": "https://localhost:8080/"
    },
    "id": "mjcXf4pi454p",
    "outputId": "93c08b44-4720-4800-8ab2-d6f4184ad736"
   },
   "outputs": [],
   "source": [
    "# Building and fitting the Ridge Regression model \n",
    "ridgeModelChosen = Ridge(alpha = 1.5) \n",
    "ridgeModelChosen.fit(X_train, y_train) \n",
    "\n",
    "# Evaluating the Ridge Regression model \n",
    "\n",
    "print(ridgeModelChosen.score(X_train, y_train)) \n",
    "print(ridgeModelChosen.score(X_test, y_test)) "
   ]
  },
  {
   "cell_type": "markdown",
   "metadata": {
    "id": "3M0i25QS6JYh"
   },
   "source": [
    "c) Lasso(L1) Regression:"
   ]
  },
  {
   "cell_type": "code",
   "execution_count": null,
   "metadata": {
    "colab": {
     "base_uri": "https://localhost:8080/"
    },
    "id": "vgzGztue_Whi",
    "outputId": "5e6b466f-b4ec-403a-9d4c-cdf04fa5426a"
   },
   "outputs": [],
   "source": [
    "# List to maintain the cross-validation scores \n",
    "cross_val_scores_lasso = [] \n",
    "\n",
    "# List to maintain the different values of Lambda \n",
    "Lambda = [] \n",
    "\n",
    "# Loop to compute the cross-validation scores \n",
    "for i in range(-3, 3): \n",
    "\tlassoModel = Lasso(alpha = 10**(-i), tol = 0.0925) \n",
    "\tlassoModel.fit(X_train, y_train) \n",
    "\tscores = cross_val_score(lassoModel, X, y, cv = 10) \n",
    "\tavg_cross_val_score = mean(scores)*100\n",
    "\tcross_val_scores_lasso.append(avg_cross_val_score) \n",
    "\tLambda.append(10**(-i)) \n",
    "\n",
    "# Loop to print the different values of cross-validation scores \n",
    "for i in range(-3,3): \n",
    "\tprint(str(10**(-i))+' : '+str(cross_val_scores_lasso[i])) "
   ]
  },
  {
   "cell_type": "code",
   "execution_count": null,
   "metadata": {
    "colab": {
     "base_uri": "https://localhost:8080/"
    },
    "id": "f-aDykge6ItT",
    "outputId": "af92b1ab-28d6-49c7-a484-c77aafce618e"
   },
   "outputs": [],
   "source": [
    "# List to maintain the cross-validation scores \n",
    "cross_val_scores_lasso = [] \n",
    "\n",
    "# List to maintain the different values of Lambda \n",
    "Lambda = [] \n",
    "\n",
    "# Loop to compute the cross-validation scores \n",
    "for i in range(1, 9): \n",
    "\tlassoModel = Lasso(alpha = i * 0.25, tol = 0.0925) \n",
    "\tlassoModel.fit(X_train, y_train) \n",
    "\tscores = cross_val_score(lassoModel, X, y, cv = 10) \n",
    "\tavg_cross_val_score = mean(scores)*100\n",
    "\tcross_val_scores_lasso.append(avg_cross_val_score) \n",
    "\tLambda.append(i * 0.25) \n",
    "\n",
    "# Loop to print the different values of cross-validation scores \n",
    "for i in range(0, len(alpha)): \n",
    "\tprint(str(i * 0.25)+' : '+str(cross_val_scores_lasso[i])) "
   ]
  },
  {
   "cell_type": "code",
   "execution_count": null,
   "metadata": {
    "colab": {
     "base_uri": "https://localhost:8080/"
    },
    "id": "BhZpKi7d6Mub",
    "outputId": "808eeff9-694e-4460-d3bd-a3e97b24a6ef"
   },
   "outputs": [],
   "source": [
    "# Building and fitting the Lasso Regression Model \n",
    "lassoModelChosen = Lasso(alpha = 10, tol = 0.0925) \n",
    "lassoModelChosen.fit(X_train, y_train) \n",
    "# Evaluating the Lasso Regression model \n",
    "print(lassoModelChosen.score(X_train, y_train)) \n",
    "print(lassoModelChosen.score(X_test, y_test)) \n"
   ]
  },
  {
   "cell_type": "code",
   "execution_count": null,
   "metadata": {
    "colab": {
     "base_uri": "https://localhost:8080/"
    },
    "id": "DbBr-Szb6nUI",
    "outputId": "aba42e61-ca8c-4a32-e327-0cf8fb2faeab"
   },
   "outputs": [],
   "source": [
    "linearModel.coef_"
   ]
  },
  {
   "cell_type": "code",
   "execution_count": null,
   "metadata": {
    "colab": {
     "base_uri": "https://localhost:8080/"
    },
    "id": "PfgiVgXW7ZTc",
    "outputId": "2a8e912c-a6dd-4c55-9248-88c2163b5a6d"
   },
   "outputs": [],
   "source": [
    "ridgeModelChosen.coef_"
   ]
  },
  {
   "cell_type": "code",
   "execution_count": null,
   "metadata": {
    "colab": {
     "base_uri": "https://localhost:8080/"
    },
    "id": "TdMW6JoW7efZ",
    "outputId": "1f87edcc-6c08-4b7b-e989-9673f5d63658"
   },
   "outputs": [],
   "source": [
    "lassoModelChosen.coef_"
   ]
  },
  {
   "cell_type": "code",
   "execution_count": null,
   "metadata": {
    "colab": {
     "base_uri": "https://localhost:8080/"
    },
    "id": "H_xB7D8f74yd",
    "outputId": "da15a463-69cb-405e-e54a-469ea836fe7c"
   },
   "outputs": [],
   "source": [
    "np.sum(abs(0-linearModel.coef_))"
   ]
  },
  {
   "cell_type": "code",
   "execution_count": null,
   "metadata": {
    "colab": {
     "base_uri": "https://localhost:8080/"
    },
    "id": "DQ1sTu0H74Zw",
    "outputId": "000bd54b-876b-4dba-b30f-0ba31ab16504"
   },
   "outputs": [],
   "source": [
    "np.sum(abs(0-ridgeModelChosen.coef_)) "
   ]
  },
  {
   "cell_type": "code",
   "execution_count": null,
   "metadata": {
    "colab": {
     "base_uri": "https://localhost:8080/"
    },
    "id": "ctVljbrs7hCj",
    "outputId": "b2410f8c-c38a-43d0-c22a-e77f3c39e9c7"
   },
   "outputs": [],
   "source": [
    "np.sum(abs(0-lassoModelChosen.coef_)) "
   ]
  },
  {
   "cell_type": "markdown",
   "metadata": {
    "id": "Ahqu3IEw8Mr5"
   },
   "source": [
    "Step 4: Comparing and Visualizing the results"
   ]
  },
  {
   "cell_type": "code",
   "execution_count": null,
   "metadata": {
    "colab": {
     "base_uri": "https://localhost:8080/"
    },
    "id": "7yi20McM8M3w",
    "outputId": "a8d62d0c-b4d0-456f-ce08-d9e39a16d46b"
   },
   "outputs": [],
   "source": [
    "# Building the two lists for visualization \n",
    "models = ['Linear Regression', 'Ridge Regression', 'Lasso Regression'] \n",
    "scores = [linearModel.score(X_test, y_test), \n",
    "\t\tridgeModelChosen.score(X_test, y_test), \n",
    "\t\tlassoModelChosen.score(X_test, y_test)] \n",
    "\n",
    "# Building the dictionary to compare the scores \n",
    "mapping = {} \n",
    "mapping['Linear Regreesion'] = linearModel.score(X_test, y_test) \n",
    "mapping['Ridge Regreesion'] = ridgeModelChosen.score(X_test, y_test) \n",
    "mapping['Lasso Regression'] = lassoModelChosen.score(X_test, y_test) \n",
    "\n",
    "# Printing the scores for different models \n",
    "for key, val in mapping.items(): \n",
    "\tprint(str(key)+' : '+str(val)) \n"
   ]
  },
  {
   "cell_type": "code",
   "execution_count": null,
   "metadata": {
    "colab": {
     "base_uri": "https://localhost:8080/",
     "height": 279
    },
    "id": "8agPPRkJ8OUy",
    "outputId": "e3b031f7-927f-4ea1-aa6d-f635a5ac150b"
   },
   "outputs": [],
   "source": [
    "# Plotting the scores \n",
    "plt.bar(models, scores) \n",
    "plt.xlabel('Regression Models') \n",
    "plt.ylabel('Score') \n",
    "plt.show() \n"
   ]
  },
  {
   "cell_type": "code",
   "execution_count": null,
   "metadata": {
    "id": "doh0AZhq8h31"
   },
   "outputs": [],
   "source": []
  }
 ],
 "metadata": {
  "colab": {
   "collapsed_sections": [],
   "name": "L1 vs L2 Regularization.ipynb",
   "provenance": []
  },
  "kernelspec": {
   "display_name": "Python 3",
   "language": "python",
   "name": "python3"
  },
  "language_info": {
   "codemirror_mode": {
    "name": "ipython",
    "version": 3
   },
   "file_extension": ".py",
   "mimetype": "text/x-python",
   "name": "python",
   "nbconvert_exporter": "python",
   "pygments_lexer": "ipython3",
   "version": "3.8.2"
  }
 },
 "nbformat": 4,
 "nbformat_minor": 1
}
