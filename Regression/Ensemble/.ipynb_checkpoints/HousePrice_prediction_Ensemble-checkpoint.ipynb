{
 "cells": [
  {
   "cell_type": "markdown",
   "metadata": {
    "id": "LIgm3FFOQYf9"
   },
   "source": [
    "# Ensemble Methods for Regression\n",
    "\n",
    "In the previous lesson, we learned how to choose between competing machine learning models. However, it is usually better to combine the predictions from the models than to use the prediction from the single best model. This lesson describes methods for combining predictions from different regression models. Methods for combining predictions from different machine learning models are called _ensemble methods_."
   ]
  },
  {
   "cell_type": "code",
   "execution_count": 2,
   "metadata": {
    "id": "EFs_qPv_QYgD"
   },
   "outputs": [],
   "source": [
    "import pandas as pd\n",
    "df_housing = pd.read_csv(\"AmesHousing.txt\", sep=\"\\t\")"
   ]
  },
  {
   "cell_type": "markdown",
   "metadata": {
    "id": "Vb2fbt6vQYgF"
   },
   "source": [
    "First, we fit two models to predict house price: a linear regression model and a $10$-nearest neighbors model."
   ]
  },
  {
   "cell_type": "code",
   "execution_count": 3,
   "metadata": {
    "colab": {
     "base_uri": "https://localhost:8080/",
     "height": 307
    },
    "id": "dycfOUWakH4d",
    "outputId": "9e919b1f-ba40-4152-b543-13afa6b5d178"
   },
   "outputs": [
    {
     "data": {
      "text/html": [
       "<div>\n",
       "<style scoped>\n",
       "    .dataframe tbody tr th:only-of-type {\n",
       "        vertical-align: middle;\n",
       "    }\n",
       "\n",
       "    .dataframe tbody tr th {\n",
       "        vertical-align: top;\n",
       "    }\n",
       "\n",
       "    .dataframe thead th {\n",
       "        text-align: right;\n",
       "    }\n",
       "</style>\n",
       "<table border=\"1\" class=\"dataframe\">\n",
       "  <thead>\n",
       "    <tr style=\"text-align: right;\">\n",
       "      <th></th>\n",
       "      <th>Order</th>\n",
       "      <th>PID</th>\n",
       "      <th>MS SubClass</th>\n",
       "      <th>MS Zoning</th>\n",
       "      <th>Lot Frontage</th>\n",
       "      <th>Lot Area</th>\n",
       "      <th>Street</th>\n",
       "      <th>Alley</th>\n",
       "      <th>Lot Shape</th>\n",
       "      <th>Land Contour</th>\n",
       "      <th>...</th>\n",
       "      <th>Pool Area</th>\n",
       "      <th>Pool QC</th>\n",
       "      <th>Fence</th>\n",
       "      <th>Misc Feature</th>\n",
       "      <th>Misc Val</th>\n",
       "      <th>Mo Sold</th>\n",
       "      <th>Yr Sold</th>\n",
       "      <th>Sale Type</th>\n",
       "      <th>Sale Condition</th>\n",
       "      <th>SalePrice</th>\n",
       "    </tr>\n",
       "  </thead>\n",
       "  <tbody>\n",
       "    <tr>\n",
       "      <th>0</th>\n",
       "      <td>1</td>\n",
       "      <td>526301100</td>\n",
       "      <td>20</td>\n",
       "      <td>RL</td>\n",
       "      <td>141.0</td>\n",
       "      <td>31770</td>\n",
       "      <td>Pave</td>\n",
       "      <td>NaN</td>\n",
       "      <td>IR1</td>\n",
       "      <td>Lvl</td>\n",
       "      <td>...</td>\n",
       "      <td>0</td>\n",
       "      <td>NaN</td>\n",
       "      <td>NaN</td>\n",
       "      <td>NaN</td>\n",
       "      <td>0</td>\n",
       "      <td>5</td>\n",
       "      <td>2010</td>\n",
       "      <td>WD</td>\n",
       "      <td>Normal</td>\n",
       "      <td>215000</td>\n",
       "    </tr>\n",
       "    <tr>\n",
       "      <th>1</th>\n",
       "      <td>2</td>\n",
       "      <td>526350040</td>\n",
       "      <td>20</td>\n",
       "      <td>RH</td>\n",
       "      <td>80.0</td>\n",
       "      <td>11622</td>\n",
       "      <td>Pave</td>\n",
       "      <td>NaN</td>\n",
       "      <td>Reg</td>\n",
       "      <td>Lvl</td>\n",
       "      <td>...</td>\n",
       "      <td>0</td>\n",
       "      <td>NaN</td>\n",
       "      <td>MnPrv</td>\n",
       "      <td>NaN</td>\n",
       "      <td>0</td>\n",
       "      <td>6</td>\n",
       "      <td>2010</td>\n",
       "      <td>WD</td>\n",
       "      <td>Normal</td>\n",
       "      <td>105000</td>\n",
       "    </tr>\n",
       "    <tr>\n",
       "      <th>2</th>\n",
       "      <td>3</td>\n",
       "      <td>526351010</td>\n",
       "      <td>20</td>\n",
       "      <td>RL</td>\n",
       "      <td>81.0</td>\n",
       "      <td>14267</td>\n",
       "      <td>Pave</td>\n",
       "      <td>NaN</td>\n",
       "      <td>IR1</td>\n",
       "      <td>Lvl</td>\n",
       "      <td>...</td>\n",
       "      <td>0</td>\n",
       "      <td>NaN</td>\n",
       "      <td>NaN</td>\n",
       "      <td>Gar2</td>\n",
       "      <td>12500</td>\n",
       "      <td>6</td>\n",
       "      <td>2010</td>\n",
       "      <td>WD</td>\n",
       "      <td>Normal</td>\n",
       "      <td>172000</td>\n",
       "    </tr>\n",
       "    <tr>\n",
       "      <th>3</th>\n",
       "      <td>4</td>\n",
       "      <td>526353030</td>\n",
       "      <td>20</td>\n",
       "      <td>RL</td>\n",
       "      <td>93.0</td>\n",
       "      <td>11160</td>\n",
       "      <td>Pave</td>\n",
       "      <td>NaN</td>\n",
       "      <td>Reg</td>\n",
       "      <td>Lvl</td>\n",
       "      <td>...</td>\n",
       "      <td>0</td>\n",
       "      <td>NaN</td>\n",
       "      <td>NaN</td>\n",
       "      <td>NaN</td>\n",
       "      <td>0</td>\n",
       "      <td>4</td>\n",
       "      <td>2010</td>\n",
       "      <td>WD</td>\n",
       "      <td>Normal</td>\n",
       "      <td>244000</td>\n",
       "    </tr>\n",
       "    <tr>\n",
       "      <th>4</th>\n",
       "      <td>5</td>\n",
       "      <td>527105010</td>\n",
       "      <td>60</td>\n",
       "      <td>RL</td>\n",
       "      <td>74.0</td>\n",
       "      <td>13830</td>\n",
       "      <td>Pave</td>\n",
       "      <td>NaN</td>\n",
       "      <td>IR1</td>\n",
       "      <td>Lvl</td>\n",
       "      <td>...</td>\n",
       "      <td>0</td>\n",
       "      <td>NaN</td>\n",
       "      <td>MnPrv</td>\n",
       "      <td>NaN</td>\n",
       "      <td>0</td>\n",
       "      <td>3</td>\n",
       "      <td>2010</td>\n",
       "      <td>WD</td>\n",
       "      <td>Normal</td>\n",
       "      <td>189900</td>\n",
       "    </tr>\n",
       "  </tbody>\n",
       "</table>\n",
       "<p>5 rows × 82 columns</p>\n",
       "</div>"
      ],
      "text/plain": [
       "   Order        PID  MS SubClass MS Zoning  Lot Frontage  Lot Area Street  \\\n",
       "0      1  526301100           20        RL         141.0     31770   Pave   \n",
       "1      2  526350040           20        RH          80.0     11622   Pave   \n",
       "2      3  526351010           20        RL          81.0     14267   Pave   \n",
       "3      4  526353030           20        RL          93.0     11160   Pave   \n",
       "4      5  527105010           60        RL          74.0     13830   Pave   \n",
       "\n",
       "  Alley Lot Shape Land Contour  ... Pool Area Pool QC  Fence Misc Feature  \\\n",
       "0   NaN       IR1          Lvl  ...         0     NaN    NaN          NaN   \n",
       "1   NaN       Reg          Lvl  ...         0     NaN  MnPrv          NaN   \n",
       "2   NaN       IR1          Lvl  ...         0     NaN    NaN         Gar2   \n",
       "3   NaN       Reg          Lvl  ...         0     NaN    NaN          NaN   \n",
       "4   NaN       IR1          Lvl  ...         0     NaN  MnPrv          NaN   \n",
       "\n",
       "  Misc Val Mo Sold Yr Sold Sale Type  Sale Condition  SalePrice  \n",
       "0        0       5    2010       WD           Normal     215000  \n",
       "1        0       6    2010       WD           Normal     105000  \n",
       "2    12500       6    2010       WD           Normal     172000  \n",
       "3        0       4    2010       WD           Normal     244000  \n",
       "4        0       3    2010       WD           Normal     189900  \n",
       "\n",
       "[5 rows x 82 columns]"
      ]
     },
     "execution_count": 3,
     "metadata": {},
     "output_type": "execute_result"
    }
   ],
   "source": [
    "df_housing.head()"
   ]
  },
  {
   "cell_type": "code",
   "execution_count": 4,
   "metadata": {
    "id": "KUH7-G6kkWiW"
   },
   "outputs": [],
   "source": [
    "X_train = df_housing[[\"Gr Liv Area\", \"Bedroom AbvGr\", \"Full Bath\"]]\n",
    "y_train = df_housing[\"SalePrice\"]"
   ]
  },
  {
   "cell_type": "code",
   "execution_count": 5,
   "metadata": {
    "colab": {
     "base_uri": "https://localhost:8080/"
    },
    "id": "sg3qZRtTkL_T",
    "outputId": "12091278-c932-4f9d-cacb-a96928f62eb5"
   },
   "outputs": [
    {
     "data": {
      "text/plain": [
       "(2930, 3)"
      ]
     },
     "execution_count": 5,
     "metadata": {},
     "output_type": "execute_result"
    }
   ],
   "source": [
    "X_train.shape"
   ]
  },
  {
   "cell_type": "code",
   "execution_count": 6,
   "metadata": {
    "colab": {
     "base_uri": "https://localhost:8080/"
    },
    "id": "gLEzWdEwQYgH",
    "outputId": "29842d70-ed7c-47c4-fee7-dcec71fdc036"
   },
   "outputs": [
    {
     "name": "stderr",
     "output_type": "stream",
     "text": [
      "c:\\users\\user1\\appdata\\local\\programs\\python\\python38-32\\lib\\site-packages\\sklearn\\base.py:445: UserWarning: X does not have valid feature names, but LinearRegression was fitted with feature names\n",
      "  warnings.warn(\n",
      "c:\\users\\user1\\appdata\\local\\programs\\python\\python38-32\\lib\\site-packages\\sklearn\\base.py:445: UserWarning: X does not have valid feature names, but StandardScaler was fitted with feature names\n",
      "  warnings.warn(\n"
     ]
    },
    {
     "data": {
      "text/plain": [
       "(array([217919.89318936]), array([229259.]))"
      ]
     },
     "execution_count": 6,
     "metadata": {},
     "output_type": "execute_result"
    }
   ],
   "source": [
    "from sklearn.linear_model import LinearRegression\n",
    "from sklearn.neighbors import KNeighborsRegressor\n",
    "from sklearn.preprocessing import StandardScaler\n",
    "from sklearn.pipeline import make_pipeline\n",
    "\n",
    "# Train linear regression model\n",
    "linear_model = LinearRegression()\n",
    "linear_model.fit(X=X_train, y=y_train)\n",
    "\n",
    "# Train 10-nearest neighbors model\n",
    "knn_model = make_pipeline(\n",
    "    StandardScaler(),\n",
    "    KNeighborsRegressor(n_neighbors=10)\n",
    ")\n",
    "knn_model.fit(X=X_train, y=y_train)\n",
    "\n",
    "# Predict for a 1500 sqft, 2BR/2BA house\n",
    "new_house = [[1500, 2, 2]]\n",
    "linear_model.predict(new_house), knn_model.predict(new_house)"
   ]
  },
  {
   "cell_type": "markdown",
   "metadata": {
    "id": "35wApV_nQYgI"
   },
   "source": [
    "The $k$-nearest neighbors model is more optimistic than the linear regression model. How should we combine these two predictions?"
   ]
  },
  {
   "cell_type": "markdown",
   "metadata": {
    "id": "CTO7cdaLQYgJ"
   },
   "source": [
    "## Voting\n",
    "\n",
    "The simplest ensemble method is _voting_. To apply voting to regression models, we simply average the predictions from the different models. So the predicted quality of the 1990 vintage is:"
   ]
  },
  {
   "cell_type": "code",
   "execution_count": 7,
   "metadata": {
    "colab": {
     "base_uri": "https://localhost:8080/"
    },
    "id": "J0PR5Nl_QYgK",
    "outputId": "ab67494d-fe4d-424d-a165-52593cf24ddc"
   },
   "outputs": [
    {
     "name": "stderr",
     "output_type": "stream",
     "text": [
      "c:\\users\\user1\\appdata\\local\\programs\\python\\python38-32\\lib\\site-packages\\sklearn\\base.py:445: UserWarning: X does not have valid feature names, but LinearRegression was fitted with feature names\n",
      "  warnings.warn(\n",
      "c:\\users\\user1\\appdata\\local\\programs\\python\\python38-32\\lib\\site-packages\\sklearn\\base.py:445: UserWarning: X does not have valid feature names, but StandardScaler was fitted with feature names\n",
      "  warnings.warn(\n"
     ]
    },
    {
     "data": {
      "text/plain": [
       "223589.44659468168"
      ]
     },
     "execution_count": 7,
     "metadata": {},
     "output_type": "execute_result"
    }
   ],
   "source": [
    "import numpy as np\n",
    "np.mean([\n",
    "    linear_model.predict(new_house),\n",
    "    knn_model.predict(new_house)\n",
    "])"
   ]
  },
  {
   "cell_type": "markdown",
   "metadata": {
    "id": "_F2Q4kccQYgL"
   },
   "source": [
    "We can also specify the voting ensemble in scikit-learn, using `VotingRegressor`."
   ]
  },
  {
   "cell_type": "code",
   "execution_count": 8,
   "metadata": {
    "colab": {
     "base_uri": "https://localhost:8080/"
    },
    "id": "bJiRqu8hQYgM",
    "outputId": "feb4910e-1997-4e47-8d95-476bf92189e0"
   },
   "outputs": [
    {
     "name": "stderr",
     "output_type": "stream",
     "text": [
      "c:\\users\\user1\\appdata\\local\\programs\\python\\python38-32\\lib\\site-packages\\sklearn\\base.py:445: UserWarning: X does not have valid feature names, but LinearRegression was fitted with feature names\n",
      "  warnings.warn(\n",
      "c:\\users\\user1\\appdata\\local\\programs\\python\\python38-32\\lib\\site-packages\\sklearn\\base.py:445: UserWarning: X does not have valid feature names, but StandardScaler was fitted with feature names\n",
      "  warnings.warn(\n"
     ]
    },
    {
     "data": {
      "text/plain": [
       "array([223589.44659468])"
      ]
     },
     "execution_count": 8,
     "metadata": {},
     "output_type": "execute_result"
    }
   ],
   "source": [
    "from sklearn.ensemble import VotingRegressor\n",
    "\n",
    "ensemble_model = VotingRegressor([\n",
    "    (\"linear\", linear_model), \n",
    "    (\"knn\", knn_model)\n",
    "])\n",
    "ensemble_model.fit(X=X_train, y=y_train)\n",
    "ensemble_model.predict(new_house)"
   ]
  },
  {
   "cell_type": "markdown",
   "metadata": {
    "id": "uGtipNQOQYgN"
   },
   "source": [
    "How good is this ensemble model? Is it better than each model individually? We let cross-validation decide."
   ]
  },
  {
   "cell_type": "code",
   "execution_count": 9,
   "metadata": {
    "colab": {
     "base_uri": "https://localhost:8080/"
    },
    "id": "IOafIIxlQYgO",
    "outputId": "417471b5-707d-4d8a-8e7f-c4ce1d9d5298"
   },
   "outputs": [
    {
     "name": "stdout",
     "output_type": "stream",
     "text": [
      "2694147782.5379305\n",
      "2439522560.792874\n",
      "2406101016.7570887\n"
     ]
    }
   ],
   "source": [
    "from sklearn.model_selection import cross_val_score\n",
    "\n",
    "for model in [linear_model, knn_model, ensemble_model]:\n",
    "    print(-cross_val_score(model, X=X_train, y=y_train, cv=5,\n",
    "                           scoring=\"neg_mean_squared_error\").mean())"
   ]
  },
  {
   "cell_type": "code",
   "execution_count": 10,
   "metadata": {
    "id": "SA6Sdvc-n2JZ"
   },
   "outputs": [
    {
     "data": {
      "text/plain": [
       "2390108928.9438057"
      ]
     },
     "execution_count": 10,
     "metadata": {},
     "output_type": "execute_result"
    }
   ],
   "source": [
    "2390108928.9438057"
   ]
  },
  {
   "cell_type": "markdown",
   "metadata": {
    "id": "DY7ezDuNQYgO"
   },
   "source": [
    "Remember that these errors are large because the metric is the mean *squared* error (MSE). To obtain a more interpretable metric, we can take the square root to obtain the RMSE. However, for the purposes of determining which model is best, we just need to know which value is smallest. The ensemble model has a lower MSE than either model individually, even though it simply averages the predictions from the two models. This example illustrates the power of ensembling."
   ]
  },
  {
   "cell_type": "markdown",
   "metadata": {
    "id": "6N7pAwUHQYgP"
   },
   "source": [
    "## Stacking\n",
    "\n",
    "In voting, every model's prediction gets equal weight (or at least a predefined weight, which can be specified using the `weights=` parameter of `VotingRegressor`). Another approach, called _stacking_ , learns the weights $c_1, \\ldots, c_M$ given to each of the $M$ models so that the predicted label \n",
    "\n",
    "$$ \\hat y = c_1 \\hat y_1 + \\ldots + c_M \\hat y_M $$\n",
    "\n",
    "is as close to the true label as possible. \n",
    "\n",
    "We already know how to fit a model of this form. We fit linear regression to predict the same label $y$, but the features are now the predictions $\\hat y_1, \\ldots, \\hat y_M$ from the individual models. \n",
    "\n",
    "For example, to learn the weights that should be given to the linear regression and 10-nearest neighbors models above, we first stack the predictions into an array with two columns."
   ]
  },
  {
   "cell_type": "code",
   "execution_count": 11,
   "metadata": {
    "colab": {
     "base_uri": "https://localhost:8080/"
    },
    "id": "qYjn3m3RQYgQ",
    "outputId": "43f3c1e5-1e70-4536-f1d4-e3910cf1bf5e"
   },
   "outputs": [
    {
     "data": {
      "text/plain": [
       "array([[179976.84549368, 161120.        ],\n",
       "       [119672.36873575, 108065.        ],\n",
       "       [141137.57264119, 135475.        ],\n",
       "       ...,\n",
       "       [ 98497.51467775, 124580.        ],\n",
       "       [178228.21435129, 134590.        ],\n",
       "       [247342.99092085, 262469.        ]])"
      ]
     },
     "execution_count": 11,
     "metadata": {},
     "output_type": "execute_result"
    }
   ],
   "source": [
    "preds = np.stack([\n",
    "    linear_model.predict(X_train), knn_model.predict(X_train)\n",
    "], axis=1)\n",
    "preds"
   ]
  },
  {
   "cell_type": "markdown",
   "metadata": {
    "id": "cstKfat9QYgR"
   },
   "source": [
    "Now, we train a linear regression model on these predictions."
   ]
  },
  {
   "cell_type": "code",
   "execution_count": 12,
   "metadata": {
    "colab": {
     "base_uri": "https://localhost:8080/"
    },
    "id": "JxA7p35DQYgR",
    "outputId": "34af7374-d0e5-4bd9-da41-9b2d4cbb4a74"
   },
   "outputs": [
    {
     "data": {
      "text/plain": [
       "LinearRegression()"
      ]
     },
     "execution_count": 12,
     "metadata": {},
     "output_type": "execute_result"
    }
   ],
   "source": [
    "stacker = LinearRegression()\n",
    "stacker.fit(X=preds, y=y_train)"
   ]
  },
  {
   "cell_type": "code",
   "execution_count": 13,
   "metadata": {
    "colab": {
     "base_uri": "https://localhost:8080/"
    },
    "id": "O7rK7I3AnPnF",
    "outputId": "81092557-1b3d-47a7-ecdf-46c2f555ecdd"
   },
   "outputs": [
    {
     "data": {
      "text/plain": [
       "array([-0.0370143 ,  1.02582633])"
      ]
     },
     "execution_count": 13,
     "metadata": {},
     "output_type": "execute_result"
    }
   ],
   "source": [
    "stacker.coef_"
   ]
  },
  {
   "cell_type": "markdown",
   "metadata": {
    "id": "-cBOI8QhQYgS"
   },
   "source": [
    "The description of stacking above, while conceptually correct, is not quite accurate. In practice, to prevent overfitting, each prediction in `preds` is calculated using a model that was trained on different data. This can be accomplished using an approach similar to cross-validation, but the details are beyond the scope of this book. Fortunately, scikit-learn handles most of the details."
   ]
  },
  {
   "cell_type": "code",
   "execution_count": 14,
   "metadata": {
    "colab": {
     "base_uri": "https://localhost:8080/"
    },
    "id": "yEgVEWUaQYgS",
    "outputId": "aef3f2bb-075b-4340-822e-522e26d1b33b"
   },
   "outputs": [
    {
     "data": {
      "text/plain": [
       "(158.2625358311343, array([0.30211487, 0.69810615]))"
      ]
     },
     "execution_count": 14,
     "metadata": {},
     "output_type": "execute_result"
    }
   ],
   "source": [
    "from sklearn.ensemble import StackingRegressor\n",
    "\n",
    "stacking_model = StackingRegressor([\n",
    "    (\"linear\", linear_model), \n",
    "    (\"knn\", knn_model)],\n",
    "    final_estimator=LinearRegression()\n",
    ")\n",
    "stacking_model.fit(X=X_train, y=y_train)\n",
    "\n",
    "stacker = stacking_model.final_estimator_\n",
    "stacker.intercept_, stacker.coef_"
   ]
  },
  {
   "cell_type": "markdown",
   "metadata": {
    "id": "4AO05gwrQYgS"
   },
   "source": [
    "In other words, the combined prediction is\n",
    "\n",
    "$$ \\widehat{\\text{SalePrice}} = 290.5 + 0.30 \\cdot (\\text{linear regression prediction}) + 0.70 \\cdot (\\text{$10$-nearest neighbors prediction}). $$\n",
    "\n",
    "Contrast this with voting, which gave equal weight (i.e., $0.50$) to the two predictions."
   ]
  },
  {
   "cell_type": "markdown",
   "metadata": {
    "id": "ea4jZeT3QYgT"
   },
   "source": [
    "How well does stacking do? Again, we use cross-validation to evaluate."
   ]
  },
  {
   "cell_type": "code",
   "execution_count": 15,
   "metadata": {
    "colab": {
     "base_uri": "https://localhost:8080/"
    },
    "id": "Y2EZywBIQYgT",
    "outputId": "40dc9a79-23e2-431e-8d8e-00c326dc5e4d"
   },
   "outputs": [
    {
     "data": {
      "text/plain": [
       "2390406380.4937963"
      ]
     },
     "execution_count": 15,
     "metadata": {},
     "output_type": "execute_result"
    }
   ],
   "source": [
    "-cross_val_score(stacking_model, X=X_train, y=y_train, cv=5,\n",
    "                 scoring=\"neg_mean_squared_error\").mean()"
   ]
  },
  {
   "cell_type": "markdown",
   "metadata": {
    "id": "SQCIkxZGQYgU"
   },
   "source": [
    "This is the best model we've seen so far. The error is even lower than the voting ensembler."
   ]
  },
  {
   "cell_type": "markdown",
   "metadata": {
    "id": "a_aKBaIUQYgU"
   },
   "source": [
    "## Some Intuition for Ensemble Methods\n",
    "\n",
    "Why do ensemble methods work so well? Let's consider a model with just one feature."
   ]
  },
  {
   "cell_type": "code",
   "execution_count": 16,
   "metadata": {
    "colab": {
     "base_uri": "https://localhost:8080/",
     "height": 279
    },
    "id": "UvBZ4bRnQYgV",
    "outputId": "3e1f1752-a0a3-448e-8662-e1358dc15be0"
   },
   "outputs": [
    {
     "data": {
      "image/png": "[encoded data removed]",
      "text/plain": [
       "<Figure size 432x288 with 1 Axes>"
      ]
     },
     "metadata": {
      "needs_background": "light"
     },
     "output_type": "display_data"
    }
   ],
   "source": [
    "df_housing.plot.scatter(x=\"Gr Liv Area\", y=\"SalePrice\", color=\"gray\")\n",
    "\n",
    "X_train = df_housing[[\"Gr Liv Area\"]]\n",
    "y_train = df_housing[\"SalePrice\"]\n",
    "\n",
    "for model in [LinearRegression(), \n",
    "              KNeighborsRegressor(n_neighbors=10), \n",
    "              ensemble_model]:\n",
    "    model.fit(X=X_train, y=y_train)\n",
    "    X_test = pd.DataFrame({\"Gr Liv Area\": np.arange(6000)})\n",
    "    predictions = pd.Series(\n",
    "        model.predict(X_test),\n",
    "        index=X_test[\"Gr Liv Area\"]\n",
    "    )\n",
    "    predictions.plot.line(legend=True, label=type(model).__name__)"
   ]
  },
  {
   "cell_type": "markdown",
   "metadata": {
    "id": "K5WLx2YLQYgV"
   },
   "source": [
    "We see that the ensemble model combines the best features of $k$-nearest neighbors and linear regression.\n",
    "\n",
    "- Like $k$-nearest neighbors, it is able to model nonlinear relationships (such as the pattern near 3000 sqft).\n",
    "- Like linear regression, it is able to extrapolate near the boundaries of the data range. (Contrast this with $k$-nearest neighbors, which produces predictions that are constant near the boundaries.)\n",
    "\n",
    "This is why the ensemble model is often superior to each model individually."
   ]
  }
 ],
 "metadata": {
  "colab": {
   "collapsed_sections": [],
   "name": "Ensemble_Regression.ipynb",
   "provenance": []
  },
  "kernelspec": {
   "display_name": "Python 3",
   "language": "python",
   "name": "python3"
  },
  "language_info": {
   "codemirror_mode": {
    "name": "ipython",
    "version": 3
   },
   "file_extension": ".py",
   "mimetype": "text/x-python",
   "name": "python",
   "nbconvert_exporter": "python",
   "pygments_lexer": "ipython3",
   "version": "3.8.2"
  }
 },
 "nbformat": 4,
 "nbformat_minor": 1
}
